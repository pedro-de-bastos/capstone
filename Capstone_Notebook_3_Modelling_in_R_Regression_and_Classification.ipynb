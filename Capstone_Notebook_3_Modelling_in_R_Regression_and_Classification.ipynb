{
  "nbformat": 4,
  "nbformat_minor": 0,
  "metadata": {
    "colab": {
      "name": "Capstone Notebook 3: Modelling in R - Regression and Classification.ipynb",
      "provenance": [],
      "authorship_tag": "ABX9TyPVfw4rQ4EyTuDZwGIOX+EE",
      "include_colab_link": true
    },
    "kernelspec": {
      "name": "ir",
      "display_name": "R"
    }
  },
  "cells": [
    {
      "cell_type": "markdown",
      "metadata": {
        "id": "view-in-github",
        "colab_type": "text"
      },
      "source": [
        "<a href=\"https://colab.research.google.com/github/pedro-de-bastos/Capstone/blob/master/Capstone_Notebook_3_Modelling_in_R_Regression_and_Classification.ipynb\" target=\"_parent\"><img src=\"https://colab.research.google.com/assets/colab-badge.svg\" alt=\"Open In Colab\"/></a>"
      ]
    },
    {
      "cell_type": "markdown",
      "metadata": {
        "id": "IrLxzquSgNJD"
      },
      "source": [
        "# Modelling in R - Regression and Classification"
      ]
    },
    {
      "cell_type": "markdown",
      "metadata": {
        "id": "d4CSUXW9og0n"
      },
      "source": [
        "By: Pedro Martins de Bastos"
      ]
    },
    {
      "cell_type": "markdown",
      "metadata": {
        "id": "E9KzdayBh95H"
      },
      "source": [
        "## Importing the Data"
      ]
    },
    {
      "cell_type": "markdown",
      "metadata": {
        "id": "C44Hj5AygWuw"
      },
      "source": [
        "The code below imports the data that has already been processed and saved in my google drive. Therefore, the \"creating CSVs\" section was only used to create that data in the first place, and now I only import the data to trian my models below."
      ]
    },
    {
      "cell_type": "code",
      "metadata": {
        "id": "vaDix0sfrQr0"
      },
      "source": [
        "## Clear the csv files\n",
        "files <- list.files(pattern = \"\\\\.csv$\")\n",
        "for (i in files){\n",
        "  unlink(i)\n",
        "}\n",
        "\n",
        "#\"Data\" corresponds to the CSV files with the judgement score results\n",
        "prof_talk_times <- function(data, inst_name){\n",
        "  data$Judgement = data$Score*data$Magnitude\n",
        "  files <- c('Class_1.1.csv', 'Class_1.2.csv', 'Class_2.1.csv', 'Class_2.2.csv', 'Class_3.1.csv', 'Class_3.2.csv', 'Class_4.1.csv', 'Class_4.2.csv', 'Class_5.1.csv', 'Class_5.2.csv', 'Class_6.2.csv', 'Class_7.1.csv', 'Class_7.2.csv', 'Class_8.1.csv', 'Class_8.2.csv', 'Class_9.1.csv', 'Class_9.2.csv', 'Class_10.1.csv', 'Class_10.2.csv')\n",
        "  means = c()\n",
        "  sds = c()\n",
        "  prof_talk_time = c()\n",
        "\n",
        "  for (i in files){\n",
        "    means <- c(means, mean(csv_to_mean_sd(i, inst_name)))\n",
        "    sds <- c(sds, sd(csv_to_mean_sd(i, inst_name)))\n",
        "    prof_talk_time <- c(prof_talk_time, prof_talk(i, inst_name))\n",
        "  }\n",
        "\n",
        "  data$Talk_Means = means\n",
        "  data$Talk_SDs = sds\n",
        "  data$Prof_Talk_Time = prof_talk_time\n",
        "\n",
        "  data$Prep.Mean[is.na(data$Prep.SD)] = 0\n",
        "  data$Prep.SD[is.na(data$Prep.SD)] = 0\n",
        "  data$Video.SD[is.na(data$Video.SD)] = 0\n",
        "  data$Video.Mean[is.na(data$Video.Mean)] = 0\n",
        "\n",
        "  data$Grades.Mean = data$Prep.Mean + data$Video.Mean\n",
        "  data$Grades.SD = data$Prep.SD + data$Video.SD\n",
        "\n",
        "  data = data[data$Grades.Mean != 0,]\n",
        "\n",
        "  return (data)\n",
        "}\n",
        "\n",
        "terrana = read.csv(\"https://docs.google.com/spreadsheets/d/e/2PACX-1vSXqU-zIOsWPPEB8w328WdNPVUJ9Z-9SJVpz68FWhGRW_KsSxXvf3u6154cwLB7b7NfQwK5CLZF09lE/pub?output=csv\")\n",
        "dosmann = read.csv(\"https://docs.google.com/spreadsheets/d/e/2PACX-1vQHL1HX6rjAObBwVnXoyXx8fZtMKo72KPZ8ZXiFTrWU2misiEuPCuYm6jbX-WWYIKbNqAzxtIa5JhIO/pub?output=csv\")\n",
        "mcallister = read.csv(\"https://docs.google.com/spreadsheets/d/e/2PACX-1vRUnJvneBbREz9JOEiIfhi_mNU07j2dZXNNx_TTZVeMpnD9zGjvPPAlh2Ip4k4t4yEh3JBCrSjF961X/pub?output=csv\")\n",
        "mcallister = mcallister[mcallister$Grades.Mean<5,]\n",
        "fiorelli = read.csv(\"https://docs.google.com/spreadsheets/d/e/2PACX-1vQiNPjHxocAMRIvIheSxvuHrw9kN9qlO-mnb9uQY4BSrGDnSP2yKAFtmWrYO9YEfvM8QaU-slY91A5k/pub?output=csv\")\n",
        "\n",
        "datas = list(terrana, dosmann, mcallister, fiorelli)\n",
        "\n",
        "for (i in datas){\n",
        "  dates = as.Date(i$Class.Date, \"%m/%d/%Y\")\n",
        "  numerics = as.numeric(dates)\n",
        "  i$Class.Date = numerics\n",
        "}\n",
        "\n",
        "\n",
        "#There were some inconsistencies and odd columns with the imported data, so here I do a clean-up:\n",
        "terrana = terrana[ , -which(names(terrana) %in% c(\"X.2\",\"X.1\", \"X\"))]\n",
        "terrana$Professor = \"Terrana\"\n",
        "\n",
        "mcallister = mcallister[ , -which(names(mcallister) %in% c(\"X.2\",\"X.1\", \"X\"))]\n",
        "mcallister = mcallister[,2:17]\n",
        "mcallister$Professor = \"McAllister\"\n",
        "\n",
        "fiorelli = fiorelli[ , -which(names(fiorelli) %in% c(\"X.2\",\"X.1\", \"X\"))]\n",
        "fiorelli$Professor = \"Fiorelli\"\n",
        "\n",
        "dosmann = dosmann[ , -which(names(dosmann) %in% c(\"X.2\",\"X.1\", \"X\"))]\n",
        "dosmann$Professor = \"Dosmann\"\n",
        "\n",
        "\n",
        "#Binding my final, completed dataset:\n",
        "foo = rbind(mcallister, terrana, dosmann, fiorelli)\n",
        "\n",
        "encoder <- function(string){\n",
        "  if (string == \"Terrana\"){\n",
        "    return (1)\n",
        "  } else if (string == \"Dosmann\"){\n",
        "    return (2)\n",
        "  } else if (string == \"Fiorelli\"){\n",
        "    return (3)\n",
        "  } else {\n",
        "    return (0)\n",
        "  }\n",
        "}\n",
        "\n",
        "foo$Prof.Code = sapply(foo$Professor, encoder)"
      ],
      "execution_count": null,
      "outputs": []
    },
    {
      "cell_type": "markdown",
      "metadata": {
        "id": "pPseMixArMLQ"
      },
      "source": [
        "## Creating CSVs "
      ]
    },
    {
      "cell_type": "code",
      "metadata": {
        "id": "mhO9MsNshduV"
      },
      "source": [
        "csv_to_mean_sd <- function(csv_name, inst_name){\n",
        "  foo = read.csv(csv_name)\n",
        "  names = unique(foo$Names)\n",
        "  names = names[names!=inst_name]\n",
        "  names = names[names!=\"\"]\n",
        "  talks <- c()\n",
        "  for (i in names){\n",
        "    subset = foo$Names==i\n",
        "    talktime = sum(foo[subset,2])\n",
        "    talks <- c(talks, talktime)\n",
        "  }\n",
        "  talks = talks[-1]\n",
        "  return(talks)\n",
        "}\n",
        "\n",
        "prof_talk <- function(csv_name, inst_name){\n",
        "  foo = read.csv(csv_name)\n",
        "  inst_talks = foo$Names==inst_name\n",
        "  return(sum(foo$Duration.Secs[inst_talks]))\n",
        "}\n"
      ],
      "execution_count": null,
      "outputs": []
    },
    {
      "cell_type": "code",
      "metadata": {
        "id": "hBcqKPNIVRWo"
      },
      "source": [
        "classes = c()\n",
        "\n",
        "for (i in 1:10){\n",
        "  for (j in 1:2){\n",
        "    class_num = sprintf(\"Class_%s.%s.csv\", i, j)\n",
        "    if (class_num != \"Class_6.1.csv\"){\n",
        "      classes = c(classes, class_num)\n",
        "    }\n",
        "  }\n",
        "}\n",
        "\n",
        "talk = c()\n",
        "for (i in classes){\n",
        "  talk = c(talk, prof_talk(i, \"Alex Terrana \"))\n",
        "}"
      ],
      "execution_count": null,
      "outputs": []
    },
    {
      "cell_type": "markdown",
      "metadata": {
        "id": "96hkhVSZY3KQ"
      },
      "source": [
        "# Genetic Matching All Professors"
      ]
    },
    {
      "cell_type": "code",
      "metadata": {
        "id": "ehppntMklSRW"
      },
      "source": [
        "##Installing required packages\n",
        "#install.packages(\"rbounds\")\n",
        "#install.packages(\"rgenoud\")\n",
        "library(rbounds)\n",
        "library(rgenoud)\n",
        "\n",
        "gen_matching_all <- function(csv, outcome){\n",
        "  ##Defining Treatment and Control\n",
        "  foo = csv\n",
        "\n",
        "  foo$Treat = foo$Judgement<(mean(foo$Judgement)-sd(foo$Judgement))\n",
        "\n",
        "  Y = as.numeric(unlist(foo[outcome]))\n",
        "  Tr = foo$Treat\n",
        "  dates = as.Date(foo$Class.Date, \"%m/%d/%Y\")\n",
        "  numerics = as.numeric(dates)\n",
        "  X = cbind(numerics, foo$Number.of.Students, foo$Grades.Mean, foo$Grades.SD, foo$Prof.Code)\n",
        "  exact_vec = c(FALSE, FALSE, FALSE, FALSE, TRUE) \n",
        "  genout = GenMatch(Tr=Tr, X=X, estimand = \"ATT\", print.level=0, pop.size = 1000, replace = TRUE, exact = exact_vec)\n",
        "  mout = Match(Tr = Tr, Y=Y, X=X, estimand = \"ATT\", replace = TRUE, Weight.matrix = genout, exact = exact_vec)\n",
        "\n",
        "  mb = MatchBalance(foo$Treat~numerics+foo$Number.of.Students+foo$Grades.Mean+foo$Grades.SD+foo$Prof.Code, match.out = mout, print.level=0)\n",
        "  smallestp = mb$AMsmallest.p.value\n",
        "  \n",
        "  print(mb$AMsmallest.p.value)\n",
        "  summary(mout)\n",
        "  return(mout)\n",
        "}"
      ],
      "execution_count": null,
      "outputs": []
    },
    {
      "cell_type": "code",
      "metadata": {
        "colab": {
          "base_uri": "https://localhost:8080/"
        },
        "id": "HD-Dju3olb-E",
        "outputId": "4843051f-9267-4e25-b6ae-90df671dc62c"
      },
      "source": [
        "gen_out = gen_matching_all(foo, \"Emojis_Handraises\")"
      ],
      "execution_count": null,
      "outputs": [
        {
          "output_type": "stream",
          "text": [
            "[1] 0.414\n",
            "\n",
            "Estimate...  -26.714 \n",
            "AI SE......  26.351 \n",
            "T-stat.....  -1.0138 \n",
            "p.val......  0.31068 \n",
            "\n",
            "Original number of observations..............  49 \n",
            "Original number of treated obs...............  7 \n",
            "Matched number of observations...............  7 \n",
            "Matched number of observations  (unweighted).  7 \n",
            "\n",
            "Number of obs dropped by 'exact' or 'caliper'  0 \n",
            "\n"
          ],
          "name": "stdout"
        }
      ]
    },
    {
      "cell_type": "markdown",
      "metadata": {
        "id": "CWYQ0bATngh9"
      },
      "source": [
        "## Sensitivity Test\n",
        "\n",
        "The Rosenbaum sensitivity test tells us how sensitive to latent variables a treatment effect is. In other words, when we do matching, we try to control any differences that we can see between two groups based on the *observed* covariates. This means that there may be *unobserved* covariates that have quite different values between the treatment and control groups. The sensitivity test asks the following question: how big would the difference in a covariate have to be to account for the treatment effect that we witness? If the difference has to be very big, it is unlikely that a hidden/unobserved/latent variable is causing it. If it is small, then we cannot be confident that the treatment effect we found, even if statistically significant, could not actually be caused by a hidden variable and not by the treatment."
      ]
    },
    {
      "cell_type": "code",
      "metadata": {
        "colab": {
          "base_uri": "https://localhost:8080/"
        },
        "id": "xM_Fy9t3WqjL",
        "outputId": "b7e08cd8-b442-4c71-a7eb-d1e6bc403b87"
      },
      "source": [
        "sens_lst = c()\n",
        "\n",
        "for (i in c(\"Talk_SDs\", \"Talk_Means\", \"Emojis_Handraises\")){\n",
        "  sens = psens(gen_matching_all(foo, i, -4.52))\n",
        "  sens_lst = c(sens_lst, sens)\n",
        "}\n"
      ],
      "execution_count": null,
      "outputs": [
        {
          "output_type": "stream",
          "text": [
            "[1] 0.2648154\n",
            "\n",
            "Estimate...  11.714 \n",
            "AI SE......  6.0832 \n",
            "T-stat.....  1.9257 \n",
            "p.val......  0.054144 \n",
            "\n",
            "Original number of observations..............  49 \n",
            "Original number of treated obs...............  7 \n",
            "Matched number of observations...............  7 \n",
            "Matched number of observations  (unweighted).  7 \n",
            "\n",
            "Number of obs dropped by 'exact' or 'caliper'  0 \n",
            "\n",
            "[1] 0.2648154\n",
            "\n",
            "Estimate...  7.1592 \n",
            "AI SE......  7.1579 \n",
            "T-stat.....  1.0002 \n",
            "p.val......  0.31722 \n",
            "\n",
            "Original number of observations..............  49 \n",
            "Original number of treated obs...............  7 \n",
            "Matched number of observations...............  7 \n",
            "Matched number of observations  (unweighted).  7 \n",
            "\n",
            "Number of obs dropped by 'exact' or 'caliper'  0 \n",
            "\n",
            "[1] 0.2648154\n",
            "\n",
            "Estimate...  -30.143 \n",
            "AI SE......  18.742 \n",
            "T-stat.....  -1.6083 \n",
            "p.val......  0.10777 \n",
            "\n",
            "Original number of observations..............  49 \n",
            "Original number of treated obs...............  7 \n",
            "Matched number of observations...............  7 \n",
            "Matched number of observations  (unweighted).  7 \n",
            "\n",
            "Number of obs dropped by 'exact' or 'caliper'  0 \n",
            "\n"
          ],
          "name": "stdout"
        }
      ]
    },
    {
      "cell_type": "code",
      "metadata": {
        "colab": {
          "base_uri": "https://localhost:8080/",
          "height": 1000
        },
        "id": "yR27XbGJt_Mr",
        "outputId": "67acd929-948a-4dcb-a067-bccf01b6bbd7"
      },
      "source": [
        "sens_lst"
      ],
      "execution_count": null,
      "outputs": [
        {
          "output_type": "display_data",
          "data": {
            "text/plain": [
              "$Gamma\n",
              "[1] 6\n",
              "\n",
              "$GammaInc\n",
              "[1] 1\n",
              "\n",
              "$pval\n",
              "[1] 0.0641\n",
              "\n",
              "$msg\n",
              "[1] \"Rosenbaum Sensitivity Test for Wilcoxon Signed Rank P-Value \\n\"\n",
              "\n",
              "$bounds\n",
              "  Gamma Lower bound Upper bound\n",
              "1     1      0.0641      0.0641\n",
              "2     2      0.0071      0.2186\n",
              "3     3      0.0009      0.3481\n",
              "4     4      0.0001      0.4496\n",
              "5     5      0.0000      0.5301\n",
              "6     6      0.0000      0.5954\n",
              "\n",
              "$note\n",
              "[1] \"Note: Gamma is Odds of Differential Assignment To\\n Treatment Due to Unobserved Factors \\n\"\n",
              "\n",
              "$Gamma\n",
              "[1] 6\n",
              "\n",
              "$GammaInc\n",
              "[1] 1\n",
              "\n",
              "$pval\n",
              "[1] 0.199\n",
              "\n",
              "$msg\n",
              "[1] \"Rosenbaum Sensitivity Test for Wilcoxon Signed Rank P-Value \\n\"\n",
              "\n",
              "$bounds\n",
              "  Gamma Lower bound Upper bound\n",
              "1     1      0.1990      0.1990\n",
              "2     2      0.0415      0.4762\n",
              "3     3      0.0096      0.6519\n",
              "4     4      0.0023      0.7637\n",
              "5     5      0.0006      0.8371\n",
              "6     6      0.0001      0.8864\n",
              "\n",
              "$note\n",
              "[1] \"Note: Gamma is Odds of Differential Assignment To\\n Treatment Due to Unobserved Factors \\n\"\n",
              "\n",
              "$Gamma\n",
              "[1] 6\n",
              "\n",
              "$GammaInc\n",
              "[1] 1\n",
              "\n",
              "$pval\n",
              "[1] 0.0881\n",
              "\n",
              "$msg\n",
              "[1] \"Rosenbaum Sensitivity Test for Wilcoxon Signed Rank P-Value \\n\"\n",
              "\n",
              "$bounds\n",
              "  Gamma Lower bound Upper bound\n",
              "1     1      0.0881      0.0881\n",
              "2     2      0.0116      0.2750\n",
              "3     3      0.0017      0.4226\n",
              "4     4      0.0003      0.5337\n",
              "5     5      0.0000      0.6188\n",
              "6     6      0.0000      0.6855\n",
              "\n",
              "$note\n",
              "[1] \"Note: Gamma is Odds of Differential Assignment To\\n Treatment Due to Unobserved Factors \\n\"\n"
            ],
            "text/latex": "\\begin{description}\n\\item[\\$Gamma] 6\n\\item[\\$GammaInc] 1\n\\item[\\$pval] 0.0641\n\\item[\\$msg] 'Rosenbaum Sensitivity Test for Wilcoxon Signed Rank P-Value \\textbackslash{}n'\n\\item[\\$bounds] A data.frame: 6 × 3\n\\begin{tabular}{lll}\n Gamma & Lower bound & Upper bound\\\\\n <dbl> & <dbl> & <dbl>\\\\\n\\hline\n\t 1 & 0.0641 & 0.0641\\\\\n\t 2 & 0.0071 & 0.2186\\\\\n\t 3 & 0.0009 & 0.3481\\\\\n\t 4 & 0.0001 & 0.4496\\\\\n\t 5 & 0.0000 & 0.5301\\\\\n\t 6 & 0.0000 & 0.5954\\\\\n\\end{tabular}\n\n\\item[\\$note] 'Note: Gamma is Odds of Differential Assignment To\\textbackslash{}n Treatment Due to Unobserved Factors \\textbackslash{}n'\n\\item[\\$Gamma] 6\n\\item[\\$GammaInc] 1\n\\item[\\$pval] 0.199\n\\item[\\$msg] 'Rosenbaum Sensitivity Test for Wilcoxon Signed Rank P-Value \\textbackslash{}n'\n\\item[\\$bounds] A data.frame: 6 × 3\n\\begin{tabular}{lll}\n Gamma & Lower bound & Upper bound\\\\\n <dbl> & <dbl> & <dbl>\\\\\n\\hline\n\t 1 & 0.1990 & 0.1990\\\\\n\t 2 & 0.0415 & 0.4762\\\\\n\t 3 & 0.0096 & 0.6519\\\\\n\t 4 & 0.0023 & 0.7637\\\\\n\t 5 & 0.0006 & 0.8371\\\\\n\t 6 & 0.0001 & 0.8864\\\\\n\\end{tabular}\n\n\\item[\\$note] 'Note: Gamma is Odds of Differential Assignment To\\textbackslash{}n Treatment Due to Unobserved Factors \\textbackslash{}n'\n\\item[\\$Gamma] 6\n\\item[\\$GammaInc] 1\n\\item[\\$pval] 0.0881\n\\item[\\$msg] 'Rosenbaum Sensitivity Test for Wilcoxon Signed Rank P-Value \\textbackslash{}n'\n\\item[\\$bounds] A data.frame: 6 × 3\n\\begin{tabular}{lll}\n Gamma & Lower bound & Upper bound\\\\\n <dbl> & <dbl> & <dbl>\\\\\n\\hline\n\t 1 & 0.0881 & 0.0881\\\\\n\t 2 & 0.0116 & 0.2750\\\\\n\t 3 & 0.0017 & 0.4226\\\\\n\t 4 & 0.0003 & 0.5337\\\\\n\t 5 & 0.0000 & 0.6188\\\\\n\t 6 & 0.0000 & 0.6855\\\\\n\\end{tabular}\n\n\\item[\\$note] 'Note: Gamma is Odds of Differential Assignment To\\textbackslash{}n Treatment Due to Unobserved Factors \\textbackslash{}n'\n\\end{description}\n",
            "text/markdown": "$Gamma\n:   6\n$GammaInc\n:   1\n$pval\n:   0.0641\n$msg\n:   'Rosenbaum Sensitivity Test for Wilcoxon Signed Rank P-Value \\n'\n$bounds\n:   \nA data.frame: 6 × 3\n\n| Gamma &lt;dbl&gt; | Lower bound &lt;dbl&gt; | Upper bound &lt;dbl&gt; |\n|---|---|---|\n| 1 | 0.0641 | 0.0641 |\n| 2 | 0.0071 | 0.2186 |\n| 3 | 0.0009 | 0.3481 |\n| 4 | 0.0001 | 0.4496 |\n| 5 | 0.0000 | 0.5301 |\n| 6 | 0.0000 | 0.5954 |\n\n\n$note\n:   'Note: Gamma is Odds of Differential Assignment To\\n Treatment Due to Unobserved Factors \\n'\n$Gamma\n:   6\n$GammaInc\n:   1\n$pval\n:   0.199\n$msg\n:   'Rosenbaum Sensitivity Test for Wilcoxon Signed Rank P-Value \\n'\n$bounds\n:   \nA data.frame: 6 × 3\n\n| Gamma &lt;dbl&gt; | Lower bound &lt;dbl&gt; | Upper bound &lt;dbl&gt; |\n|---|---|---|\n| 1 | 0.1990 | 0.1990 |\n| 2 | 0.0415 | 0.4762 |\n| 3 | 0.0096 | 0.6519 |\n| 4 | 0.0023 | 0.7637 |\n| 5 | 0.0006 | 0.8371 |\n| 6 | 0.0001 | 0.8864 |\n\n\n$note\n:   'Note: Gamma is Odds of Differential Assignment To\\n Treatment Due to Unobserved Factors \\n'\n$Gamma\n:   6\n$GammaInc\n:   1\n$pval\n:   0.0881\n$msg\n:   'Rosenbaum Sensitivity Test for Wilcoxon Signed Rank P-Value \\n'\n$bounds\n:   \nA data.frame: 6 × 3\n\n| Gamma &lt;dbl&gt; | Lower bound &lt;dbl&gt; | Upper bound &lt;dbl&gt; |\n|---|---|---|\n| 1 | 0.0881 | 0.0881 |\n| 2 | 0.0116 | 0.2750 |\n| 3 | 0.0017 | 0.4226 |\n| 4 | 0.0003 | 0.5337 |\n| 5 | 0.0000 | 0.6188 |\n| 6 | 0.0000 | 0.6855 |\n\n\n$note\n:   'Note: Gamma is Odds of Differential Assignment To\\n Treatment Due to Unobserved Factors \\n'\n\n\n",
            "text/html": [
              "<dl>\n",
              "\t<dt>$Gamma</dt>\n",
              "\t\t<dd>6</dd>\n",
              "\t<dt>$GammaInc</dt>\n",
              "\t\t<dd>1</dd>\n",
              "\t<dt>$pval</dt>\n",
              "\t\t<dd>0.0641</dd>\n",
              "\t<dt>$msg</dt>\n",
              "\t\t<dd>'Rosenbaum Sensitivity Test for Wilcoxon Signed Rank P-Value \\n'</dd>\n",
              "\t<dt>$bounds</dt>\n",
              "\t\t<dd><table class=\"dataframe\">\n",
              "<caption>A data.frame: 6 × 3</caption>\n",
              "<thead>\n",
              "\t<tr><th scope=col>Gamma</th><th scope=col>Lower bound</th><th scope=col>Upper bound</th></tr>\n",
              "\t<tr><th scope=col>&lt;dbl&gt;</th><th scope=col>&lt;dbl&gt;</th><th scope=col>&lt;dbl&gt;</th></tr>\n",
              "</thead>\n",
              "<tbody>\n",
              "\t<tr><td>1</td><td>0.0641</td><td>0.0641</td></tr>\n",
              "\t<tr><td>2</td><td>0.0071</td><td>0.2186</td></tr>\n",
              "\t<tr><td>3</td><td>0.0009</td><td>0.3481</td></tr>\n",
              "\t<tr><td>4</td><td>0.0001</td><td>0.4496</td></tr>\n",
              "\t<tr><td>5</td><td>0.0000</td><td>0.5301</td></tr>\n",
              "\t<tr><td>6</td><td>0.0000</td><td>0.5954</td></tr>\n",
              "</tbody>\n",
              "</table>\n",
              "</dd>\n",
              "\t<dt>$note</dt>\n",
              "\t\t<dd>'Note: Gamma is Odds of Differential Assignment To\\n Treatment Due to Unobserved Factors \\n'</dd>\n",
              "\t<dt>$Gamma</dt>\n",
              "\t\t<dd>6</dd>\n",
              "\t<dt>$GammaInc</dt>\n",
              "\t\t<dd>1</dd>\n",
              "\t<dt>$pval</dt>\n",
              "\t\t<dd>0.199</dd>\n",
              "\t<dt>$msg</dt>\n",
              "\t\t<dd>'Rosenbaum Sensitivity Test for Wilcoxon Signed Rank P-Value \\n'</dd>\n",
              "\t<dt>$bounds</dt>\n",
              "\t\t<dd><table class=\"dataframe\">\n",
              "<caption>A data.frame: 6 × 3</caption>\n",
              "<thead>\n",
              "\t<tr><th scope=col>Gamma</th><th scope=col>Lower bound</th><th scope=col>Upper bound</th></tr>\n",
              "\t<tr><th scope=col>&lt;dbl&gt;</th><th scope=col>&lt;dbl&gt;</th><th scope=col>&lt;dbl&gt;</th></tr>\n",
              "</thead>\n",
              "<tbody>\n",
              "\t<tr><td>1</td><td>0.1990</td><td>0.1990</td></tr>\n",
              "\t<tr><td>2</td><td>0.0415</td><td>0.4762</td></tr>\n",
              "\t<tr><td>3</td><td>0.0096</td><td>0.6519</td></tr>\n",
              "\t<tr><td>4</td><td>0.0023</td><td>0.7637</td></tr>\n",
              "\t<tr><td>5</td><td>0.0006</td><td>0.8371</td></tr>\n",
              "\t<tr><td>6</td><td>0.0001</td><td>0.8864</td></tr>\n",
              "</tbody>\n",
              "</table>\n",
              "</dd>\n",
              "\t<dt>$note</dt>\n",
              "\t\t<dd>'Note: Gamma is Odds of Differential Assignment To\\n Treatment Due to Unobserved Factors \\n'</dd>\n",
              "\t<dt>$Gamma</dt>\n",
              "\t\t<dd>6</dd>\n",
              "\t<dt>$GammaInc</dt>\n",
              "\t\t<dd>1</dd>\n",
              "\t<dt>$pval</dt>\n",
              "\t\t<dd>0.0881</dd>\n",
              "\t<dt>$msg</dt>\n",
              "\t\t<dd>'Rosenbaum Sensitivity Test for Wilcoxon Signed Rank P-Value \\n'</dd>\n",
              "\t<dt>$bounds</dt>\n",
              "\t\t<dd><table class=\"dataframe\">\n",
              "<caption>A data.frame: 6 × 3</caption>\n",
              "<thead>\n",
              "\t<tr><th scope=col>Gamma</th><th scope=col>Lower bound</th><th scope=col>Upper bound</th></tr>\n",
              "\t<tr><th scope=col>&lt;dbl&gt;</th><th scope=col>&lt;dbl&gt;</th><th scope=col>&lt;dbl&gt;</th></tr>\n",
              "</thead>\n",
              "<tbody>\n",
              "\t<tr><td>1</td><td>0.0881</td><td>0.0881</td></tr>\n",
              "\t<tr><td>2</td><td>0.0116</td><td>0.2750</td></tr>\n",
              "\t<tr><td>3</td><td>0.0017</td><td>0.4226</td></tr>\n",
              "\t<tr><td>4</td><td>0.0003</td><td>0.5337</td></tr>\n",
              "\t<tr><td>5</td><td>0.0000</td><td>0.6188</td></tr>\n",
              "\t<tr><td>6</td><td>0.0000</td><td>0.6855</td></tr>\n",
              "</tbody>\n",
              "</table>\n",
              "</dd>\n",
              "\t<dt>$note</dt>\n",
              "\t\t<dd>'Note: Gamma is Odds of Differential Assignment To\\n Treatment Due to Unobserved Factors \\n'</dd>\n",
              "</dl>\n"
            ]
          },
          "metadata": {
            "tags": []
          }
        }
      ]
    },
    {
      "cell_type": "markdown",
      "metadata": {
        "id": "Esuj78Vdv1wu"
      },
      "source": [
        "# Multiple Linear Regression"
      ]
    },
    {
      "cell_type": "code",
      "metadata": {
        "id": "GhTjqhot0Ip3",
        "colab": {
          "base_uri": "https://localhost:8080/"
        },
        "outputId": "771eac53-70ef-4cb9-8fbd-9ea63791633f"
      },
      "source": [
        "#Creating dummy variables for regression\n",
        "install.packages('fastDummies')\n",
        "library(fastDummies)\n",
        "dummies = dummy_cols(foo, select_columns='Professor')"
      ],
      "execution_count": 218,
      "outputs": [
        {
          "output_type": "stream",
          "text": [
            "Installing package into ‘/usr/local/lib/R/site-library’\n",
            "(as ‘lib’ is unspecified)\n",
            "\n"
          ],
          "name": "stderr"
        }
      ]
    },
    {
      "cell_type": "markdown",
      "metadata": {
        "id": "OMSsALABmIqp"
      },
      "source": [
        "Defining the regression models for each of the dependent variables:"
      ]
    },
    {
      "cell_type": "code",
      "metadata": {
        "id": "t-S8SEQK00La"
      },
      "source": [
        "linear_regression_engagement = lm(Emojis_Handraises~Professor_Dosmann+Professor_Fiorelli+Professor_Terrana+Professor_McAllister+Judgement+Number.of.Students+Prof_Talk_Time+Grades.Mean, data=dummies)\n",
        "linear_regression_talksd = lm(Talk_Means~Professor_Dosmann+Professor_Fiorelli+Professor_Terrana+Professor_McAllister+Judgement+Number.of.Students+Prof_Talk_Time+Grades.Mean, data=dummies)\n",
        "linear_regression_talkmean = lm(Talk_SDs~Professor_Dosmann+Professor_Fiorelli+Professor_Terrana+Professor_McAllister+Judgement+Number.of.Students+Prof_Talk_Time+Grades.Mean, data=dummies)"
      ],
      "execution_count": null,
      "outputs": []
    },
    {
      "cell_type": "markdown",
      "metadata": {
        "id": "W-TdgRN2mT04"
      },
      "source": [
        "Formatting the results to a CSV file (the table of results you can see in the Study 1 section of my main paper) showing the different coefficient estimated by the linear model, as well as the p-values:"
      ]
    },
    {
      "cell_type": "code",
      "metadata": {
        "id": "C3Eozocb1MV1"
      },
      "source": [
        "summary_engagement = summary(linear_regression_engagement)\n",
        "summary_talksd = summary(linear_regression_talksd)\n",
        "summary_talkmean = summary(linear_regression_talkmean)\n",
        "\n",
        "result_df = function(summary){\n",
        "  estimates = summary$coefficients[2:8, 1]\n",
        "  p_values = summary$coefficients[2:8, 4]\n",
        "\n",
        "  results = c()\n",
        "\n",
        "  for (i in 1:length(estimates)){\n",
        "    results = c(results, paste(\"Estimate:\", toString(round(estimates[i], 2)), \"seconds. P-value:\", toString(signif(p_values[i], 4))))\n",
        "  }\n",
        "\n",
        "  df = data.frame(t(results))\n",
        "  names(df) = names(estimates)\n",
        "  return(df)}\n",
        "\n",
        "final = rbind(result_df(summary_engagement), result_df(summary_talksd), result_df(summary_talkmean))\n",
        "row.names(final) <- c(\"Engagement\", \"Talk-Time Standard Deviation\", \"Average Talk Time\")\n",
        "\n",
        "all_names = names(final)\n",
        "all_names[1] = \"Prof 1\"\n",
        "all_names[2] = \"Prof 2\"\n",
        "all_names[3] = \"Prof 3\"\n",
        "\n",
        "names(final) = all_names\n",
        "write.csv(final, 'multiple_linear.csv')"
      ],
      "execution_count": null,
      "outputs": []
    },
    {
      "cell_type": "markdown",
      "metadata": {
        "id": "mwvKnVoqzQDX"
      },
      "source": [
        "# Comparing Regression Models"
      ]
    },
    {
      "cell_type": "code",
      "metadata": {
        "colab": {
          "base_uri": "https://localhost:8080/"
        },
        "id": "XSDS1t0CVmPc",
        "outputId": "e3139e5f-6c92-4235-f181-c0793805b4cb"
      },
      "source": [
        "#Installing the required packages:\n",
        "install.packages(\"xgboost\")\n",
        "install.packages(\"caret\")\n",
        "install.packages(\"e1071\")\n",
        "install.packages(\"Metrics\")"
      ],
      "execution_count": null,
      "outputs": [
        {
          "output_type": "stream",
          "text": [
            "Installing package into ‘/usr/local/lib/R/site-library’\n",
            "(as ‘lib’ is unspecified)\n",
            "\n",
            "Installing package into ‘/usr/local/lib/R/site-library’\n",
            "(as ‘lib’ is unspecified)\n",
            "\n",
            "Installing package into ‘/usr/local/lib/R/site-library’\n",
            "(as ‘lib’ is unspecified)\n",
            "\n",
            "Installing package into ‘/usr/local/lib/R/site-library’\n",
            "(as ‘lib’ is unspecified)\n",
            "\n"
          ],
          "name": "stderr"
        }
      ]
    },
    {
      "cell_type": "code",
      "metadata": {
        "id": "DEmuiYYyWpYT"
      },
      "source": [
        "#Separating the data into train and test\n",
        "library(xgboost)\n",
        "library(caret)\n",
        "library(e1071)\n",
        "\n",
        "models_data = cbind(dummies$Emojis_Handraises, dummies$Professor_Dosmann, dummies$Professor_Fiorelli, dummies$Professor_McAllister, dummies$Professor_Terrana, dummies$Judgement, dummies$Number.of.Students, dummies$Prof_Talk_Time, dummies$Grades.Mean)\n",
        "indexes = createDataPartition(models_data[,1], p=0.7, list=F)\n",
        "\n",
        "train = models_data[indexes, ]\n",
        "test = models_data[-indexes, ]\n",
        "\n",
        "#The linear model the the svm model work based on the column names of a data \n",
        "#frame, so for those models I have to format the data in a better way:\n",
        "lm_train = dummies[indexes,]\n",
        "lm_test = dummies[-indexes,]\n",
        "\n",
        "train_x = train[,-1]\n",
        "train_y = train[,1]\n",
        "\n",
        "test_x = test[,-1]\n",
        "test_y = test[,1]\n",
        "\n",
        "\n",
        "#XGBoost prefers its data to be in a DMatrix datatype, so I have to transform\n",
        "#the normal matrix data into a DMatrix:\n",
        "xgb_train = xgb.DMatrix(data=train_x, label = train_y)\n",
        "xgb_test = xgb.DMatrix(data=test_x, label = test_y)"
      ],
      "execution_count": null,
      "outputs": []
    },
    {
      "cell_type": "code",
      "metadata": {
        "colab": {
          "base_uri": "https://localhost:8080/"
        },
        "id": "oLGKUxfHXxnh",
        "outputId": "92595e24-74ff-43e1-fb8b-2d7de4dc0cee"
      },
      "source": [
        "library(Metrics)\n",
        "#Now that the data is prepped, we train the models!\n",
        "\n",
        "#Linear Model\n",
        "lm = lm(Emojis_Handraises~Professor_Dosmann+Professor_Fiorelli+Professor_Terrana+Judgement+Number.of.Students+Prof_Talk_Time+Grades.Mean, data=lm_train)\n",
        "pred_y = predict(lm, lm_test)\n",
        "print(paste(\"LM RMSE:\", rmse(pred_y, test_y)))\n",
        "print(paste(\"LM R^2:\", cor(pred_y, test_y)**2))\n",
        "\n",
        "#SVR Model\n",
        "modelsvm = svm(Emojis_Handraises~Professor_Dosmann+Professor_Fiorelli+Professor_Terrana+Professor_McAllister+Judgement+Number.of.Students+Prof_Talk_Time+Grades.Mean, data=dummies[indexes,])\n",
        "pred_y = predict(modelsvm, test_x)\n",
        "print(paste(\"SVR RMSE:\", rmse(pred_y, test_y)))\n",
        "print(paste(\"SVR R^2:\", cor(pred_y, test_y)**2))\n",
        "\n",
        "#XGBoost\n",
        "xgbc = xgboost(data = xgb_train, max.depth = 5, nrounds = 70, verbose = F)\n",
        "pred_y = predict(xgbc, xgb_test)\n",
        "print(paste(\"XGBoost RMSE:\", rmse(pred_y, test_y)))\n",
        "print(paste(\"XGBoost R^2:\", cor(pred_y, test_y)**2))"
      ],
      "execution_count": null,
      "outputs": [
        {
          "output_type": "stream",
          "text": [
            "[1] \"LM RMSE: 40.6786002054239\"\n",
            "[1] \"LM R^2: 0.470077666518796\"\n",
            "[1] \"SVR RMSE: 47.1311427014059\"\n",
            "[1] \"SVR R^2: 0.172071766527711\"\n",
            "[1] \"XGBoost RMSE: 62.7916160775662\"\n",
            "[1] \"XGBoost R^2: 0.0394071142061913\"\n"
          ],
          "name": "stdout"
        }
      ]
    },
    {
      "cell_type": "markdown",
      "metadata": {
        "id": "G4OO666GoSwK"
      },
      "source": [
        "## XGBoost: Visualizing regression feature importance"
      ]
    },
    {
      "cell_type": "code",
      "metadata": {
        "colab": {
          "base_uri": "https://localhost:8080/",
          "height": 437
        },
        "id": "PMgA-ZcY-jzg",
        "outputId": "4ed0924e-f923-454b-86d7-48719fafd0a1"
      },
      "source": [
        "importance_matrix <- xgb.importance(c(\"Pr1\", \"Pr2\", \"Pr3\", \"Pr4\", \"Sentiment\", \"N Students\", \"Date\", \"Avg Grade\"), model = xgbc)\n",
        "\n",
        "xgb.plot.importance(importance_matrix, rel_to_first = TRUE, xlab = \"Relative importance\")"
      ],
      "execution_count": null,
      "outputs": [
        {
          "output_type": "display_data",
          "data": {
            "image/png": "[encoded data removed]",
            "text/plain": [
              "plot without title"
            ]
          },
          "metadata": {
            "tags": [],
            "image/png": {
              "width": 420,
              "height": 420
            }
          }
        }
      ]
    },
    {
      "cell_type": "markdown",
      "metadata": {
        "id": "_yDegI8o1y32"
      },
      "source": [
        "# Comparing Classification Models"
      ]
    },
    {
      "cell_type": "code",
      "metadata": {
        "colab": {
          "base_uri": "https://localhost:8080/"
        },
        "id": "qhMUAwTw66i5",
        "outputId": "7308b0d4-8c6c-4411-bf5a-67da4784fea9"
      },
      "source": [
        "install.packages(\"nnet\")"
      ],
      "execution_count": null,
      "outputs": [
        {
          "output_type": "stream",
          "text": [
            "Installing package into ‘/usr/local/lib/R/site-library’\n",
            "(as ‘lib’ is unspecified)\n",
            "\n"
          ],
          "name": "stderr"
        }
      ]
    },
    {
      "cell_type": "code",
      "metadata": {
        "id": "VcvQkj7d11xn"
      },
      "source": [
        "library(xgboost)\n",
        "library(caret)\n",
        "library(e1071)\n",
        "library(nnet)\n",
        "\n",
        "\n",
        "\n",
        "models_data = cbind(as.numeric(sapply(foo$Professor, encoder)), foo$Emojis_Handraises, foo$Judgement, foo$Number.of.Students, foo$Prof_Talk_Time, foo$Grades.Mean)\n",
        "indexes = createDataPartition(models_data[,1], p=0.7, list=F)\n",
        "\n",
        "train = models_data[indexes, ]\n",
        "test = models_data[-indexes, ]\n",
        "\n",
        "lm_train = foo[indexes,]\n",
        "lm_test = foo[-indexes,]\n",
        "\n",
        "train_x = train[,-1]\n",
        "train_y = train[,1]\n",
        "\n",
        "test_x = test[,-1]\n",
        "test_y = test[,1]\n",
        "\n",
        "\n",
        "xgb_train = xgb.DMatrix(data=train_x, label = train_y)\n",
        "xgb_test = xgb.DMatrix(data=test_x, label = test_y)"
      ],
      "execution_count": null,
      "outputs": []
    },
    {
      "cell_type": "code",
      "metadata": {
        "colab": {
          "base_uri": "https://localhost:8080/"
        },
        "id": "PRz4JQCM_Oo7",
        "outputId": "d547cc12-4b48-44c8-eda9-ec282dcd3810"
      },
      "source": [
        "#LOGIT Model\n",
        "logit = nnet::multinom(as.numeric(sapply(Professor, encoder)) ~Emojis_Handraises+Judgement+Number.of.Students+Prof_Talk_Time+Grades.Mean, family=binomial, data=lm_train)\n",
        "logit_predict = predict(logit, lm_test)\n",
        "logit_accuracy = sum(logit_predict == test_y) / length(test_y)\n",
        "print(paste(\"Logit Accuracy:\", logit_accuracy))\n",
        "print(paste(\"Logit Recall\"), recall(logit_predict, test_y))\n",
        "\n",
        "#SVM Model\n",
        "svm_model = svm(as.numeric(sapply(Professor, encoder)) ~Emojis_Handraises+Judgement+Number.of.Students+Prof_Talk_Time+Grades.Mean, data=lm_train, type=\"C-classification\", kernel='linear')\n",
        "svm_predict = predict(svm_model, lm_test)\n",
        "svm_accuracy = sum(svm_predict == test_y) / length(test_y)\n",
        "print(paste(\"SVM Accuracy:\", svm_accuracy))\n",
        "print(paste(\"SVM Recall\"), recall(svm_predict, test_y))\n",
        "\n",
        "#XGBOOST Model\n",
        "xgbc = xgboost(data = xgb_train, max.depth = 5, nrounds = 70, verbose = F, num_class=4, objective=\"multi:softprob\")\n",
        "pred_prof = predict(xgbc, xgb_test, reshape=T)\n",
        "pred_prof = as.data.frame(pred_prof)\n",
        "colnames(pred_prof) = c(0:3)\n",
        "pred_prof$Prediction = apply(pred_prof,1,function(x) colnames(pred_prof)[which.max(x)])\n",
        "\n",
        "xgboost_accuracy = sum(pred_prof$Prediction == test_y) / length(test_y)\n",
        "print(paste(\"XGBoost Accuracy:\", xgboost_accuracy))"
      ],
      "execution_count": null,
      "outputs": [
        {
          "output_type": "stream",
          "text": [
            "# weights:  28 (18 variable)\n",
            "initial  value 49.906597 \n",
            "iter  10 value 32.534077\n",
            "iter  20 value 23.930002\n",
            "iter  30 value 23.077670\n",
            "iter  40 value 22.491584\n",
            "iter  50 value 22.424842\n",
            "iter  60 value 21.975471\n",
            "iter  70 value 19.365132\n",
            "iter  80 value 19.127144\n",
            "iter  90 value 19.051390\n",
            "iter 100 value 19.019688\n",
            "final  value 19.019688 \n",
            "stopped after 100 iterations\n",
            "[1] \"Logit Accuracy: 0.615384615384615\"\n",
            "[1] \"Logit Recall\"\n",
            "[1] \"SVM Accuracy: 0.615384615384615\"\n",
            "[1] \"SVM Recall\"\n",
            "[21:52:24] WARNING: amalgamation/../src/learner.cc:1061: Starting in XGBoost 1.3.0, the default evaluation metric used with the objective 'multi:softprob' was changed from 'merror' to 'mlogloss'. Explicitly set eval_metric if you'd like to restore the old behavior.\n",
            "[1] \"XGBoost Accuracy: 0.461538461538462\"\n"
          ],
          "name": "stdout"
        }
      ]
    },
    {
      "cell_type": "code",
      "metadata": {
        "colab": {
          "base_uri": "https://localhost:8080/",
          "height": 437
        },
        "id": "fiTmzsvaQO9-",
        "outputId": "3ddc9328-9e36-4c1d-91b3-4c8afe119875"
      },
      "source": [
        "importance_matrix <- xgb.importance(c(\"Emojis\", \"Sentiment\", \"N Students\", \"Date\", \"Avg Grade\"), model = xgbc)\n",
        "xgb.plot.importance(importance_matrix, rel_to_first = TRUE, xlab = \"Relative importance\")"
      ],
      "execution_count": null,
      "outputs": [
        {
          "output_type": "display_data",
          "data": {
            "image/png": "[encoded data removed]",
            "text/plain": [
              "plot without title"
            ]
          },
          "metadata": {
            "tags": [],
            "image/png": {
              "width": 420,
              "height": 420
            }
          }
        }
      ]
    }
  ]
}