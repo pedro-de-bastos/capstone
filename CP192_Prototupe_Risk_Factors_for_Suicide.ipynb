{
  "nbformat": 4,
  "nbformat_minor": 0,
  "metadata": {
    "colab": {
      "name": "CP192 Prototupe: Risk Factors for Suicide.ipynb",
      "provenance": [],
      "authorship_tag": "ABX9TyNKZ/P8a0msKf3HOtkQTGEo",
      "include_colab_link": true
    },
    "kernelspec": {
      "name": "python3",
      "display_name": "Python 3"
    }
  },
  "cells": [
    {
      "cell_type": "markdown",
      "metadata": {
        "id": "view-in-github",
        "colab_type": "text"
      },
      "source": [
        "<a href=\"https://colab.research.google.com/github/pedro-de-bastos/capstone/blob/master/CP192_Prototupe_Risk_Factors_for_Suicide.ipynb\" target=\"_parent\"><img src=\"https://colab.research.google.com/assets/colab-badge.svg\" alt=\"Open In Colab\"/></a>"
      ]
    },
    {
      "cell_type": "markdown",
      "metadata": {
        "id": "ldT0Z7u8Kf-O",
        "colab_type": "text"
      },
      "source": [
        "# CP192 Prototype: Risk Factors for Suicide\n",
        "\n",
        "The code below implements a KNeighbors classifier on a large dataset containing suicide rates for different countries, at different time periods. I used the relationship between age, gender, and suicide rate to create a predictor algorithm that should predict one's risk."
      ]
    },
    {
      "cell_type": "code",
      "metadata": {
        "id": "l27UgsVNAfDE",
        "colab_type": "code",
        "colab": {
          "base_uri": "https://localhost:8080/",
          "height": 106
        },
        "outputId": "bc73fddc-737d-4c45-c083-e8a23a771e8c"
      },
      "source": [
        "import pandas as pd\n",
        "from sklearn.neighbors import KNeighborsClassifier\n",
        "from sklearn.metrics import accuracy_score\n",
        "\n",
        "data = pd.read_csv(\"https://raw.githubusercontent.com/pedro-de-bastos/capstone/master/suicides.csv\")\n",
        "print(data.columns)\n",
        "data = data[['age', 'sex', 'suicides_no', 'HDI for year']]\n",
        "cont_col = data[['suicides_no', 'HDI for year']]\n",
        "cat_col = data[['age', 'sex']]\n",
        "cat_col = pd.get_dummies(cat_col)\n",
        "tbp = cont_col['suicides_no']\n",
        "\n",
        "X_train = cat_col[0:100]\n",
        "y_train = tbp[0:100]\n",
        "\n",
        "X_test = cat_col[100:]\n",
        "y_test = tbp[100:]\n",
        "\n",
        "knn = KNeighborsClassifier(n_neighbors=5)\n",
        "knn.fit(X_train, y_train)\n",
        "\n",
        "#Here I predict the classes in y based on my now trained model\n",
        "y_predict = knn.predict(X_test)\n",
        "\n",
        "#Finally, I print the accuracy score comparing predictions to actual classification\n",
        "print(accuracy_score(y_test, y_predict))"
      ],
      "execution_count": 53,
      "outputs": [
        {
          "output_type": "stream",
          "text": [
            "Index(['country', 'year', 'sex', 'age', 'suicides_no', 'population',\n",
            "       'suicides/100k pop', 'country-year', 'HDI for year',\n",
            "       ' gdp_for_year ($) ', 'gdp_per_capita ($)', 'generation'],\n",
            "      dtype='object')\n",
            "0.09011544011544012\n"
          ],
          "name": "stdout"
        }
      ]
    }
  ]
}