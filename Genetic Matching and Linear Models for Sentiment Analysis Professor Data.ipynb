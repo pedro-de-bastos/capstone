{
  "nbformat": 4,
  "nbformat_minor": 0,
  "metadata": {
    "colab": {
      "name": "R Notebook: Data Analysis for the Instructor Language Sentiment Project.ipynb",
      "provenance": [],
      "toc_visible": true,
      "authorship_tag": "ABX9TyOsYu4Rmz5xI8aM/v2wiSkJ",
      "include_colab_link": true
    },
    "kernelspec": {
      "name": "ir",
      "display_name": "R"
    }
  },
  "cells": [
    {
      "cell_type": "markdown",
      "metadata": {
        "id": "view-in-github",
        "colab_type": "text"
      },
      "source": [
        "<a href=\"https://colab.research.google.com/github/pedro-de-bastos/Capstone/blob/master/Genetic%20Matching%20and%20Linear%20Models%20for%20Sentiment%20Analysis%20Professor%20Data.ipynb\" target=\"_parent\"><img src=\"https://colab.research.google.com/assets/colab-badge.svg\" alt=\"Open In Colab\"/></a>"
      ]
    },
    {
      "cell_type": "code",
      "metadata": {
        "id": "OhLtiXKbou5j"
      },
      "source": [
        "## Clear the csv files\n",
        "files <- list.files(pattern = \"\\\\.csv$\")\n",
        "for (i in files){\n",
        "  unlink(i)\n",
        "}"
      ],
      "execution_count": null,
      "outputs": []
    },
    {
      "cell_type": "markdown",
      "metadata": {
        "id": "_TbfWab2rGwg"
      },
      "source": [
        "# Assistant Functions"
      ]
    },
    {
      "cell_type": "code",
      "metadata": {
        "id": "wvtHP7j3Nar1"
      },
      "source": [
        "#Importing Data\n",
        "mcallister = read.csv(\"https://docs.google.com/spreadsheets/d/e/2PACX-1vRRePaXIdFSa-WXiYgzl87iIxCR1d4E0JEFilXQnTkFdMe4UVHOyMmfNg-3D3A9Ou0UrpjIIm84Os8B/pub?output=csv\")\n",
        "terrana = read.csv(\"https://docs.google.com/spreadsheets/d/e/2PACX-1vQS-_ZQGjTFt0ZktHmqMpuETw-1QUyWKMF1oMnYDMlAle6ZUdO5fqcLWStrDXB92LoSOgxk09fclTMu/pub?output=csv\")\n",
        "dosmann = read.csv(\"https://docs.google.com/spreadsheets/d/e/2PACX-1vTEh7GtTQv7FcmWXG2XMRYfBoC5elUHzCGBvyheYuGrUUkAWQukiAW5x-oo2IsBiRWUfsTMqDjfWYZu/pub?output=csv\")\n",
        "fiorelli = read.csv(\"https://docs.google.com/spreadsheets/d/e/2PACX-1vQ12Q4mTk8b0cHKJ9w5K7TrSkjpfT-mKHJ7kJq213q_N_RsxMC1F686L-jXzCVnpQTcx6qzciPXj2vP/pub?output=csv\")"
      ],
      "execution_count": null,
      "outputs": []
    },
    {
      "cell_type": "markdown",
      "metadata": {
        "id": "pPseMixArMLQ"
      },
      "source": [
        "## Creating CSV"
      ]
    },
    {
      "cell_type": "code",
      "metadata": {
        "id": "mhO9MsNshduV"
      },
      "source": [
        "csv_to_mean_sd <- function(csv_name, inst_name){\n",
        "  foo = read.csv(csv_name)\n",
        "  names = unique(foo$Names)\n",
        "  names = names[names!=inst_name]\n",
        "  names = names[names!=\"\"]\n",
        "  talks <- c()\n",
        "  for (i in names){\n",
        "    subset = foo$Names==i\n",
        "    talktime = sum(foo[subset,2])\n",
        "    talks <- c(talks, talktime)\n",
        "  }\n",
        "  talks = talks[-1]\n",
        "  return(talks)\n",
        "}\n"
      ],
      "execution_count": null,
      "outputs": []
    },
    {
      "cell_type": "markdown",
      "metadata": {
        "id": "jdDpBFqlrOjn"
      },
      "source": [
        "### For Each Class A Prof. Teaches:"
      ]
    },
    {
      "cell_type": "code",
      "metadata": {
        "id": "vaDix0sfrQr0"
      },
      "source": [
        "#\"Data\" corresponds to the CSV files with the judgement score results\n",
        "\n",
        "prof_talk_times <- function(data, inst_name){\n",
        "  data$Judgement = data$Score*data$Magnitude\n",
        "  files <- c('Class_1.1.csv', 'Class_1.2.csv', 'Class_2.1.csv', 'Class_2.2.csv', 'Class_3.1.csv', 'Class_3.2.csv', 'Class_4.1.csv', 'Class_4.2.csv', 'Class_5.1.csv', 'Class_5.2.csv', 'Class_6.2.csv', 'Class_7.1.csv', 'Class_7.2.csv', 'Class_8.1.csv', 'Class_8.2.csv', 'Class_9.1.csv', 'Class_9.2.csv', 'Class_10.1.csv', 'Class_10.2.csv')\n",
        "  means = c()\n",
        "  sds = c()\n",
        "\n",
        "  for (i in files){\n",
        "    means <- c(means, mean(csv_to_mean_sd(i, inst_name)))\n",
        "    sds <- c(sds, sd(csv_to_mean_sd(i, inst_name)))\n",
        "  }\n",
        "\n",
        "  data$Talk_Means = means\n",
        "  data$Talk_SDs = sds\n",
        "  return (data)\n",
        "}\n"
      ],
      "execution_count": null,
      "outputs": []
    },
    {
      "cell_type": "markdown",
      "metadata": {
        "id": "Qug5cXVcfLbf"
      },
      "source": [
        "## Genetic Matching"
      ]
    },
    {
      "cell_type": "code",
      "metadata": {
        "id": "vF6kdnkafNsN"
      },
      "source": [
        "##Installing required packages\n",
        "#install.packages(\"rbounds\")\n",
        "#install.packages(\"rgenoud\")\n",
        "library(rbounds)\n",
        "library(rgenoud)\n",
        "\n",
        "gen_matching <- function(csv, outcome){\n",
        "  ##Defining Treatment and Control\n",
        "  foo = csv\n",
        "\n",
        "  #treat = foo$Judgement<(mean(foo$Judgement)-sd(foo$Judgement))\n",
        "  #control = foo$Judgement>(mean(foo$Judgement)-sd(foo$Judgement))\n",
        "  #vars = treat|control\n",
        "  #foo = foo[vars,]\n",
        "  foo$Treat = foo$Judgement<(mean(foo$Judgement)-sd(foo$Judgement))\n",
        "  foo$AvgGrade = mean(c(foo$Prep.Mean, foo$Video.Mean))\n",
        "  foo$AvgGradeSD = mean(c(foo$Video.SD, foo$Prep.SD))\n",
        "\n",
        "  for (i in 1:length(foo$Treat)){\n",
        "    if (is.na(foo$Video.Mean[i])){\n",
        "      foo$AvgGrade[i] = foo$Prep.Mean[i]\n",
        "    } else if (is.na(foo$Prep.Mean[i])){\n",
        "      foo$AvgGrade[i] = foo$Video.Mean[i]\n",
        "    } else {\n",
        "      foo$AvgGrade[i] = mean(c(foo$Prep.Mean[i], foo$Video.Mean[i]))\n",
        "    }\n",
        "  }\n",
        "\n",
        "  for (i in 1:length(foo$Treat)){\n",
        "    if (is.na(foo$Video.SD[i])){\n",
        "      foo$AvgGradeSD[i] = foo$Prep.SD[i]\n",
        "    } else if (is.na(foo$Prep.SD[i])){\n",
        "      foo$AvgGradeSD[i] = foo$Video.SD[i]\n",
        "    } else {\n",
        "      foo$AvgGradeSD[i] = mean(c(foo$Prep.SD[i], foo$Video.SD[i]))\n",
        "    }\n",
        "  }\n",
        "  foo = foo[!is.na(foo$AvgGrade),]\n",
        "\n",
        "  Y = as.numeric(unlist(foo[outcome]))\n",
        "  Tr = foo$Treat\n",
        "  dates = as.Date(foo$Class.Date, \"%m/%d/%Y\")\n",
        "  numerics = as.numeric(dates)\n",
        "  X = cbind(numerics, foo$Number.of.Students, foo$AvgGradeSD, foo$AvgGrade) \n",
        "  genout = GenMatch(Tr=Tr, X=X, estimand = \"ATT\", print.level=0, pop.size = 1000, replace = TRUE)\n",
        "  mout = Match(Tr = Tr, Y=Y, X=X, estimand = \"ATT\", replace = TRUE, Weight.matrix = genout)\n",
        "\n",
        "  mb = MatchBalance(foo$Treat~numerics+foo$Number.of.Students+foo$AvgGradeSD+foo$AvgGrade, match.out = mout, print.level=0)\n",
        "  smallestp = mb$AMsmallest.p.value\n",
        "  \n",
        "  print(mb$AMsmallest.p.value)\n",
        "  summary(mout)\n",
        "  return(mout)\n",
        "}"
      ],
      "execution_count": null,
      "outputs": []
    },
    {
      "cell_type": "markdown",
      "metadata": {
        "id": "4RzeEr0LyNJg"
      },
      "source": [
        "# Prof McAllister"
      ]
    },
    {
      "cell_type": "code",
      "metadata": {
        "id": "0fvHj6VQqUte"
      },
      "source": [
        "mcallister = read.csv(\"mcallister.csv\")"
      ],
      "execution_count": null,
      "outputs": []
    },
    {
      "cell_type": "markdown",
      "metadata": {
        "id": "xcE54xa4mTwi"
      },
      "source": [
        "## Building CSV File"
      ]
    },
    {
      "cell_type": "code",
      "metadata": {
        "id": "fM8AVfUzr-2g",
        "colab": {
          "base_uri": "https://localhost:8080/",
          "height": 95
        },
        "outputId": "fa30e4ff-9764-45d0-ee0a-63b5249596f5"
      },
      "source": [
        "mcallister = read_xlsx(\"McAllister_results.xlsx\")\n",
        "mcallister = prof_talk_times(mcallister, \"Katie McAllister \")"
      ],
      "execution_count": null,
      "outputs": [
        {
          "output_type": "error",
          "ename": "ERROR",
          "evalue": "ignored",
          "traceback": [
            "Error in read_xlsx(\"McAllister_results.xlsx\"): could not find function \"read_xlsx\"\nTraceback:\n"
          ]
        }
      ]
    },
    {
      "cell_type": "code",
      "metadata": {
        "id": "OyN4CLj87hml"
      },
      "source": [
        "##To \n",
        "\n",
        "foo = read.csv(\"emoji_hands.csv\")\n",
        "dates = unique(foo$Class.Date)\n",
        "dates = dates[-(1:7)]\n",
        "dates = rev(dates)\n",
        "foo = foo[foo$Class.Date %in% dates,]\n",
        "events <- c()\n",
        "for (i in dates){\n",
        "  events <- c(events, length(foo[foo$Class.Date==i,1]))\n",
        "}\n",
        "\n",
        "mcallister$Emojis_Handraises = events"
      ],
      "execution_count": null,
      "outputs": []
    },
    {
      "cell_type": "code",
      "metadata": {
        "id": "f5zefhRnwLN2"
      },
      "source": [
        "write.csv(mcallister, \"mcallister.csv\")"
      ],
      "execution_count": null,
      "outputs": []
    },
    {
      "cell_type": "markdown",
      "metadata": {
        "id": "p5CRiaqT7YzY"
      },
      "source": [
        "## Score Correlation Analysis"
      ]
    },
    {
      "cell_type": "markdown",
      "metadata": {
        "id": "j07Kxotxmpwb"
      },
      "source": [
        "### Emojis/Handraises\n"
      ]
    },
    {
      "cell_type": "code",
      "metadata": {
        "id": "TXeVouOtqYmi",
        "colab": {
          "base_uri": "https://localhost:8080/",
          "height": 334
        },
        "outputId": "4906bbef-97ff-411c-c23b-8b39970816be"
      },
      "source": [
        "mcallister_score_1 = lm(mcallister$Emojis_Handraises~mcallister$Score)\n",
        "summary(mcallister_score_1)\n",
        "summary(mcallister_score_1)$r.squared"
      ],
      "execution_count": null,
      "outputs": [
        {
          "output_type": "display_data",
          "data": {
            "text/plain": [
              "\n",
              "Call:\n",
              "lm(formula = mcallister$Emojis_Handraises ~ mcallister$Score)\n",
              "\n",
              "Residuals:\n",
              "    Min      1Q  Median      3Q     Max \n",
              "-34.207 -15.293  -1.655  17.293  53.345 \n",
              "\n",
              "Coefficients:\n",
              "                 Estimate Std. Error t value Pr(>|t|)    \n",
              "(Intercept)       108.655      9.975  10.893 4.36e-09 ***\n",
              "mcallister$Score  -72.759     50.204  -1.449    0.165    \n",
              "---\n",
              "Signif. codes:  0 ‘***’ 0.001 ‘**’ 0.01 ‘*’ 0.05 ‘.’ 0.1 ‘ ’ 1\n",
              "\n",
              "Residual standard error: 24.81 on 17 degrees of freedom\n",
              "Multiple R-squared:   0.11,\tAdjusted R-squared:  0.05761 \n",
              "F-statistic:   2.1 on 1 and 17 DF,  p-value: 0.1655\n"
            ]
          },
          "metadata": {
            "tags": []
          }
        },
        {
          "output_type": "display_data",
          "data": {
            "text/plain": [
              "[1] 0.109963"
            ],
            "text/latex": "0.109962975182925",
            "text/markdown": "0.109962975182925",
            "text/html": [
              "0.109962975182925"
            ]
          },
          "metadata": {
            "tags": []
          }
        }
      ]
    },
    {
      "cell_type": "markdown",
      "metadata": {
        "id": "iBTIwKvxmxQr"
      },
      "source": [
        "### Talk Time Mean"
      ]
    },
    {
      "cell_type": "code",
      "metadata": {
        "id": "BQHsLcLiq0oV",
        "colab": {
          "base_uri": "https://localhost:8080/",
          "height": 334
        },
        "outputId": "1d5f0d0a-26d0-4122-b6c1-3a82a0bba5b4"
      },
      "source": [
        "mcallister_score_2 = lm(mcallister$Talk_Means~mcallister$Score)\n",
        "summary(mcallister_score_2)\n",
        "summary(mcallister_score_2)$r.squared"
      ],
      "execution_count": null,
      "outputs": [
        {
          "output_type": "display_data",
          "data": {
            "text/plain": [
              "\n",
              "Call:\n",
              "lm(formula = mcallister$Talk_Means ~ mcallister$Score)\n",
              "\n",
              "Residuals:\n",
              "    Min      1Q  Median      3Q     Max \n",
              "-45.200 -22.273  -3.517  12.628 108.582 \n",
              "\n",
              "Coefficients:\n",
              "                 Estimate Std. Error t value Pr(>|t|)    \n",
              "(Intercept)        150.27      14.57  10.316  9.8e-09 ***\n",
              "mcallister$Score    60.63      73.32   0.827     0.42    \n",
              "---\n",
              "Signif. codes:  0 ‘***’ 0.001 ‘**’ 0.01 ‘*’ 0.05 ‘.’ 0.1 ‘ ’ 1\n",
              "\n",
              "Residual standard error: 36.23 on 17 degrees of freedom\n",
              "Multiple R-squared:  0.03867,\tAdjusted R-squared:  -0.01788 \n",
              "F-statistic: 0.6839 on 1 and 17 DF,  p-value: 0.4197\n"
            ]
          },
          "metadata": {
            "tags": []
          }
        },
        {
          "output_type": "display_data",
          "data": {
            "text/plain": [
              "[1] 0.03867207"
            ],
            "text/latex": "0.0386720685130579",
            "text/markdown": "0.0386720685130579",
            "text/html": [
              "0.0386720685130579"
            ]
          },
          "metadata": {
            "tags": []
          }
        }
      ]
    },
    {
      "cell_type": "markdown",
      "metadata": {
        "id": "r8EftXZpm0ek"
      },
      "source": [
        "### Talk Time SD"
      ]
    },
    {
      "cell_type": "code",
      "metadata": {
        "id": "jzWjwLBiq_5c",
        "colab": {
          "base_uri": "https://localhost:8080/",
          "height": 334
        },
        "outputId": "e9bb998f-d76c-4721-bd1d-c50720937556"
      },
      "source": [
        "mcallister_score_3 = lm(mcallister$Talk_SDs~mcallister$Score)\n",
        "summary(mcallister_score_3)\n",
        "summary(mcallister_score_3)$r.squared"
      ],
      "execution_count": null,
      "outputs": [
        {
          "output_type": "display_data",
          "data": {
            "text/plain": [
              "\n",
              "Call:\n",
              "lm(formula = mcallister$Talk_SDs ~ mcallister$Score)\n",
              "\n",
              "Residuals:\n",
              "   Min     1Q Median     3Q    Max \n",
              "-68.94 -43.41 -22.00   4.76 350.39 \n",
              "\n",
              "Coefficients:\n",
              "                 Estimate Std. Error t value Pr(>|t|)   \n",
              "(Intercept)        130.89      36.98   3.540  0.00252 **\n",
              "mcallister$Score   173.97     186.10   0.935  0.36298   \n",
              "---\n",
              "Signif. codes:  0 ‘***’ 0.001 ‘**’ 0.01 ‘*’ 0.05 ‘.’ 0.1 ‘ ’ 1\n",
              "\n",
              "Residual standard error: 91.97 on 17 degrees of freedom\n",
              "Multiple R-squared:  0.04889,\tAdjusted R-squared:  -0.007057 \n",
              "F-statistic: 0.8739 on 1 and 17 DF,  p-value: 0.363\n"
            ]
          },
          "metadata": {
            "tags": []
          }
        },
        {
          "output_type": "display_data",
          "data": {
            "text/plain": [
              "[1] 0.04889023"
            ],
            "text/latex": "0.0488902268237415",
            "text/markdown": "0.0488902268237415",
            "text/html": [
              "0.0488902268237415"
            ]
          },
          "metadata": {
            "tags": []
          }
        }
      ]
    },
    {
      "cell_type": "markdown",
      "metadata": {
        "id": "yJwl2uLjmf2c"
      },
      "source": [
        "## Magnitude Analysis"
      ]
    },
    {
      "cell_type": "markdown",
      "metadata": {
        "id": "XRbm4NaXm4dD"
      },
      "source": [
        "### Emojis/Handraises\n"
      ]
    },
    {
      "cell_type": "code",
      "metadata": {
        "id": "egnlAtShrYfu",
        "colab": {
          "base_uri": "https://localhost:8080/",
          "height": 318
        },
        "outputId": "296aa93f-af55-425a-d1ad-376a41369ccc"
      },
      "source": [
        "mcallister_mag_1 = lm(mcallister$Emojis_Handraises~mcallister$Magnitude)\n",
        "summary(mcallister_mag_1)"
      ],
      "execution_count": null,
      "outputs": [
        {
          "output_type": "display_data",
          "data": {
            "text/plain": [
              "\n",
              "Call:\n",
              "lm(formula = mcallister$Emojis_Handraises ~ mcallister$Magnitude)\n",
              "\n",
              "Residuals:\n",
              "    Min      1Q  Median      3Q     Max \n",
              "-24.641 -14.043  -5.245  15.255  31.572 \n",
              "\n",
              "Coefficients:\n",
              "                     Estimate Std. Error t value Pr(>|t|)    \n",
              "(Intercept)            62.025     15.065   4.117 0.000720 ***\n",
              "mcallister$Magnitude    8.002      1.975   4.052 0.000829 ***\n",
              "---\n",
              "Signif. codes:  0 ‘***’ 0.001 ‘**’ 0.01 ‘*’ 0.05 ‘.’ 0.1 ‘ ’ 1\n",
              "\n",
              "Residual standard error: 18.76 on 17 degrees of freedom\n",
              "Multiple R-squared:  0.4913,\tAdjusted R-squared:  0.4614 \n",
              "F-statistic: 16.42 on 1 and 17 DF,  p-value: 0.0008285\n"
            ]
          },
          "metadata": {
            "tags": []
          }
        }
      ]
    },
    {
      "cell_type": "markdown",
      "metadata": {
        "id": "itoNFekDm4dF"
      },
      "source": [
        "### Talk Time Mean"
      ]
    },
    {
      "cell_type": "code",
      "metadata": {
        "id": "0TefzS45r2ZF",
        "colab": {
          "base_uri": "https://localhost:8080/",
          "height": 318
        },
        "outputId": "42f8e264-1f69-44c7-9ced-92e84086ec74"
      },
      "source": [
        "mcallister_mag_2 = lm(mcallister$Talk_Means~mcallister$Magnitude)\n",
        "summary(mcallister_mag_2)"
      ],
      "execution_count": null,
      "outputs": [
        {
          "output_type": "display_data",
          "data": {
            "text/plain": [
              "\n",
              "Call:\n",
              "lm(formula = mcallister$Talk_Means ~ mcallister$Magnitude)\n",
              "\n",
              "Residuals:\n",
              "    Min      1Q  Median      3Q     Max \n",
              "-47.062 -21.691  -7.576   9.578 112.875 \n",
              "\n",
              "Coefficients:\n",
              "                     Estimate Std. Error t value Pr(>|t|)    \n",
              "(Intercept)          139.0228    29.6793   4.684 0.000213 ***\n",
              "mcallister$Magnitude   0.1849     3.8907   0.048 0.962641    \n",
              "---\n",
              "Signif. codes:  0 ‘***’ 0.001 ‘**’ 0.01 ‘*’ 0.05 ‘.’ 0.1 ‘ ’ 1\n",
              "\n",
              "Residual standard error: 36.95 on 17 degrees of freedom\n",
              "Multiple R-squared:  0.0001329,\tAdjusted R-squared:  -0.05868 \n",
              "F-statistic: 0.00226 on 1 and 17 DF,  p-value: 0.9626\n"
            ]
          },
          "metadata": {
            "tags": []
          }
        }
      ]
    },
    {
      "cell_type": "markdown",
      "metadata": {
        "id": "ROfqxOlUm4dH"
      },
      "source": [
        "### Talk Time SD"
      ]
    },
    {
      "cell_type": "code",
      "metadata": {
        "id": "eUWvKsrksCvb",
        "colab": {
          "base_uri": "https://localhost:8080/",
          "height": 318
        },
        "outputId": "8a05e6b4-0f65-474a-9032-9db9cb82f19c"
      },
      "source": [
        "mcallister_mag_3 = lm(mcallister$Talk_SDs~mcallister$Magnitude)\n",
        "summary(mcallister_mag_3)"
      ],
      "execution_count": null,
      "outputs": [
        {
          "output_type": "display_data",
          "data": {
            "text/plain": [
              "\n",
              "Call:\n",
              "lm(formula = mcallister$Talk_SDs ~ mcallister$Magnitude)\n",
              "\n",
              "Residuals:\n",
              "   Min     1Q Median     3Q    Max \n",
              "-76.43 -43.07 -14.78  12.32 341.78 \n",
              "\n",
              "Coefficients:\n",
              "                     Estimate Std. Error t value Pr(>|t|)  \n",
              "(Intercept)           159.585     74.354   2.146   0.0466 *\n",
              "mcallister$Magnitude   -7.807      9.747  -0.801   0.4342  \n",
              "---\n",
              "Signif. codes:  0 ‘***’ 0.001 ‘**’ 0.01 ‘*’ 0.05 ‘.’ 0.1 ‘ ’ 1\n",
              "\n",
              "Residual standard error: 92.57 on 17 degrees of freedom\n",
              "Multiple R-squared:  0.03637,\tAdjusted R-squared:  -0.02032 \n",
              "F-statistic: 0.6416 on 1 and 17 DF,  p-value: 0.4342\n"
            ]
          },
          "metadata": {
            "tags": []
          }
        }
      ]
    },
    {
      "cell_type": "markdown",
      "metadata": {
        "id": "hL7WxVeTmmHz"
      },
      "source": [
        "## Judgement Analysis"
      ]
    },
    {
      "cell_type": "markdown",
      "metadata": {
        "id": "b_B7aNpCsTMl"
      },
      "source": [
        "### Emojis/Handraises\n"
      ]
    },
    {
      "cell_type": "code",
      "metadata": {
        "id": "dfpG4-WhsTMm",
        "colab": {
          "base_uri": "https://localhost:8080/",
          "height": 319
        },
        "outputId": "b8495bdf-25d8-4465-e9e6-39354400a868"
      },
      "source": [
        "mcallister_judge_1 = lm(mcallister$Emojis_Handraises~mcallister$Judgement)\n",
        "summary(mcallister_judge_1)"
      ],
      "execution_count": null,
      "outputs": [
        {
          "output_type": "display_data",
          "data": {
            "text/plain": [
              "\n",
              "Call:\n",
              "lm(formula = mcallister$Emojis_Handraises ~ mcallister$Judgement)\n",
              "\n",
              "Residuals:\n",
              "    Min      1Q  Median      3Q     Max \n",
              "-29.914 -15.979  -1.721  12.079  56.279 \n",
              "\n",
              "Coefficients:\n",
              "                     Estimate Std. Error t value Pr(>|t|)    \n",
              "(Intercept)           105.721      8.213  12.872 3.42e-10 ***\n",
              "mcallister$Judgement  -11.181      4.773  -2.343   0.0316 *  \n",
              "---\n",
              "Signif. codes:  0 ‘***’ 0.001 ‘**’ 0.01 ‘*’ 0.05 ‘.’ 0.1 ‘ ’ 1\n",
              "\n",
              "Residual standard error: 22.86 on 17 degrees of freedom\n",
              "Multiple R-squared:  0.244,\tAdjusted R-squared:  0.1996 \n",
              "F-statistic: 5.488 on 1 and 17 DF,  p-value: 0.03157\n"
            ]
          },
          "metadata": {
            "tags": []
          }
        }
      ]
    },
    {
      "cell_type": "markdown",
      "metadata": {
        "id": "xgc4UWv_sTMq"
      },
      "source": [
        "### Talk Time Mean"
      ]
    },
    {
      "cell_type": "code",
      "metadata": {
        "id": "6U5u3NZUsTMr",
        "colab": {
          "base_uri": "https://localhost:8080/",
          "height": 319
        },
        "outputId": "31e883d8-516b-46fb-b2dd-8572762f72f4"
      },
      "source": [
        "mcallister_judge_2 = lm(mcallister$Talk_Means~mcallister$Judgement)\n",
        "summary(mcallister_judge_2)"
      ],
      "execution_count": null,
      "outputs": [
        {
          "output_type": "display_data",
          "data": {
            "text/plain": [
              "\n",
              "Call:\n",
              "lm(formula = mcallister$Talk_Means ~ mcallister$Judgement)\n",
              "\n",
              "Residuals:\n",
              "    Min      1Q  Median      3Q     Max \n",
              "-48.746 -21.166  -1.841  11.127 108.219 \n",
              "\n",
              "Coefficients:\n",
              "                     Estimate Std. Error t value Pr(>|t|)    \n",
              "(Intercept)           146.951     13.111  11.208 2.84e-09 ***\n",
              "mcallister$Judgement    4.966      7.619   0.652    0.523    \n",
              "---\n",
              "Signif. codes:  0 ‘***’ 0.001 ‘**’ 0.01 ‘*’ 0.05 ‘.’ 0.1 ‘ ’ 1\n",
              "\n",
              "Residual standard error: 36.5 on 17 degrees of freedom\n",
              "Multiple R-squared:  0.02438,\tAdjusted R-squared:  -0.03301 \n",
              "F-statistic: 0.4248 on 1 and 17 DF,  p-value: 0.5233\n"
            ]
          },
          "metadata": {
            "tags": []
          }
        }
      ]
    },
    {
      "cell_type": "markdown",
      "metadata": {
        "id": "ATMs77tksTMt"
      },
      "source": [
        "### Talk Time SD"
      ]
    },
    {
      "cell_type": "code",
      "metadata": {
        "id": "A2UjUIPusTMu",
        "colab": {
          "base_uri": "https://localhost:8080/",
          "height": 319
        },
        "outputId": "777f0eae-85ca-4f50-ed17-e193ad1de84d"
      },
      "source": [
        "mcallister_judge_3 = lm(mcallister$Talk_SDs~mcallister$Judgement)\n",
        "summary(mcallister_judge_3)"
      ],
      "execution_count": null,
      "outputs": [
        {
          "output_type": "display_data",
          "data": {
            "text/plain": [
              "\n",
              "Call:\n",
              "lm(formula = mcallister$Talk_SDs ~ mcallister$Judgement)\n",
              "\n",
              "Residuals:\n",
              "   Min     1Q Median     3Q    Max \n",
              "-70.66 -42.33 -18.31   9.61 345.47 \n",
              "\n",
              "Coefficients:\n",
              "                     Estimate Std. Error t value Pr(>|t|)   \n",
              "(Intercept)            127.46      32.95   3.868  0.00123 **\n",
              "mcallister$Judgement    18.84      19.15   0.984  0.33889   \n",
              "---\n",
              "Signif. codes:  0 ‘***’ 0.001 ‘**’ 0.01 ‘*’ 0.05 ‘.’ 0.1 ‘ ’ 1\n",
              "\n",
              "Residual standard error: 91.73 on 17 degrees of freedom\n",
              "Multiple R-squared:  0.05389,\tAdjusted R-squared:  -0.00176 \n",
              "F-statistic: 0.9684 on 1 and 17 DF,  p-value: 0.3389\n"
            ]
          },
          "metadata": {
            "tags": []
          }
        }
      ]
    },
    {
      "cell_type": "markdown",
      "metadata": {
        "id": "k2Sp2442xNl8"
      },
      "source": [
        "## Plots"
      ]
    },
    {
      "cell_type": "code",
      "metadata": {
        "id": "zpYq2xCJxNAz",
        "colab": {
          "base_uri": "https://localhost:8080/",
          "height": 437
        },
        "outputId": "5d13a17b-f95c-4280-ef1d-0d602bf7c2e3"
      },
      "source": [
        "par(mfrow=c(3,3))\n",
        "\n",
        "#Score\n",
        "plot(mcallister$Emojis_Handraises~mcallister$Score)\n",
        "abline(mcallister_score_1)\n",
        "\n",
        "plot(mcallister$Talk_Means~mcallister$Score)\n",
        "abline(mcallister_score_2)\n",
        "\n",
        "plot(mcallister$Talk_SDs~mcallister$Score)\n",
        "abline(mcallister_score_3)\n",
        "\n",
        "#Magnitude\n",
        "plot(mcallister$Emojis_Handraises~mcallister$Magnitude)\n",
        "abline(mcallister_mag_1)\n",
        "\n",
        "plot(mcallister$Talk_Means~mcallister$Magnitude)\n",
        "abline(mcallister_mag_2)\n",
        "\n",
        "plot(mcallister$Talk_SDs~mcallister$Magnitude)\n",
        "abline(mcallister_mag_3)\n",
        "\n",
        "#Judgement\n",
        "plot(mcallister$Emojis_Handraises~mcallister$Judgement)\n",
        "abline(mcallister_judge_1)\n",
        "\n",
        "plot(mcallister$Talk_Means~mcallister$Judgement)\n",
        "abline(mcallister_judge_2)\n",
        "\n",
        "plot(mcallister$Talk_SDs~mcallister$Judgement)\n",
        "abline(mcallister_judge_3)"
      ],
      "execution_count": null,
      "outputs": [
        {
          "output_type": "display_data",
          "data": {
            "image/png": "[encoded data removed]",
            "text/plain": [
              "plot without title"
            ]
          },
          "metadata": {
            "tags": [],
            "image/png": {
              "width": 420,
              "height": 420
            },
            "text/plain": {
              "width": 420,
              "height": 420
            }
          }
        }
      ]
    },
    {
      "cell_type": "markdown",
      "metadata": {
        "id": "0iEWVoMqbgU1"
      },
      "source": [
        "## Genetic Matching and Causation"
      ]
    },
    {
      "cell_type": "markdown",
      "metadata": {
        "id": "LUqbiHVHq6zl"
      },
      "source": [
        "### Effect of Judgement on Talk-Time SD"
      ]
    },
    {
      "cell_type": "code",
      "metadata": {
        "id": "U60Y9sjgbyjn",
        "colab": {
          "base_uri": "https://localhost:8080/",
          "height": 383
        },
        "outputId": "fb2bc19c-effe-4602-d3c4-f1a41d851aeb"
      },
      "source": [
        "##Installing required packages\n",
        "#install.packages(\"rbounds\")\n",
        "#install.packages(\"rgenoud\")\n",
        "library(rbounds)\n",
        "library(rgenoud)\n",
        "\n",
        "##Defining Treatment and Control\n",
        "foo = read.csv(\"mcallister.csv\")\n",
        "\n",
        "treat = foo$Judgement<(mean(foo$Judgement)-sd(foo$Judgement))\n",
        "control = foo$Judgement>(mean(foo$Judgement)-sd(foo$Judgement))\n",
        "vars = treat|control\n",
        "foo = foo[vars,]\n",
        "foo$Treat = foo$Judgement<(mean(foo$Judgement)-sd(foo$Judgement))\n",
        "foo$AvgGrade = mean(c(foo$Prep.Mean, foo$Video.Mean))\n",
        "foo$AvgGradeSD = mean(c(foo$Video.SD, foo$Prep.SD))\n",
        "\n",
        "for (i in 1:length(foo$Treat)){\n",
        "  if (is.na(foo$Video.Mean[i])){\n",
        "    foo$AvgGrade[i] = foo$Prep.Mean[i]\n",
        "  } else if (is.na(foo$Prep.Mean[i])){\n",
        "    foo$AvgGrade[i] = foo$Video.Mean[i]\n",
        "  } else {\n",
        "    foo$AvgGrade[i] = mean(c(foo$Prep.Mean[i], foo$Video.Mean[i]))\n",
        "  }\n",
        "}\n",
        "\n",
        "for (i in 1:length(foo$Treat)){\n",
        "  if (is.na(foo$Video.SD[i])){\n",
        "    foo$AvgGradeSD[i] = foo$Prep.SD[i]\n",
        "  } else if (is.na(foo$Prep.SD[i])){\n",
        "    foo$AvgGradeSD[i] = foo$Video.SD[i]\n",
        "  } else {\n",
        "    foo$AvgGradeSD[i] = mean(c(foo$Prep.SD[i], foo$Video.SD[i]))\n",
        "  }\n",
        "}\n",
        "foo = foo[!is.na(foo$AvgGrade),]\n",
        "\n",
        "\n",
        "Y = foo$Talk_SDs\n",
        "Tr = foo$Treat\n",
        "X = cbind(foo$Class.Date, foo$Number.of.Students, foo$AvgGrade, foo$AvgGradeSD)\n",
        "genout = GenMatch(Tr=Tr, X=X, estimand = \"ATT\", replace = TRUE, print.level=0)\n",
        "mout_ttsd_mcallister = Match(Tr = Tr, Y=Y, X=X, estimand = \"ATT\", replace = TRUE, Weight.matrix = genout)\n",
        "summary(mout_ttsd_mcallister)"
      ],
      "execution_count": null,
      "outputs": [
        {
          "output_type": "stream",
          "text": [
            "Installing package into ‘/usr/local/lib/R/site-library’\n",
            "(as ‘lib’ is unspecified)\n",
            "\n",
            "Installing package into ‘/usr/local/lib/R/site-library’\n",
            "(as ‘lib’ is unspecified)\n",
            "\n",
            "Warning message in GenMatch(Tr = Tr, X = X, estimand = \"ATT\", replace = TRUE, print.level = 0):\n",
            "“The key tuning parameters for optimization were are all left at their default values.  The 'pop.size' option in particular should probably be increased for optimal results.  For details please see the help page and http://sekhon.berkeley.edu/papers/MatchingJSS.pdf”\n"
          ],
          "name": "stderr"
        },
        {
          "output_type": "stream",
          "text": [
            "\n",
            "Estimate...  15.569 \n",
            "AI SE......  4.7392 \n",
            "T-stat.....  3.2853 \n",
            "p.val......  0.0010189 \n",
            "\n",
            "Original number of observations..............  14 \n",
            "Original number of treated obs...............  3 \n",
            "Matched number of observations...............  3 \n",
            "Matched number of observations  (unweighted).  3 \n",
            "\n"
          ],
          "name": "stdout"
        }
      ]
    },
    {
      "cell_type": "code",
      "metadata": {
        "id": "tpQuL0GAmrZR",
        "colab": {
          "base_uri": "https://localhost:8080/",
          "height": 35
        },
        "outputId": "f820e030-c818-4f9b-8703-81b9c117766d"
      },
      "source": [
        "mb_ttsd_mcallister = MatchBalance(foo$Treat~foo$Class.Date+foo$Number.of.Students+foo$AvgGrade+foo$AvgGradeSD, match.out = mout_ttsd_mcallister, print.level=0)\n",
        "mb_ttsd_mcallister$AMsmallest.p.value"
      ],
      "execution_count": null,
      "outputs": [
        {
          "output_type": "display_data",
          "data": {
            "text/plain": [
              "[1] 0.3453463"
            ],
            "text/latex": "0.345346329292023",
            "text/markdown": "0.345346329292023",
            "text/html": [
              "0.345346329292023"
            ]
          },
          "metadata": {
            "tags": []
          }
        }
      ]
    },
    {
      "cell_type": "markdown",
      "metadata": {
        "id": "q2bZbyFcrCg7"
      },
      "source": [
        "### Effect of Judgement on Emojis/Handraises"
      ]
    },
    {
      "cell_type": "code",
      "metadata": {
        "id": "1MfWP2-GrI2F",
        "colab": {
          "base_uri": "https://localhost:8080/",
          "height": 217
        },
        "outputId": "b015de28-17cd-4ce2-fca6-14253185ba80"
      },
      "source": [
        "##Installing required packages\n",
        "#install.packages(\"rbounds\")\n",
        "#install.packages(\"rgenoud\")\n",
        "#library(rbounds)\n",
        "#library(rgenoud)\n",
        "\n",
        "##Defining Treatment and Control\n",
        "foo = read.csv(\"mcallister.csv\")\n",
        "\n",
        "treat = foo$Judgement<(mean(foo$Judgement)-sd(foo$Judgement))\n",
        "control = foo$Judgement>(mean(foo$Judgement)-sd(foo$Judgement))\n",
        "vars = treat|control\n",
        "foo = foo[vars,]\n",
        "foo$Treat = foo$Judgement<(mean(foo$Judgement)-sd(foo$Judgement))\n",
        "foo$AvgGrade = mean(c(foo$Prep.Mean, foo$Video.Mean))\n",
        "foo$AvgGradeSD = mean(c(foo$Video.SD, foo$Prep.SD))\n",
        "\n",
        "for (i in 1:length(foo$Treat)){\n",
        "  if (is.na(foo$Video.Mean[i])){\n",
        "    foo$AvgGrade[i] = foo$Prep.Mean[i]\n",
        "  } else if (is.na(foo$Prep.Mean[i])){\n",
        "    foo$AvgGrade[i] = foo$Video.Mean[i]\n",
        "  } else {\n",
        "    foo$AvgGrade[i] = mean(c(foo$Prep.Mean[i], foo$Video.Mean[i]))\n",
        "  }\n",
        "}\n",
        "\n",
        "for (i in 1:length(foo$Treat)){\n",
        "  if (is.na(foo$Video.SD[i])){\n",
        "    foo$AvgGradeSD[i] = foo$Prep.SD[i]\n",
        "  } else if (is.na(foo$Prep.SD[i])){\n",
        "    foo$AvgGradeSD[i] = foo$Video.SD[i]\n",
        "  } else {\n",
        "    foo$AvgGradeSD[i] = mean(c(foo$Prep.SD[i], foo$Video.SD[i]))\n",
        "  }\n",
        "}\n",
        "foo = foo[!is.na(foo$AvgGrade),]\n",
        "\n",
        "\n",
        "Y = foo$Emojis_Handraises\n",
        "Tr = foo$Treat\n",
        "X = cbind(foo$Class.Date, foo$Number.of.Students, foo$AvgGrade, foo$AvgGradeSD)\n",
        "genout = GenMatch(Tr=Tr, X=X, estimand = \"ATT\", replace = TRUE, pop.size = 500, print.level=0)\n",
        "mout_eh_mcallister = Match(Tr = Tr, Y=Y, X=X, estimand = \"ATT\", replace = TRUE, Weight.matrix = genout)\n",
        "summary(mout_eh_mcallister)"
      ],
      "execution_count": null,
      "outputs": [
        {
          "output_type": "stream",
          "text": [
            "\n",
            "Estimate...  37.667 \n",
            "AI SE......  4.4333 \n",
            "T-stat.....  8.4963 \n",
            "p.val......  < 2.22e-16 \n",
            "\n",
            "Original number of observations..............  14 \n",
            "Original number of treated obs...............  3 \n",
            "Matched number of observations...............  3 \n",
            "Matched number of observations  (unweighted).  3 \n",
            "\n"
          ],
          "name": "stdout"
        }
      ]
    },
    {
      "cell_type": "code",
      "metadata": {
        "id": "K2RUqEWNrI2T",
        "colab": {
          "base_uri": "https://localhost:8080/",
          "height": 35
        },
        "outputId": "d99a7404-d4f5-4a1e-8593-953fbf47e0af"
      },
      "source": [
        "mb_eh_mcallister = MatchBalance(foo$Treat~foo$Class.Date+foo$Number.of.Students+foo$AvgGrade+foo$AvgGradeSD, match.out = mout_eh_mcallister, print.level=0)\n",
        "mb_eh_mcallister$AMsmallest.p.value"
      ],
      "execution_count": null,
      "outputs": [
        {
          "output_type": "display_data",
          "data": {
            "text/plain": [
              "[1] 0.3453463"
            ],
            "text/latex": "0.345346329292023",
            "text/markdown": "0.345346329292023",
            "text/html": [
              "0.345346329292023"
            ]
          },
          "metadata": {
            "tags": []
          }
        }
      ]
    },
    {
      "cell_type": "markdown",
      "metadata": {
        "id": "4uTlsXjx2TEk"
      },
      "source": [
        "# Prof Terrana"
      ]
    },
    {
      "cell_type": "code",
      "metadata": {
        "id": "-XbCoj8fuv1X"
      },
      "source": [
        "terrana = read.csv(\"terrana.csv\")"
      ],
      "execution_count": null,
      "outputs": []
    },
    {
      "cell_type": "markdown",
      "metadata": {
        "id": "i8dnBPMqm7dk"
      },
      "source": [
        "## Builing the CSV"
      ]
    },
    {
      "cell_type": "code",
      "metadata": {
        "id": "w4d9hqQJVS9n",
        "colab": {
          "base_uri": "https://localhost:8080/",
          "height": 225
        },
        "outputId": "41ededdc-5ae5-4b6b-b742-f0bcdc0fba76"
      },
      "source": [
        "terrana = read.csv(\"Terrana_results.csv\")\n",
        "terrana = prof_talk_times(terrana, \"Alex Terrana \")"
      ],
      "execution_count": null,
      "outputs": [
        {
          "output_type": "stream",
          "text": [
            "Warning message in file(file, \"rt\"):\n",
            "“cannot open file 'Terrana_results.csv': No such file or directory”\n"
          ],
          "name": "stderr"
        },
        {
          "output_type": "error",
          "ename": "ERROR",
          "evalue": "ignored",
          "traceback": [
            "Error in file(file, \"rt\"): cannot open the connection\nTraceback:\n",
            "1. read.csv(\"Terrana_results.csv\")",
            "2. read.table(file = file, header = header, sep = sep, quote = quote, \n .     dec = dec, fill = fill, comment.char = comment.char, ...)",
            "3. file(file, \"rt\")"
          ]
        }
      ]
    },
    {
      "cell_type": "code",
      "metadata": {
        "id": "HgDK-OiaTHgD"
      },
      "source": [
        "foo = read.csv(\"emoji_hands.csv\")\n",
        "dates = unique(foo$Class.Date)\n",
        "dates = dates[-(1:7)]\n",
        "dates = rev(dates)\n",
        "foo = foo[foo$Class.Date %in% dates,]\n",
        "events <- c()\n",
        "for (i in dates){\n",
        "  events <- c(events, length(foo[foo$Class.Date==i,1]))\n",
        "}\n",
        "\n",
        "terrana$Emojis_Handraises = events"
      ],
      "execution_count": null,
      "outputs": []
    },
    {
      "cell_type": "code",
      "metadata": {
        "id": "Qks_4G-tn0ZM"
      },
      "source": [
        "write.csv(terrana, \"terrana.csv\")"
      ],
      "execution_count": null,
      "outputs": []
    },
    {
      "cell_type": "markdown",
      "metadata": {
        "id": "G-FVaiYSuS0l"
      },
      "source": [
        "## Score Correlation Analysis"
      ]
    },
    {
      "cell_type": "markdown",
      "metadata": {
        "id": "jyemwmZNuS0p"
      },
      "source": [
        "### Emojis/Handraises\n"
      ]
    },
    {
      "cell_type": "code",
      "metadata": {
        "id": "vn1FbQq0uS0r",
        "colab": {
          "base_uri": "https://localhost:8080/",
          "height": 318
        },
        "outputId": "47d24e04-c26f-4574-fb26-5952fc8590c5"
      },
      "source": [
        "terrana_score_1 = lm(terrana$Emojis_Handraises~terrana$Score)\n",
        "summary(terrana_score_1)"
      ],
      "execution_count": null,
      "outputs": [
        {
          "output_type": "display_data",
          "data": {
            "text/plain": [
              "\n",
              "Call:\n",
              "lm(formula = terrana$Emojis_Handraises ~ terrana$Score)\n",
              "\n",
              "Residuals:\n",
              "    Min      1Q  Median      3Q     Max \n",
              "-72.537 -44.427   3.573  27.128 134.573 \n",
              "\n",
              "Coefficients:\n",
              "              Estimate Std. Error t value Pr(>|t|)    \n",
              "(Intercept)     204.21      30.81   6.627 4.28e-06 ***\n",
              "terrana$Score    98.90     145.68   0.679    0.506    \n",
              "---\n",
              "Signif. codes:  0 ‘***’ 0.001 ‘**’ 0.01 ‘*’ 0.05 ‘.’ 0.1 ‘ ’ 1\n",
              "\n",
              "Residual standard error: 52.42 on 17 degrees of freedom\n",
              "Multiple R-squared:  0.0264,\tAdjusted R-squared:  -0.03087 \n",
              "F-statistic: 0.4609 on 1 and 17 DF,  p-value: 0.5063\n"
            ]
          },
          "metadata": {
            "tags": []
          }
        }
      ]
    },
    {
      "cell_type": "markdown",
      "metadata": {
        "id": "P4z78FP8uS00"
      },
      "source": [
        "### Talk Time Mean"
      ]
    },
    {
      "cell_type": "code",
      "metadata": {
        "id": "LS1_9I7iuS01",
        "colab": {
          "base_uri": "https://localhost:8080/",
          "height": 318
        },
        "outputId": "fb7f9bea-701c-451e-d39c-a6debf2d6164"
      },
      "source": [
        "terrana_score_2 = lm(terrana$Talk_Means~terrana$Score)\n",
        "summary(terrana_score_2)"
      ],
      "execution_count": null,
      "outputs": [
        {
          "output_type": "display_data",
          "data": {
            "text/plain": [
              "\n",
              "Call:\n",
              "lm(formula = terrana$Talk_Means ~ terrana$Score)\n",
              "\n",
              "Residuals:\n",
              "    Min      1Q  Median      3Q     Max \n",
              "-24.034 -11.070   1.165   7.114  28.499 \n",
              "\n",
              "Coefficients:\n",
              "              Estimate Std. Error t value Pr(>|t|)    \n",
              "(Intercept)     89.144      9.536   9.348 4.12e-08 ***\n",
              "terrana$Score  -27.575     45.083  -0.612    0.549    \n",
              "---\n",
              "Signif. codes:  0 ‘***’ 0.001 ‘**’ 0.01 ‘*’ 0.05 ‘.’ 0.1 ‘ ’ 1\n",
              "\n",
              "Residual standard error: 16.22 on 17 degrees of freedom\n",
              "Multiple R-squared:  0.02153,\tAdjusted R-squared:  -0.03602 \n",
              "F-statistic: 0.3741 on 1 and 17 DF,  p-value: 0.5489\n"
            ]
          },
          "metadata": {
            "tags": []
          }
        }
      ]
    },
    {
      "cell_type": "markdown",
      "metadata": {
        "id": "ny0bT6ayuS1A"
      },
      "source": [
        "### Talk Time SD"
      ]
    },
    {
      "cell_type": "code",
      "metadata": {
        "id": "V29A8JFYuS1B",
        "colab": {
          "base_uri": "https://localhost:8080/",
          "height": 318
        },
        "outputId": "ee1345a2-dc67-484c-d8b2-077b95efa1a2"
      },
      "source": [
        "terrana_score_3 = lm(terrana$Talk_SDs~terrana$Score)\n",
        "summary(terrana_score_3)"
      ],
      "execution_count": null,
      "outputs": [
        {
          "output_type": "display_data",
          "data": {
            "text/plain": [
              "\n",
              "Call:\n",
              "lm(formula = terrana$Talk_SDs ~ terrana$Score)\n",
              "\n",
              "Residuals:\n",
              "    Min      1Q  Median      3Q     Max \n",
              "-27.537 -11.719  -5.432   7.748  47.864 \n",
              "\n",
              "Coefficients:\n",
              "              Estimate Std. Error t value Pr(>|t|)    \n",
              "(Intercept)      57.93      11.56   5.010 0.000107 ***\n",
              "terrana$Score   -26.00      54.66  -0.476 0.640382    \n",
              "---\n",
              "Signif. codes:  0 ‘***’ 0.001 ‘**’ 0.01 ‘*’ 0.05 ‘.’ 0.1 ‘ ’ 1\n",
              "\n",
              "Residual standard error: 19.67 on 17 degrees of freedom\n",
              "Multiple R-squared:  0.01313,\tAdjusted R-squared:  -0.04492 \n",
              "F-statistic: 0.2262 on 1 and 17 DF,  p-value: 0.6404\n"
            ]
          },
          "metadata": {
            "tags": []
          }
        }
      ]
    },
    {
      "cell_type": "markdown",
      "metadata": {
        "id": "k9ywTXuuuS1E"
      },
      "source": [
        "## Magnitude Analysis"
      ]
    },
    {
      "cell_type": "markdown",
      "metadata": {
        "id": "f8qgimdduS1E"
      },
      "source": [
        "### Emojis/Handraises\n"
      ]
    },
    {
      "cell_type": "code",
      "metadata": {
        "id": "wC3zIq63uS1F",
        "colab": {
          "base_uri": "https://localhost:8080/",
          "height": 318
        },
        "outputId": "cac209f0-d0e7-4786-d70d-f055f6768dd7"
      },
      "source": [
        "terrana_mag_1 = lm(terrana$Emojis_Handraises~terrana$Magnitude)\n",
        "summary(terrana_mag_1)"
      ],
      "execution_count": null,
      "outputs": [
        {
          "output_type": "display_data",
          "data": {
            "text/plain": [
              "\n",
              "Call:\n",
              "lm(formula = terrana$Emojis_Handraises ~ terrana$Magnitude)\n",
              "\n",
              "Residuals:\n",
              "    Min      1Q  Median      3Q     Max \n",
              "-82.845 -36.146   4.072  33.859 121.646 \n",
              "\n",
              "Coefficients:\n",
              "                  Estimate Std. Error t value Pr(>|t|)  \n",
              "(Intercept)        132.070     55.710   2.371   0.0298 *\n",
              "terrana$Magnitude    4.983      5.130   0.971   0.3450  \n",
              "---\n",
              "Signif. codes:  0 ‘***’ 0.001 ‘**’ 0.01 ‘*’ 0.05 ‘.’ 0.1 ‘ ’ 1\n",
              "\n",
              "Residual standard error: 51.71 on 17 degrees of freedom\n",
              "Multiple R-squared:  0.05259,\tAdjusted R-squared:  -0.003138 \n",
              "F-statistic: 0.9437 on 1 and 17 DF,  p-value: 0.345\n"
            ]
          },
          "metadata": {
            "tags": []
          }
        }
      ]
    },
    {
      "cell_type": "markdown",
      "metadata": {
        "id": "cRRMtbGKuS1H"
      },
      "source": [
        "### Talk Time Mean"
      ]
    },
    {
      "cell_type": "code",
      "metadata": {
        "id": "1ClpZ2pruS1H",
        "colab": {
          "base_uri": "https://localhost:8080/",
          "height": 318
        },
        "outputId": "7680442d-446a-4c79-f8d4-ba211abb7adb"
      },
      "source": [
        "terrana_mag_2 = lm(terrana$Talk_Means~terrana$Magnitude)\n",
        "summary(terrana_mag_2)"
      ],
      "execution_count": null,
      "outputs": [
        {
          "output_type": "display_data",
          "data": {
            "text/plain": [
              "\n",
              "Call:\n",
              "lm(formula = terrana$Talk_Means ~ terrana$Magnitude)\n",
              "\n",
              "Residuals:\n",
              "    Min      1Q  Median      3Q     Max \n",
              "-25.267 -12.329   0.019   7.497  27.339 \n",
              "\n",
              "Coefficients:\n",
              "                  Estimate Std. Error t value Pr(>|t|)    \n",
              "(Intercept)        87.5411    17.5838   4.979 0.000115 ***\n",
              "terrana$Magnitude   0.6571     1.6192   0.406 0.689922    \n",
              "---\n",
              "Signif. codes:  0 ‘***’ 0.001 ‘**’ 0.01 ‘*’ 0.05 ‘.’ 0.1 ‘ ’ 1\n",
              "\n",
              "Residual standard error: 16.32 on 17 degrees of freedom\n",
              "Multiple R-squared:  0.009596,\tAdjusted R-squared:  -0.04866 \n",
              "F-statistic: 0.1647 on 1 and 17 DF,  p-value: 0.6899\n"
            ]
          },
          "metadata": {
            "tags": []
          }
        }
      ]
    },
    {
      "cell_type": "markdown",
      "metadata": {
        "id": "24CEoxgjuS1K"
      },
      "source": [
        "### Talk Time SD"
      ]
    },
    {
      "cell_type": "code",
      "metadata": {
        "id": "LUR8DeyyuS1K",
        "colab": {
          "base_uri": "https://localhost:8080/",
          "height": 318
        },
        "outputId": "ff2bb167-29e4-4f86-d0d8-ec247d9fad2e"
      },
      "source": [
        "terrana_mag_3 = lm(terrana$Talk_SDs~terrana$Magnitude)\n",
        "summary(terrana_mag_3)"
      ],
      "execution_count": null,
      "outputs": [
        {
          "output_type": "display_data",
          "data": {
            "text/plain": [
              "\n",
              "Call:\n",
              "lm(formula = terrana$Talk_SDs ~ terrana$Magnitude)\n",
              "\n",
              "Residuals:\n",
              "    Min      1Q  Median      3Q     Max \n",
              "-24.693 -11.116  -7.551   6.544  45.322 \n",
              "\n",
              "Coefficients:\n",
              "                  Estimate Std. Error t value Pr(>|t|)   \n",
              "(Intercept)       63.37304   21.33226   2.971  0.00857 **\n",
              "terrana$Magnitude -0.03571    1.96437  -0.018  0.98571   \n",
              "---\n",
              "Signif. codes:  0 ‘***’ 0.001 ‘**’ 0.01 ‘*’ 0.05 ‘.’ 0.1 ‘ ’ 1\n",
              "\n",
              "Residual standard error: 19.8 on 17 degrees of freedom\n",
              "Multiple R-squared:  1.943e-05,\tAdjusted R-squared:  -0.0588 \n",
              "F-statistic: 0.0003304 on 1 and 17 DF,  p-value: 0.9857\n"
            ]
          },
          "metadata": {
            "tags": []
          }
        }
      ]
    },
    {
      "cell_type": "markdown",
      "metadata": {
        "id": "_xWWvrFeuS1M"
      },
      "source": [
        "## Judgement Analysis"
      ]
    },
    {
      "cell_type": "markdown",
      "metadata": {
        "id": "OhrDM1_0uS1N"
      },
      "source": [
        "### Emojis/Handraises\n"
      ]
    },
    {
      "cell_type": "code",
      "metadata": {
        "id": "8qESZJmpuS1N",
        "colab": {
          "base_uri": "https://localhost:8080/"
        },
        "outputId": "f56fef56-6ed0-471d-deef-153531f13691"
      },
      "source": [
        "terrana_judge_1 = lm(terrana$Emojis_Handraises~terrana$Judgement)\n",
        "summary(terrana_judge_1)"
      ],
      "execution_count": null,
      "outputs": [
        {
          "output_type": "display_data",
          "data": {
            "text/plain": [
              "\n",
              "Call:\n",
              "lm(formula = terrana$Emojis_Handraises ~ terrana$Judgement)\n",
              "\n",
              "Residuals:\n",
              "    Min      1Q  Median      3Q     Max \n",
              "-81.562 -45.438   4.769  32.105 134.849 \n",
              "\n",
              "Coefficients:\n",
              "                  Estimate Std. Error t value Pr(>|t|)    \n",
              "(Intercept)        188.970     24.619   7.676 6.38e-07 ***\n",
              "terrana$Judgement    1.840      9.785   0.188    0.853    \n",
              "---\n",
              "Signif. codes:  0 ‘***’ 0.001 ‘**’ 0.01 ‘*’ 0.05 ‘.’ 0.1 ‘ ’ 1\n",
              "\n",
              "Residual standard error: 53.07 on 17 degrees of freedom\n",
              "Multiple R-squared:  0.002075,\tAdjusted R-squared:  -0.05663 \n",
              "F-statistic: 0.03534 on 1 and 17 DF,  p-value: 0.8531\n"
            ]
          },
          "metadata": {
            "tags": []
          }
        }
      ]
    },
    {
      "cell_type": "markdown",
      "metadata": {
        "id": "-cf7mlgkuS1Q"
      },
      "source": [
        "### Talk Time Mean"
      ]
    },
    {
      "cell_type": "code",
      "metadata": {
        "id": "zkAC64BruS1Q",
        "colab": {
          "base_uri": "https://localhost:8080/",
          "height": 319
        },
        "outputId": "9f985a6d-1a68-4d12-db99-82d43158f0bd"
      },
      "source": [
        "terrana_judge_2 = lm(terrana$Talk_Means~terrana$Judgement)\n",
        "summary(terrana_judge_2)"
      ],
      "execution_count": null,
      "outputs": [
        {
          "output_type": "display_data",
          "data": {
            "text/plain": [
              "\n",
              "Call:\n",
              "lm(formula = terrana$Talk_Means ~ terrana$Judgement)\n",
              "\n",
              "Residuals:\n",
              "    Min      1Q  Median      3Q     Max \n",
              "-25.029 -10.928   1.046   7.880  28.672 \n",
              "\n",
              "Coefficients:\n",
              "                  Estimate Std. Error t value Pr(>|t|)    \n",
              "(Intercept)         89.991      7.502  11.995 1.01e-09 ***\n",
              "terrana$Judgement   -2.068      2.982  -0.694    0.497    \n",
              "---\n",
              "Signif. codes:  0 ‘***’ 0.001 ‘**’ 0.01 ‘*’ 0.05 ‘.’ 0.1 ‘ ’ 1\n",
              "\n",
              "Residual standard error: 16.17 on 17 degrees of freedom\n",
              "Multiple R-squared:  0.02752,\tAdjusted R-squared:  -0.02969 \n",
              "F-statistic: 0.481 on 1 and 17 DF,  p-value: 0.4973\n"
            ]
          },
          "metadata": {
            "tags": []
          }
        }
      ]
    },
    {
      "cell_type": "markdown",
      "metadata": {
        "id": "Ml3AoiHNuS1S"
      },
      "source": [
        "### Talk Time SD"
      ]
    },
    {
      "cell_type": "code",
      "metadata": {
        "id": "gp-SmHqcuS1T",
        "colab": {
          "base_uri": "https://localhost:8080/",
          "height": 319
        },
        "outputId": "6cf274c1-cba3-4ad4-eb33-06c46d5878f1"
      },
      "source": [
        "terrana_judge_3 = lm(terrana$Talk_SDs~terrana$Judgement)\n",
        "summary(terrana_judge_3)"
      ],
      "execution_count": null,
      "outputs": [
        {
          "output_type": "display_data",
          "data": {
            "text/plain": [
              "\n",
              "Call:\n",
              "lm(formula = terrana$Talk_SDs ~ terrana$Judgement)\n",
              "\n",
              "Residuals:\n",
              "    Min      1Q  Median      3Q     Max \n",
              "-28.058 -11.070  -6.844   7.879  47.718 \n",
              "\n",
              "Coefficients:\n",
              "                  Estimate Std. Error t value Pr(>|t|)    \n",
              "(Intercept)         59.231      9.125   6.491 5.54e-06 ***\n",
              "terrana$Judgement   -1.721      3.627  -0.475    0.641    \n",
              "---\n",
              "Signif. codes:  0 ‘***’ 0.001 ‘**’ 0.01 ‘*’ 0.05 ‘.’ 0.1 ‘ ’ 1\n",
              "\n",
              "Residual standard error: 19.67 on 17 degrees of freedom\n",
              "Multiple R-squared:  0.01307,\tAdjusted R-squared:  -0.04498 \n",
              "F-statistic: 0.2252 on 1 and 17 DF,  p-value: 0.6412\n"
            ]
          },
          "metadata": {
            "tags": []
          }
        }
      ]
    },
    {
      "cell_type": "markdown",
      "metadata": {
        "id": "MabSeCELztBG"
      },
      "source": [
        "## Correlation Plots"
      ]
    },
    {
      "cell_type": "code",
      "metadata": {
        "id": "ictpPFtczrwA",
        "colab": {
          "base_uri": "https://localhost:8080/",
          "height": 437
        },
        "outputId": "6b0de885-c68a-49c8-c743-9ec31c7f6898"
      },
      "source": [
        "par(mfrow=c(3,3))\n",
        " \n",
        "#Score\n",
        "plot(terrana$Emojis_Handraises~terrana$Score)\n",
        "abline(terrana_score_1)\n",
        " \n",
        "plot(terrana$Talk_Means~terrana$Score)\n",
        "abline(terrana_score_2)\n",
        " \n",
        "plot(terrana$Talk_SDs~terrana$Score)\n",
        "abline(terrana_score_3)\n",
        " \n",
        "#Magnitude\n",
        "plot(terrana$Emojis_Handraises~terrana$Magnitude)\n",
        "abline(terrana_mag_1)\n",
        " \n",
        "plot(terrana$Talk_Means~terrana$Magnitude)\n",
        "abline(terrana_mag_2)\n",
        " \n",
        "plot(terrana$Talk_SDs~terrana$Magnitude)\n",
        "abline(terrana_mag_3)\n",
        " \n",
        "#Judgement\n",
        "plot(terrana$Emojis_Handraises~terrana$Judgement)\n",
        "abline(terrana_judge_1)\n",
        " \n",
        "plot(terrana$Talk_Means~terrana$Judgement)\n",
        "abline(terrana_judge_2)\n",
        " \n",
        "plot(terrana$Talk_SDs~terrana$Judgement)\n",
        "abline(terrana_judge_3)"
      ],
      "execution_count": null,
      "outputs": [
        {
          "output_type": "display_data",
          "data": {
            "image/png": "[encoded data removed]",
            "text/plain": [
              "plot without title"
            ]
          },
          "metadata": {
            "tags": [],
            "image/png": {
              "width": 420,
              "height": 420
            },
            "text/plain": {
              "width": 420,
              "height": 420
            }
          }
        }
      ]
    },
    {
      "cell_type": "markdown",
      "metadata": {
        "id": "OH1fXT3nwI2S"
      },
      "source": [
        "## Genetic Matching and Causation"
      ]
    },
    {
      "cell_type": "markdown",
      "metadata": {
        "id": "JiwKJ0HYrmI_"
      },
      "source": [
        "### Effect of Judgement on Talk-Time SD"
      ]
    },
    {
      "cell_type": "code",
      "metadata": {
        "id": "tquhxqOCwI2V",
        "colab": {
          "base_uri": "https://localhost:8080/",
          "height": 217
        },
        "outputId": "c1c16d1e-a47c-4a68-a5c5-01670b1d0738"
      },
      "source": [
        "##Installing required packages\n",
        "#install.packages(\"rbounds\")\n",
        "#install.packages(\"rgenoud\")\n",
        "#library(rbounds)\n",
        "#library(rgenoud)\n",
        "\n",
        "##Defining Treatment and Control\n",
        "foo = read.csv(\"terrana.csv\")\n",
        "\n",
        "treat = foo$Judgement<(mean(foo$Judgement)-sd(foo$Judgement))\n",
        "control = foo$Judgement>(mean(foo$Judgement)-sd(foo$Judgement))\n",
        "vars = treat|control\n",
        "foo = foo[vars,]\n",
        "foo$Treat = foo$Judgement<(mean(foo$Judgement)-sd(foo$Judgement))\n",
        "foo$AvgGrade = mean(c(foo$Prep.Mean, foo$Video.Mean))\n",
        "foo$AvgGradeSD = mean(c(foo$Video.SD, foo$Prep.SD))\n",
        "\n",
        "for (i in 1:length(foo$Treat)){\n",
        "  if (is.na(foo$Video.Mean[i])){\n",
        "    foo$AvgGrade[i] = foo$Prep.Mean[i]\n",
        "  } else if (is.na(foo$Prep.Mean[i])){\n",
        "    foo$AvgGrade[i] = foo$Video.Mean[i]\n",
        "  } else {\n",
        "    foo$AvgGrade[i] = mean(c(foo$Prep.Mean[i], foo$Video.Mean[i]))\n",
        "  }\n",
        "}\n",
        "\n",
        "for (i in 1:length(foo$Treat)){\n",
        "  if (is.na(foo$Video.SD[i])){\n",
        "    foo$AvgGradeSD[i] = foo$Prep.SD[i]\n",
        "  } else if (is.na(foo$Prep.SD[i])){\n",
        "    foo$AvgGradeSD[i] = foo$Video.SD[i]\n",
        "  } else {\n",
        "    foo$AvgGradeSD[i] = mean(c(foo$Prep.SD[i], foo$Video.SD[i]))\n",
        "  }\n",
        "}\n",
        "foo = foo[!is.na(foo$AvgGrade),]\n",
        "\n",
        "\n",
        "Y = foo$Talk_SDs\n",
        "Tr = foo$Treat\n",
        "X = cbind(foo$Class.Date, foo$Number.of.Students, foo$AvgGrade, foo$AvgGradeSD)\n",
        "genout = GenMatch(Tr=Tr, X=X, estimand = \"ATT\", replace = TRUE, pop.size = 500, print.level=0)\n",
        "mout_tts_terrana = Match(Tr = Tr, Y=Y, X=X, estimand = \"ATT\", replace = TRUE, Weight.matrix = genout)\n",
        "summary(mout_tts_terrana)"
      ],
      "execution_count": null,
      "outputs": [
        {
          "output_type": "stream",
          "text": [
            "\n",
            "Estimate...  20.628 \n",
            "AI SE......  19.129 \n",
            "T-stat.....  1.0783 \n",
            "p.val......  0.28088 \n",
            "\n",
            "Original number of observations..............  11 \n",
            "Original number of treated obs...............  2 \n",
            "Matched number of observations...............  2 \n",
            "Matched number of observations  (unweighted).  2 \n",
            "\n"
          ],
          "name": "stdout"
        }
      ]
    },
    {
      "cell_type": "code",
      "metadata": {
        "id": "zTYK9ELHtxKl",
        "colab": {
          "base_uri": "https://localhost:8080/",
          "height": 35
        },
        "outputId": "1218ba56-3374-4f1d-d233-d5f912766044"
      },
      "source": [
        "mb_ttsd_terrana = MatchBalance(foo$Treat~foo$Class.Date+foo$Number.of.Students+foo$AvgGrade+foo$AvgGradeSD, match.out = mout_tts_terrana, print.level=0)\n",
        "mb_ttsd_terrana$AMsmallest.p.value"
      ],
      "execution_count": null,
      "outputs": [
        {
          "output_type": "display_data",
          "data": {
            "text/plain": [
              "[1] 0.3285583"
            ],
            "text/latex": "0.328558274561276",
            "text/markdown": "0.328558274561276",
            "text/html": [
              "0.328558274561276"
            ]
          },
          "metadata": {
            "tags": []
          }
        }
      ]
    },
    {
      "cell_type": "markdown",
      "metadata": {
        "id": "66mvJEyVtgpl"
      },
      "source": [
        "### Effect of Judgement on Emojis/Handraises"
      ]
    },
    {
      "cell_type": "code",
      "metadata": {
        "id": "lWTjhOZauhoy",
        "colab": {
          "base_uri": "https://localhost:8080/",
          "height": 217
        },
        "outputId": "93096326-30d6-47b0-e682-e95f952c3f01"
      },
      "source": [
        "##Installing required packages\n",
        "#install.packages(\"rbounds\")\n",
        "#install.packages(\"rgenoud\")\n",
        "#library(rbounds)\n",
        "#library(rgenoud)\n",
        "\n",
        "##Defining Treatment and Control\n",
        "foo = read.csv(\"terrana.csv\")\n",
        "\n",
        "treat = foo$Judgement<(mean(foo$Judgement)-sd(foo$Judgement))\n",
        "control = foo$Judgement>(mean(foo$Judgement)-sd(foo$Judgement))\n",
        "vars = treat|control\n",
        "foo = foo[vars,]\n",
        "foo$Treat = foo$Judgement<(mean(foo$Judgement)-sd(foo$Judgement))\n",
        "foo$AvgGrade = mean(c(foo$Prep.Mean, foo$Video.Mean))\n",
        "foo$AvgGradeSD = mean(c(foo$Video.SD, foo$Prep.SD))\n",
        "\n",
        "for (i in 1:length(foo$Treat)){\n",
        "  if (is.na(foo$Video.Mean[i])){\n",
        "    foo$AvgGrade[i] = foo$Prep.Mean[i]\n",
        "  } else if (is.na(foo$Prep.Mean[i])){\n",
        "    foo$AvgGrade[i] = foo$Video.Mean[i]\n",
        "  } else {\n",
        "    foo$AvgGrade[i] = mean(c(foo$Prep.Mean[i], foo$Video.Mean[i]))\n",
        "  }\n",
        "}\n",
        "\n",
        "for (i in 1:length(foo$Treat)){\n",
        "  if (is.na(foo$Video.SD[i])){\n",
        "    foo$AvgGradeSD[i] = foo$Prep.SD[i]\n",
        "  } else if (is.na(foo$Prep.SD[i])){\n",
        "    foo$AvgGradeSD[i] = foo$Video.SD[i]\n",
        "  } else {\n",
        "    foo$AvgGradeSD[i] = mean(c(foo$Prep.SD[i], foo$Video.SD[i]))\n",
        "  }\n",
        "}\n",
        "foo = foo[!is.na(foo$AvgGrade),]\n",
        "\n",
        "\n",
        "Y = foo$Emojis_Handraises\n",
        "Tr = foo$Treat\n",
        "X = cbind(foo$Class.Date, foo$Number.of.Students, foo$AvgGrade, foo$AvgGradeSD)\n",
        "genout = GenMatch(Tr=Tr, X=X, estimand = \"ATT\", replace = TRUE, pop.size = 500, print.level=0)\n",
        "mout_eh_terrana = Match(Tr = Tr, Y=Y, X=X, estimand = \"ATT\", replace = TRUE, Weight.matrix = genout)\n",
        "summary(mout_eh_terrana)"
      ],
      "execution_count": null,
      "outputs": [
        {
          "output_type": "stream",
          "text": [
            "\n",
            "Estimate...  -4 \n",
            "AI SE......  8.4853 \n",
            "T-stat.....  -0.4714 \n",
            "p.val......  0.63735 \n",
            "\n",
            "Original number of observations..............  11 \n",
            "Original number of treated obs...............  2 \n",
            "Matched number of observations...............  2 \n",
            "Matched number of observations  (unweighted).  2 \n",
            "\n"
          ],
          "name": "stdout"
        }
      ]
    },
    {
      "cell_type": "code",
      "metadata": {
        "id": "Z8NJu1Equho5",
        "colab": {
          "base_uri": "https://localhost:8080/",
          "height": 35
        },
        "outputId": "b453d0f1-a2cd-4599-d8a5-d8ccb51c32b6"
      },
      "source": [
        "mb_eh_terrana = MatchBalance(foo$Treat~foo$Class.Date+foo$Number.of.Students+foo$AvgGrade+foo$AvgGradeSD, match.out = mout_eh_terrana, print.level=0)\n",
        "mb_eh_terrana$AMsmallest.p.value"
      ],
      "execution_count": null,
      "outputs": [
        {
          "output_type": "display_data",
          "data": {
            "text/plain": [
              "[1] 0.3285583"
            ],
            "text/latex": "0.328558274561276",
            "text/markdown": "0.328558274561276",
            "text/html": [
              "0.328558274561276"
            ]
          },
          "metadata": {
            "tags": []
          }
        }
      ]
    },
    {
      "cell_type": "markdown",
      "metadata": {
        "id": "h1f1eEFTYTp3"
      },
      "source": [
        "# Prof Dosmann"
      ]
    },
    {
      "cell_type": "code",
      "metadata": {
        "id": "ClFowdOXvbe9"
      },
      "source": [
        "dosmann = read.csv(\"dosmann.csv\")"
      ],
      "execution_count": null,
      "outputs": []
    },
    {
      "cell_type": "markdown",
      "metadata": {
        "id": "tzkbIXcEnOpu"
      },
      "source": [
        "## Building the CSV File"
      ]
    },
    {
      "cell_type": "code",
      "metadata": {
        "id": "ikfciTpza9_z",
        "colab": {
          "base_uri": "https://localhost:8080/",
          "height": 212
        },
        "outputId": "56bd574f-3cd6-4120-d214-146963254715"
      },
      "source": [
        "dosmann = read.csv(\"Dosmann_results.csv\")\n",
        "dosmann = prof_talk_times(dosmann, \"Andy Dosmann \")"
      ],
      "execution_count": null,
      "outputs": [
        {
          "output_type": "stream",
          "text": [
            "Warning message in file(file, \"rt\"):\n",
            "“cannot open file 'Dosmann_results.csv': No such file or directory”\n"
          ],
          "name": "stderr"
        },
        {
          "output_type": "error",
          "ename": "ERROR",
          "evalue": "ignored",
          "traceback": [
            "Error in file(file, \"rt\"): cannot open the connection\nTraceback:\n",
            "1. read.csv(\"Dosmann_results.csv\")",
            "2. read.table(file = file, header = header, sep = sep, quote = quote, \n .     dec = dec, fill = fill, comment.char = comment.char, ...)",
            "3. file(file, \"rt\")"
          ]
        }
      ]
    },
    {
      "cell_type": "code",
      "metadata": {
        "id": "FnTpSZp7a-AL"
      },
      "source": [
        "foo = read.csv(\"emoji_hands.csv\")\n",
        "dates = unique(foo$Class.Date)\n",
        "dates = dates[-(1:7)]\n",
        "dates = rev(dates)\n",
        "foo = foo[foo$Class.Date %in% dates,]\n",
        "events <- c()\n",
        "for (i in dates){\n",
        "  events <- c(events, length(foo[foo$Class.Date==i,1]))\n",
        "}\n",
        "\n",
        "dosmann$Emojis_Handraises = events"
      ],
      "execution_count": null,
      "outputs": []
    },
    {
      "cell_type": "code",
      "metadata": {
        "id": "ZLb1DykcpJ12"
      },
      "source": [
        "write.csv(dosmann, \"dosmann.csv\")"
      ],
      "execution_count": null,
      "outputs": []
    },
    {
      "cell_type": "markdown",
      "metadata": {
        "id": "Hi740Qt3vURv"
      },
      "source": [
        "## Score Correlation Analysis"
      ]
    },
    {
      "cell_type": "markdown",
      "metadata": {
        "id": "W1_Pvi-hvUR3"
      },
      "source": [
        "### Emojis/Handraises\n"
      ]
    },
    {
      "cell_type": "code",
      "metadata": {
        "id": "ZV4z-AEAvUR5",
        "colab": {
          "base_uri": "https://localhost:8080/",
          "height": 318
        },
        "outputId": "fc413fe3-f1bc-46aa-b86d-0a09b42b9310"
      },
      "source": [
        "dosmann_score_1 = lm(dosmann$Emojis_Handraises~dosmann$Score)\n",
        "summary(dosmann_score_1)"
      ],
      "execution_count": null,
      "outputs": [
        {
          "output_type": "display_data",
          "data": {
            "text/plain": [
              "\n",
              "Call:\n",
              "lm(formula = dosmann$Emojis_Handraises ~ dosmann$Score)\n",
              "\n",
              "Residuals:\n",
              "    Min      1Q  Median      3Q     Max \n",
              "-82.553 -35.025  -8.553  11.063 174.269 \n",
              "\n",
              "Coefficients:\n",
              "              Estimate Std. Error t value Pr(>|t|)    \n",
              "(Intercept)     155.55      23.40   6.647 4.12e-06 ***\n",
              "dosmann$Score    64.11     129.54   0.495    0.627    \n",
              "---\n",
              "Signif. codes:  0 ‘***’ 0.001 ‘**’ 0.01 ‘*’ 0.05 ‘.’ 0.1 ‘ ’ 1\n",
              "\n",
              "Residual standard error: 58.99 on 17 degrees of freedom\n",
              "Multiple R-squared:  0.0142,\tAdjusted R-squared:  -0.04378 \n",
              "F-statistic: 0.2449 on 1 and 17 DF,  p-value: 0.627\n"
            ]
          },
          "metadata": {
            "tags": []
          }
        }
      ]
    },
    {
      "cell_type": "markdown",
      "metadata": {
        "id": "ndzBfgkFvUSD"
      },
      "source": [
        "### Talk Time Mean"
      ]
    },
    {
      "cell_type": "code",
      "metadata": {
        "id": "gUJdOCQfvUSF",
        "colab": {
          "base_uri": "https://localhost:8080/",
          "height": 318
        },
        "outputId": "9562fdf6-209d-4cd5-dead-d8cfb1cd51bf"
      },
      "source": [
        "dosmann_score_2 = lm(dosmann$Talk_Means~dosmann$Score)\n",
        "summary(dosmann_score_2)"
      ],
      "execution_count": null,
      "outputs": [
        {
          "output_type": "display_data",
          "data": {
            "text/plain": [
              "\n",
              "Call:\n",
              "lm(formula = dosmann$Talk_Means ~ dosmann$Score)\n",
              "\n",
              "Residuals:\n",
              "    Min      1Q  Median      3Q     Max \n",
              "-20.454 -12.157  -4.366  12.342  27.130 \n",
              "\n",
              "Coefficients:\n",
              "              Estimate Std. Error t value Pr(>|t|)    \n",
              "(Intercept)     93.626      6.345  14.755 4.02e-11 ***\n",
              "dosmann$Score  -23.278     35.126  -0.663    0.516    \n",
              "---\n",
              "Signif. codes:  0 ‘***’ 0.001 ‘**’ 0.01 ‘*’ 0.05 ‘.’ 0.1 ‘ ’ 1\n",
              "\n",
              "Residual standard error: 16 on 17 degrees of freedom\n",
              "Multiple R-squared:  0.02518,\tAdjusted R-squared:  -0.03216 \n",
              "F-statistic: 0.4392 on 1 and 17 DF,  p-value: 0.5164\n"
            ]
          },
          "metadata": {
            "tags": []
          }
        }
      ]
    },
    {
      "cell_type": "markdown",
      "metadata": {
        "id": "ZQMdir3AvUSL"
      },
      "source": [
        "### Talk Time SD"
      ]
    },
    {
      "cell_type": "code",
      "metadata": {
        "id": "N6ViZMEJvUSM",
        "colab": {
          "base_uri": "https://localhost:8080/",
          "height": 318
        },
        "outputId": "91bf1901-26e2-4e7d-b016-47bdcb93059a"
      },
      "source": [
        "dosmann_score_3 = lm(dosmann$Talk_SDs~dosmann$Score)\n",
        "summary(dosmann_score_3)"
      ],
      "execution_count": null,
      "outputs": [
        {
          "output_type": "display_data",
          "data": {
            "text/plain": [
              "\n",
              "Call:\n",
              "lm(formula = dosmann$Talk_SDs ~ dosmann$Score)\n",
              "\n",
              "Residuals:\n",
              "    Min      1Q  Median      3Q     Max \n",
              "-37.266 -12.193  -2.259  18.003  30.113 \n",
              "\n",
              "Coefficients:\n",
              "              Estimate Std. Error t value Pr(>|t|)    \n",
              "(Intercept)     74.322      7.924   9.379 3.93e-08 ***\n",
              "dosmann$Score   21.605     43.868   0.493    0.629    \n",
              "---\n",
              "Signif. codes:  0 ‘***’ 0.001 ‘**’ 0.01 ‘*’ 0.05 ‘.’ 0.1 ‘ ’ 1\n",
              "\n",
              "Residual standard error: 19.98 on 17 degrees of freedom\n",
              "Multiple R-squared:  0.01407,\tAdjusted R-squared:  -0.04393 \n",
              "F-statistic: 0.2426 on 1 and 17 DF,  p-value: 0.6287\n"
            ]
          },
          "metadata": {
            "tags": []
          }
        }
      ]
    },
    {
      "cell_type": "markdown",
      "metadata": {
        "id": "paqOeldGvUSQ"
      },
      "source": [
        "## Magnitude Analysis"
      ]
    },
    {
      "cell_type": "markdown",
      "metadata": {
        "id": "mDLqc8qFvUSQ"
      },
      "source": [
        "### Emojis/Handraises\n"
      ]
    },
    {
      "cell_type": "code",
      "metadata": {
        "id": "RbsyvLV2vUSR",
        "colab": {
          "base_uri": "https://localhost:8080/",
          "height": 318
        },
        "outputId": "7b2a841a-857b-4ddf-fe4b-a5d1943dccc0"
      },
      "source": [
        "dosmann_mag_1 = lm(dosmann$Emojis_Handraises~dosmann$Magnitude)\n",
        "summary(dosmann_mag_1)"
      ],
      "execution_count": null,
      "outputs": [
        {
          "output_type": "display_data",
          "data": {
            "text/plain": [
              "\n",
              "Call:\n",
              "lm(formula = dosmann$Emojis_Handraises ~ dosmann$Magnitude)\n",
              "\n",
              "Residuals:\n",
              "   Min     1Q Median     3Q    Max \n",
              "-72.98 -39.58 -14.68  14.14 170.91 \n",
              "\n",
              "Coefficients:\n",
              "                  Estimate Std. Error t value Pr(>|t|)   \n",
              "(Intercept)       145.2394    46.0674   3.153  0.00581 **\n",
              "dosmann$Magnitude   0.1103     5.6038   0.020  0.98453   \n",
              "---\n",
              "Signif. codes:  0 ‘***’ 0.001 ‘**’ 0.01 ‘*’ 0.05 ‘.’ 0.1 ‘ ’ 1\n",
              "\n",
              "Residual standard error: 59.41 on 17 degrees of freedom\n",
              "Multiple R-squared:  2.277e-05,\tAdjusted R-squared:  -0.0588 \n",
              "F-statistic: 0.0003872 on 1 and 17 DF,  p-value: 0.9845\n"
            ]
          },
          "metadata": {
            "tags": []
          }
        }
      ]
    },
    {
      "cell_type": "markdown",
      "metadata": {
        "id": "2_m8dSaIvUST"
      },
      "source": [
        "### Talk Time Mean"
      ]
    },
    {
      "cell_type": "code",
      "metadata": {
        "id": "gPj7A2yJvUST",
        "colab": {
          "base_uri": "https://localhost:8080/",
          "height": 318
        },
        "outputId": "56b4234c-63ed-49cb-dfdc-6d5f1beed8c2"
      },
      "source": [
        "dosmann_mag_2 = lm(dosmann$Talk_Means~dosmann$Magnitude)\n",
        "summary(dosmann_mag_2)"
      ],
      "execution_count": null,
      "outputs": [
        {
          "output_type": "display_data",
          "data": {
            "text/plain": [
              "\n",
              "Call:\n",
              "lm(formula = dosmann$Talk_Means ~ dosmann$Magnitude)\n",
              "\n",
              "Residuals:\n",
              "    Min      1Q  Median      3Q     Max \n",
              "-24.790 -11.193  -2.246   9.931  28.801 \n",
              "\n",
              "Coefficients:\n",
              "                  Estimate Std. Error t value Pr(>|t|)    \n",
              "(Intercept)        108.852     12.200   8.923 8.01e-08 ***\n",
              "dosmann$Magnitude   -1.502      1.484  -1.012    0.326    \n",
              "---\n",
              "Signif. codes:  0 ‘***’ 0.001 ‘**’ 0.01 ‘*’ 0.05 ‘.’ 0.1 ‘ ’ 1\n",
              "\n",
              "Residual standard error: 15.73 on 17 degrees of freedom\n",
              "Multiple R-squared:  0.05685,\tAdjusted R-squared:  0.001366 \n",
              "F-statistic: 1.025 on 1 and 17 DF,  p-value: 0.3256\n"
            ]
          },
          "metadata": {
            "tags": []
          }
        }
      ]
    },
    {
      "cell_type": "markdown",
      "metadata": {
        "id": "5VtEIDKcvUSW"
      },
      "source": [
        "### Talk Time SD"
      ]
    },
    {
      "cell_type": "code",
      "metadata": {
        "id": "t-KFeaqLvUSX",
        "colab": {
          "base_uri": "https://localhost:8080/",
          "height": 318
        },
        "outputId": "4960aa25-4b3c-408d-ac5c-52a0d5f7e700"
      },
      "source": [
        "dosmann_mag_3 = lm(dosmann$Talk_SDs~dosmann$Magnitude)\n",
        "summary(dosmann_mag_3)"
      ],
      "execution_count": null,
      "outputs": [
        {
          "output_type": "display_data",
          "data": {
            "text/plain": [
              "\n",
              "Call:\n",
              "lm(formula = dosmann$Talk_SDs ~ dosmann$Magnitude)\n",
              "\n",
              "Residuals:\n",
              "    Min      1Q  Median      3Q     Max \n",
              "-40.096 -11.007  -2.758  19.194  29.072 \n",
              "\n",
              "Coefficients:\n",
              "                  Estimate Std. Error t value Pr(>|t|)    \n",
              "(Intercept)         85.198     15.186   5.610 3.12e-05 ***\n",
              "dosmann$Magnitude   -1.790      1.847  -0.969    0.346    \n",
              "---\n",
              "Signif. codes:  0 ‘***’ 0.001 ‘**’ 0.01 ‘*’ 0.05 ‘.’ 0.1 ‘ ’ 1\n",
              "\n",
              "Residual standard error: 19.58 on 17 degrees of freedom\n",
              "Multiple R-squared:  0.05237,\tAdjusted R-squared:  -0.003378 \n",
              "F-statistic: 0.9394 on 1 and 17 DF,  p-value: 0.346\n"
            ]
          },
          "metadata": {
            "tags": []
          }
        }
      ]
    },
    {
      "cell_type": "markdown",
      "metadata": {
        "id": "aiosgEbKvUSZ"
      },
      "source": [
        "## Judgement Analysis"
      ]
    },
    {
      "cell_type": "markdown",
      "metadata": {
        "id": "ld1mNu78vUSZ"
      },
      "source": [
        "### Emojis/Handraises\n"
      ]
    },
    {
      "cell_type": "code",
      "metadata": {
        "id": "PHgwpPO5vUSZ",
        "colab": {
          "base_uri": "https://localhost:8080/",
          "height": 319
        },
        "outputId": "a8c0eca1-692e-44b4-b9d3-283bb0e12ccd"
      },
      "source": [
        "dosmann_judge_1 = lm(dosmann$Emojis_Handraises~dosmann$Judgement)\n",
        "summary(dosmann_judge_1)"
      ],
      "execution_count": null,
      "outputs": [
        {
          "output_type": "display_data",
          "data": {
            "text/plain": [
              "\n",
              "Call:\n",
              "lm(formula = dosmann$Emojis_Handraises ~ dosmann$Judgement)\n",
              "\n",
              "Residuals:\n",
              "    Min      1Q  Median      3Q     Max \n",
              "-80.281 -37.806  -6.281  13.416 172.545 \n",
              "\n",
              "Coefficients:\n",
              "                  Estimate Std. Error t value Pr(>|t|)    \n",
              "(Intercept)        153.281     20.813   7.365  1.1e-06 ***\n",
              "dosmann$Judgement    5.731     12.618   0.454    0.655    \n",
              "---\n",
              "Signif. codes:  0 ‘***’ 0.001 ‘**’ 0.01 ‘*’ 0.05 ‘.’ 0.1 ‘ ’ 1\n",
              "\n",
              "Residual standard error: 59.06 on 17 degrees of freedom\n",
              "Multiple R-squared:  0.01199,\tAdjusted R-squared:  -0.04613 \n",
              "F-statistic: 0.2063 on 1 and 17 DF,  p-value: 0.6555\n"
            ]
          },
          "metadata": {
            "tags": []
          }
        }
      ]
    },
    {
      "cell_type": "markdown",
      "metadata": {
        "id": "8CHZecRBvUSc"
      },
      "source": [
        "### Talk Time Mean"
      ]
    },
    {
      "cell_type": "code",
      "metadata": {
        "id": "IP3TkcktvUSc",
        "colab": {
          "base_uri": "https://localhost:8080/",
          "height": 319
        },
        "outputId": "413f2491-e99e-4d0c-9703-af5a9411f8eb"
      },
      "source": [
        "dosmann_judge_2 = lm(dosmann$Talk_Means~dosmann$Judgement)\n",
        "summary(dosmann_judge_2)"
      ],
      "execution_count": null,
      "outputs": [
        {
          "output_type": "display_data",
          "data": {
            "text/plain": [
              "\n",
              "Call:\n",
              "lm(formula = dosmann$Talk_Means ~ dosmann$Judgement)\n",
              "\n",
              "Residuals:\n",
              "    Min      1Q  Median      3Q     Max \n",
              "-21.365 -12.987  -3.982  10.697  29.368 \n",
              "\n",
              "Coefficients:\n",
              "                  Estimate Std. Error t value Pr(>|t|)    \n",
              "(Intercept)        96.7054     5.7084  16.941 4.43e-12 ***\n",
              "dosmann$Judgement  -0.2804     3.4608  -0.081    0.936    \n",
              "---\n",
              "Signif. codes:  0 ‘***’ 0.001 ‘**’ 0.01 ‘*’ 0.05 ‘.’ 0.1 ‘ ’ 1\n",
              "\n",
              "Residual standard error: 16.2 on 17 degrees of freedom\n",
              "Multiple R-squared:  0.0003859,\tAdjusted R-squared:  -0.05841 \n",
              "F-statistic: 0.006563 on 1 and 17 DF,  p-value: 0.9364\n"
            ]
          },
          "metadata": {
            "tags": []
          }
        }
      ]
    },
    {
      "cell_type": "markdown",
      "metadata": {
        "id": "TEndAo6MvUSe"
      },
      "source": [
        "### Talk Time SD"
      ]
    },
    {
      "cell_type": "code",
      "metadata": {
        "id": "unCMWqnHvUSf",
        "colab": {
          "base_uri": "https://localhost:8080/",
          "height": 319
        },
        "outputId": "a32a9b11-316a-40e5-9ec5-0a26b77cdba8"
      },
      "source": [
        "dosmann_judge_3 = lm(dosmann$Talk_SDs~dosmann$Judgement)\n",
        "summary(dosmann_judge_3)"
      ],
      "execution_count": null,
      "outputs": [
        {
          "output_type": "display_data",
          "data": {
            "text/plain": [
              "\n",
              "Call:\n",
              "lm(formula = dosmann$Talk_SDs ~ dosmann$Judgement)\n",
              "\n",
              "Residuals:\n",
              "    Min      1Q  Median      3Q     Max \n",
              "-38.709 -10.681  -0.286  18.246  29.031 \n",
              "\n",
              "Coefficients:\n",
              "                  Estimate Std. Error t value Pr(>|t|)    \n",
              "(Intercept)         75.667      6.941  10.901 4.31e-09 ***\n",
              "dosmann$Judgement    3.617      4.208   0.859    0.402    \n",
              "---\n",
              "Signif. codes:  0 ‘***’ 0.001 ‘**’ 0.01 ‘*’ 0.05 ‘.’ 0.1 ‘ ’ 1\n",
              "\n",
              "Residual standard error: 19.7 on 17 degrees of freedom\n",
              "Multiple R-squared:  0.04164,\tAdjusted R-squared:  -0.01473 \n",
              "F-statistic: 0.7386 on 1 and 17 DF,  p-value: 0.4021\n"
            ]
          },
          "metadata": {
            "tags": []
          }
        }
      ]
    },
    {
      "cell_type": "markdown",
      "metadata": {
        "id": "cLUHGF_m1Zc9"
      },
      "source": [
        "## Plots"
      ]
    },
    {
      "cell_type": "code",
      "metadata": {
        "id": "r9ZGwSet1W9Y",
        "colab": {
          "base_uri": "https://localhost:8080/",
          "height": 437
        },
        "outputId": "efacb5fb-da98-47fa-fbcf-fbfdd45b3dd5"
      },
      "source": [
        "par(mfrow=c(3,3))\n",
        " \n",
        "#Score\n",
        "plot(dosmann$Emojis_Handraises~dosmann$Score)\n",
        "abline(dosmann_score_1)\n",
        " \n",
        "plot(dosmann$Talk_Means~dosmann$Score)\n",
        "abline(dosmann_score_2)\n",
        " \n",
        "plot(dosmann$Talk_SDs~dosmann$Score)\n",
        "abline(dosmann_score_3)\n",
        " \n",
        "#Magnitude\n",
        "plot(dosmann$Emojis_Handraises~dosmann$Magnitude)\n",
        "abline(dosmann_mag_1)\n",
        " \n",
        "plot(dosmann$Talk_Means~dosmann$Magnitude)\n",
        "abline(dosmann_mag_2)\n",
        " \n",
        "plot(dosmann$Talk_SDs~dosmann$Magnitude)\n",
        "abline(dosmann_mag_3)\n",
        " \n",
        "#Judgement\n",
        "plot(dosmann$Emojis_Handraises~dosmann$Judgement)\n",
        "abline(dosmann_judge_1)\n",
        " \n",
        "plot(dosmann$Talk_Means~dosmann$Judgement)\n",
        "abline(dosmann_judge_2)\n",
        " \n",
        "plot(dosmann$Talk_SDs~dosmann$Judgement)\n",
        "abline(dosmann_judge_3)"
      ],
      "execution_count": null,
      "outputs": [
        {
          "output_type": "display_data",
          "data": {
            "image/png": "[encoded data removed]",
            "text/plain": [
              "plot without title"
            ]
          },
          "metadata": {
            "tags": [],
            "image/png": {
              "width": 420,
              "height": 420
            },
            "text/plain": {
              "width": 420,
              "height": 420
            }
          }
        }
      ]
    },
    {
      "cell_type": "markdown",
      "metadata": {
        "id": "--LtdLmJxEsK"
      },
      "source": [
        "## Genetic Matching and Causation"
      ]
    },
    {
      "cell_type": "markdown",
      "metadata": {
        "id": "J_K1xQGivE7e"
      },
      "source": [
        "### Effect of Judgement on Talk-Time SD"
      ]
    },
    {
      "cell_type": "code",
      "metadata": {
        "id": "FvtJq-_lxEsY",
        "colab": {
          "base_uri": "https://localhost:8080/",
          "height": 217
        },
        "outputId": "90d3a00b-e470-499f-d19f-a92558d6f274"
      },
      "source": [
        "##Installing required packages\n",
        "#install.packages(\"rbounds\")\n",
        "#install.packages(\"rgenoud\")\n",
        "#library(rbounds)\n",
        "#library(rgenoud)\n",
        "\n",
        "##Defining Treatment and Control\n",
        "foo = read.csv(\"dosmann.csv\")\n",
        "\n",
        "treat = foo$Judgement<(mean(foo$Judgement)-sd(foo$Judgement))\n",
        "control = foo$Judgement>(mean(foo$Judgement)-sd(foo$Judgement))\n",
        "vars = treat|control\n",
        "foo = foo[vars,]\n",
        "foo$Treat = foo$Judgement<(mean(foo$Judgement)-sd(foo$Judgement))\n",
        "foo$AvgGrade = mean(c(foo$Prep.Mean, foo$Video.Mean))\n",
        "foo$AvgGradeSD = mean(c(foo$Video.SD, foo$Prep.SD))\n",
        "\n",
        "for (i in 1:length(foo$Treat)){\n",
        "  if (is.na(foo$Video.Mean[i])){\n",
        "    foo$AvgGrade[i] = foo$Prep.Mean[i]\n",
        "  } else if (is.na(foo$Prep.Mean[i])){\n",
        "    foo$AvgGrade[i] = foo$Video.Mean[i]\n",
        "  } else {\n",
        "    foo$AvgGrade[i] = mean(c(foo$Prep.Mean[i], foo$Video.Mean[i]))\n",
        "  }\n",
        "}\n",
        "\n",
        "for (i in 1:length(foo$Treat)){\n",
        "  if (is.na(foo$Video.SD[i])){\n",
        "    foo$AvgGradeSD[i] = foo$Prep.SD[i]\n",
        "  } else if (is.na(foo$Prep.SD[i])){\n",
        "    foo$AvgGradeSD[i] = foo$Video.SD[i]\n",
        "  } else {\n",
        "    foo$AvgGradeSD[i] = mean(c(foo$Prep.SD[i], foo$Video.SD[i]))\n",
        "  }\n",
        "}\n",
        "foo = foo[!is.na(foo$AvgGrade),]\n",
        "\n",
        "\n",
        "Y = foo$Talk_SDs\n",
        "Tr = foo$Treat\n",
        "X = cbind(foo$Class.Date, foo$Number.of.Students, foo$AvgGrade, foo$AvgGradeSD)\n",
        "genout = GenMatch(Tr=Tr, X=X, estimand = \"ATT\", pop.size=500, print.level = 0, replace = TRUE)\n",
        "mout_ttsd_dosmann = Match(Tr = Tr, Y=Y, X=X, estimand = \"ATT\", replace = TRUE, Weight.matrix = genout)\n",
        "summary(mout_ttsd_dosmann)\n"
      ],
      "execution_count": null,
      "outputs": [
        {
          "output_type": "stream",
          "text": [
            "\n",
            "Estimate...  16.561 \n",
            "AI SE......  0.48622 \n",
            "T-stat.....  34.06 \n",
            "p.val......  < 2.22e-16 \n",
            "\n",
            "Original number of observations..............  12 \n",
            "Original number of treated obs...............  2 \n",
            "Matched number of observations...............  2 \n",
            "Matched number of observations  (unweighted).  2 \n",
            "\n"
          ],
          "name": "stdout"
        }
      ]
    },
    {
      "cell_type": "code",
      "metadata": {
        "id": "De010GCLvctk",
        "colab": {
          "base_uri": "https://localhost:8080/",
          "height": 35
        },
        "outputId": "e4e0d552-65e5-41c8-cc54-5a1355fc704d"
      },
      "source": [
        "mb_ttsd_dosman = MatchBalance(foo$Treat~foo$Class.Date+foo$Number.of.Students+foo$AvgGrade+foo$AvgGradeSD, print.level = 0, match.out = mout_ttsd_dosmann)\n",
        "mb_ttsd_dosman$AMsmallest.p.value"
      ],
      "execution_count": null,
      "outputs": [
        {
          "output_type": "display_data",
          "data": {
            "text/plain": [
              "[1] 0.2015681"
            ],
            "text/latex": "0.201568101867602",
            "text/markdown": "0.201568101867602",
            "text/html": [
              "0.201568101867602"
            ]
          },
          "metadata": {
            "tags": []
          }
        }
      ]
    },
    {
      "cell_type": "markdown",
      "metadata": {
        "id": "w9zzRv4Nvz6Y"
      },
      "source": [
        "### Effect of Judgement on Emojis/Handraises"
      ]
    },
    {
      "cell_type": "code",
      "metadata": {
        "id": "Fkx_pXaZv33z",
        "colab": {
          "base_uri": "https://localhost:8080/",
          "height": 217
        },
        "outputId": "75fa2958-d88b-4b85-d448-5adb944bb1c8"
      },
      "source": [
        "##Installing required packages\n",
        "#install.packages(\"rbounds\")\n",
        "#install.packages(\"rgenoud\")\n",
        "#library(rbounds)\n",
        "#library(rgenoud)\n",
        "\n",
        "##Defining Treatment and Control\n",
        "foo = read.csv(\"dosmann.csv\")\n",
        "\n",
        "treat = foo$Judgement<(mean(foo$Judgement)-sd(foo$Judgement))\n",
        "control = foo$Judgement>(mean(foo$Judgement)-sd(foo$Judgement))\n",
        "vars = treat|control\n",
        "foo = foo[vars,]\n",
        "foo$Treat = foo$Judgement<(mean(foo$Judgement)-sd(foo$Judgement))\n",
        "foo$AvgGrade = mean(c(foo$Prep.Mean, foo$Video.Mean))\n",
        "foo$AvgGradeSD = mean(c(foo$Video.SD, foo$Prep.SD))\n",
        "\n",
        "for (i in 1:length(foo$Treat)){\n",
        "  if (is.na(foo$Video.Mean[i])){\n",
        "    foo$AvgGrade[i] = foo$Prep.Mean[i]\n",
        "  } else if (is.na(foo$Prep.Mean[i])){\n",
        "    foo$AvgGrade[i] = foo$Video.Mean[i]\n",
        "  } else {\n",
        "    foo$AvgGrade[i] = mean(c(foo$Prep.Mean[i], foo$Video.Mean[i]))\n",
        "  }\n",
        "}\n",
        "\n",
        "for (i in 1:length(foo$Treat)){\n",
        "  if (is.na(foo$Video.SD[i])){\n",
        "    foo$AvgGradeSD[i] = foo$Prep.SD[i]\n",
        "  } else if (is.na(foo$Prep.SD[i])){\n",
        "    foo$AvgGradeSD[i] = foo$Video.SD[i]\n",
        "  } else {\n",
        "    foo$AvgGradeSD[i] = mean(c(foo$Prep.SD[i], foo$Video.SD[i]))\n",
        "  }\n",
        "}\n",
        "foo = foo[!is.na(foo$AvgGrade),]\n",
        "\n",
        "\n",
        "Y = foo$Emojis_Handraises\n",
        "Tr = foo$Treat\n",
        "X = cbind(foo$Class.Date, foo$Number.of.Students, foo$AvgGrade, foo$AvgGradeSD)\n",
        "genout = GenMatch(Tr=Tr, X=X, estimand = \"ATT\", pop.size=500, print.level = 0, replace = TRUE)\n",
        "mout_eh_dosmann = Match(Tr = Tr, Y=Y, X=X, estimand = \"ATT\", replace = TRUE, Weight.matrix = genout)\n",
        "summary(mout_eh_dosmann)"
      ],
      "execution_count": null,
      "outputs": [
        {
          "output_type": "stream",
          "text": [
            "\n",
            "Estimate...  12 \n",
            "AI SE......  5.6569 \n",
            "T-stat.....  2.1213 \n",
            "p.val......  0.033895 \n",
            "\n",
            "Original number of observations..............  12 \n",
            "Original number of treated obs...............  2 \n",
            "Matched number of observations...............  2 \n",
            "Matched number of observations  (unweighted).  2 \n",
            "\n"
          ],
          "name": "stdout"
        }
      ]
    },
    {
      "cell_type": "code",
      "metadata": {
        "id": "NHwjAthLv34A",
        "colab": {
          "base_uri": "https://localhost:8080/",
          "height": 35
        },
        "outputId": "680ce9ee-0f4a-4909-d694-90303711e969"
      },
      "source": [
        "mb_eh_dosmann = MatchBalance(foo$Treat~foo$Class.Date+foo$Number.of.Students+foo$AvgGrade+foo$AvgGradeSD, print.level = 0, match.out = mout_eh_dosmann)\n",
        "mb_eh_dosmann$AMsmallest.p.value"
      ],
      "execution_count": null,
      "outputs": [
        {
          "output_type": "display_data",
          "data": {
            "text/plain": [
              "[1] 0.188"
            ],
            "text/latex": "0.188",
            "text/markdown": "0.188",
            "text/html": [
              "0.188"
            ]
          },
          "metadata": {
            "tags": []
          }
        }
      ]
    },
    {
      "cell_type": "markdown",
      "metadata": {
        "id": "aaH-9rhEcEpW"
      },
      "source": [
        "# Prof Fiorelli"
      ]
    },
    {
      "cell_type": "code",
      "metadata": {
        "id": "51OOOrnaHfyA"
      },
      "source": [
        "fiorelli = read.csv(\"fiorelli.csv\")"
      ],
      "execution_count": null,
      "outputs": []
    },
    {
      "cell_type": "markdown",
      "metadata": {
        "id": "ZSwH0WKsnWBa"
      },
      "source": [
        "## Building the CSV File\n",
        "\n"
      ]
    },
    {
      "cell_type": "code",
      "metadata": {
        "id": "WYSXQ0sRdod2"
      },
      "source": [
        "fiorelli = read.csv(\"Fiorelli_results.csv\")\n",
        "fiorelli = prof_talk_times(fiorelli, \"Lindsey Fiorelli \")"
      ],
      "execution_count": null,
      "outputs": []
    },
    {
      "cell_type": "code",
      "metadata": {
        "id": "A81iqSbddod_"
      },
      "source": [
        "foo = read.csv(\"emoji_hands.csv\")\n",
        "dates = unique(foo$Class.Date)\n",
        "dates = dates[-(1:7)]\n",
        "dates = rev(dates)\n",
        "foo = foo[foo$Class.Date %in% dates,]\n",
        "events <- c()\n",
        "for (i in dates){\n",
        "  events <- c(events, length(foo[foo$Class.Date==i,1]))\n",
        "}\n",
        "\n",
        "fiorelli$Emojis_Handraises = events"
      ],
      "execution_count": null,
      "outputs": []
    },
    {
      "cell_type": "code",
      "metadata": {
        "id": "GbSsjhpTpeE8"
      },
      "source": [
        "write.csv(fiorelli, \"fiorelli.csv\")"
      ],
      "execution_count": null,
      "outputs": []
    },
    {
      "cell_type": "markdown",
      "metadata": {
        "id": "58T8SxTAGMSE"
      },
      "source": [
        "## Score Correlation Analysis"
      ]
    },
    {
      "cell_type": "markdown",
      "metadata": {
        "id": "XUIoVGoWGMSI"
      },
      "source": [
        "### Emojis/Handraises\n"
      ]
    },
    {
      "cell_type": "code",
      "metadata": {
        "id": "jPQSfEooGMSK",
        "colab": {
          "base_uri": "https://localhost:8080/",
          "height": 345
        },
        "outputId": "79e2b532-3351-4462-e481-2604c4b63bab"
      },
      "source": [
        "fiorelli_score_1 = lm(fiorelli$Emojis_Handraises~fiorelli$Score)\n",
        "summary(fiorelli_score_1)"
      ],
      "execution_count": null,
      "outputs": [
        {
          "output_type": "display_data",
          "data": {
            "text/plain": [
              "\n",
              "Call:\n",
              "lm(formula = fiorelli$Emojis_Handraises ~ fiorelli$Score)\n",
              "\n",
              "Residuals:\n",
              "    Min      1Q  Median      3Q     Max \n",
              "-79.847 -36.466  -4.657  25.391 116.343 \n",
              "\n",
              "Coefficients:\n",
              "               Estimate Std. Error t value Pr(>|t|)    \n",
              "(Intercept)      235.85      22.39   10.53 7.19e-09 ***\n",
              "fiorelli$Score   110.95      82.19    1.35    0.195    \n",
              "---\n",
              "Signif. codes:  0 ‘***’ 0.001 ‘**’ 0.01 ‘*’ 0.05 ‘.’ 0.1 ‘ ’ 1\n",
              "\n",
              "Residual standard error: 54.32 on 17 degrees of freedom\n",
              "Multiple R-squared:  0.09682,\tAdjusted R-squared:  0.04369 \n",
              "F-statistic: 1.822 on 1 and 17 DF,  p-value: 0.1947\n"
            ]
          },
          "metadata": {
            "tags": []
          }
        }
      ]
    },
    {
      "cell_type": "markdown",
      "metadata": {
        "id": "dJwuqM2rGMSU"
      },
      "source": [
        "### Talk Time Mean"
      ]
    },
    {
      "cell_type": "code",
      "metadata": {
        "id": "_ft7sjWMGMSW",
        "colab": {
          "base_uri": "https://localhost:8080/",
          "height": 345
        },
        "outputId": "473e44dc-f6a4-424d-c660-e6ed0a161515"
      },
      "source": [
        "fiorelli_score_2 = lm(fiorelli$Talk_Means~fiorelli$Score)\n",
        "summary(fiorelli_score_2)"
      ],
      "execution_count": null,
      "outputs": [
        {
          "output_type": "display_data",
          "data": {
            "text/plain": [
              "\n",
              "Call:\n",
              "lm(formula = fiorelli$Talk_Means ~ fiorelli$Score)\n",
              "\n",
              "Residuals:\n",
              "    Min      1Q  Median      3Q     Max \n",
              "-35.209 -16.678  -0.923   7.603  66.522 \n",
              "\n",
              "Coefficients:\n",
              "               Estimate Std. Error t value Pr(>|t|)    \n",
              "(Intercept)     129.923     10.531  12.337 6.58e-10 ***\n",
              "fiorelli$Score   -4.795     38.658  -0.124    0.903    \n",
              "---\n",
              "Signif. codes:  0 ‘***’ 0.001 ‘**’ 0.01 ‘*’ 0.05 ‘.’ 0.1 ‘ ’ 1\n",
              "\n",
              "Residual standard error: 25.55 on 17 degrees of freedom\n",
              "Multiple R-squared:  0.0009043,\tAdjusted R-squared:  -0.05787 \n",
              "F-statistic: 0.01539 on 1 and 17 DF,  p-value: 0.9027\n"
            ]
          },
          "metadata": {
            "tags": []
          }
        }
      ]
    },
    {
      "cell_type": "markdown",
      "metadata": {
        "id": "gfJHk03tGMSZ"
      },
      "source": [
        "### Talk Time SD"
      ]
    },
    {
      "cell_type": "code",
      "metadata": {
        "id": "airlXMO-GMSa",
        "colab": {
          "base_uri": "https://localhost:8080/",
          "height": 345
        },
        "outputId": "90051c67-cb5a-4fd5-b8f1-8b76fe7bf236"
      },
      "source": [
        "fiorelli_score_3 = lm(fiorelli$Talk_SDs~fiorelli$Score)\n",
        "summary(fiorelli_score_3)"
      ],
      "execution_count": null,
      "outputs": [
        {
          "output_type": "display_data",
          "data": {
            "text/plain": [
              "\n",
              "Call:\n",
              "lm(formula = fiorelli$Talk_SDs ~ fiorelli$Score)\n",
              "\n",
              "Residuals:\n",
              "    Min      1Q  Median      3Q     Max \n",
              "-42.550 -11.193  -6.562   8.518  85.940 \n",
              "\n",
              "Coefficients:\n",
              "               Estimate Std. Error t value Pr(>|t|)    \n",
              "(Intercept)       83.17      10.96   7.591  7.4e-07 ***\n",
              "fiorelli$Score    33.94      40.22   0.844     0.41    \n",
              "---\n",
              "Signif. codes:  0 ‘***’ 0.001 ‘**’ 0.01 ‘*’ 0.05 ‘.’ 0.1 ‘ ’ 1\n",
              "\n",
              "Residual standard error: 26.58 on 17 degrees of freedom\n",
              "Multiple R-squared:  0.04021,\tAdjusted R-squared:  -0.01625 \n",
              "F-statistic: 0.7122 on 1 and 17 DF,  p-value: 0.4104\n"
            ]
          },
          "metadata": {
            "tags": []
          }
        }
      ]
    },
    {
      "cell_type": "markdown",
      "metadata": {
        "id": "tlpKPBRgGMSc"
      },
      "source": [
        "## Magnitude Analysis"
      ]
    },
    {
      "cell_type": "markdown",
      "metadata": {
        "id": "MxJ6c5rOGMSe"
      },
      "source": [
        "### Emojis/Handraises\n"
      ]
    },
    {
      "cell_type": "code",
      "metadata": {
        "id": "VcKQBistGMSf",
        "colab": {
          "base_uri": "https://localhost:8080/",
          "height": 345
        },
        "outputId": "3f8af805-e122-4805-dac6-39bdfa533972"
      },
      "source": [
        "fiorelli_mag_1 = lm(fiorelli$Emojis_Handraises~fiorelli$Magnitude)\n",
        "summary(fiorelli_mag_1)"
      ],
      "execution_count": null,
      "outputs": [
        {
          "output_type": "display_data",
          "data": {
            "text/plain": [
              "\n",
              "Call:\n",
              "lm(formula = fiorelli$Emojis_Handraises ~ fiorelli$Magnitude)\n",
              "\n",
              "Residuals:\n",
              "    Min      1Q  Median      3Q     Max \n",
              "-62.694 -48.692  -1.773  24.477 115.742 \n",
              "\n",
              "Coefficients:\n",
              "                   Estimate Std. Error t value Pr(>|t|)    \n",
              "(Intercept)         235.195     53.757   4.375 0.000413 ***\n",
              "fiorelli$Magnitude   -1.774      3.784  -0.469 0.645053    \n",
              "---\n",
              "Signif. codes:  0 ‘***’ 0.001 ‘**’ 0.01 ‘*’ 0.05 ‘.’ 0.1 ‘ ’ 1\n",
              "\n",
              "Residual standard error: 56.79 on 17 degrees of freedom\n",
              "Multiple R-squared:  0.01277,\tAdjusted R-squared:  -0.0453 \n",
              "F-statistic: 0.2199 on 1 and 17 DF,  p-value: 0.6451\n"
            ]
          },
          "metadata": {
            "tags": []
          }
        }
      ]
    },
    {
      "cell_type": "markdown",
      "metadata": {
        "id": "p9bQIp_yGMSh"
      },
      "source": [
        "### Talk Time Mean"
      ]
    },
    {
      "cell_type": "code",
      "metadata": {
        "id": "LggX5apwGMSi",
        "colab": {
          "base_uri": "https://localhost:8080/",
          "height": 345
        },
        "outputId": "e82b32a6-01b2-4db8-fc69-5581f6d1ad60"
      },
      "source": [
        "fiorelli_mag_2 = lm(fiorelli$Talk_Means~fiorelli$Magnitude)\n",
        "summary(fiorelli_mag_2)"
      ],
      "execution_count": null,
      "outputs": [
        {
          "output_type": "display_data",
          "data": {
            "text/plain": [
              "\n",
              "Call:\n",
              "lm(formula = fiorelli$Talk_Means ~ fiorelli$Magnitude)\n",
              "\n",
              "Residuals:\n",
              "    Min      1Q  Median      3Q     Max \n",
              "-36.355 -17.970  -1.974   8.229  65.009 \n",
              "\n",
              "Coefficients:\n",
              "                   Estimate Std. Error t value Pr(>|t|)    \n",
              "(Intercept)        133.2043    24.1893   5.507 3.85e-05 ***\n",
              "fiorelli$Magnitude  -0.1593     1.7025  -0.094    0.927    \n",
              "---\n",
              "Signif. codes:  0 ‘***’ 0.001 ‘**’ 0.01 ‘*’ 0.05 ‘.’ 0.1 ‘ ’ 1\n",
              "\n",
              "Residual standard error: 25.56 on 17 degrees of freedom\n",
              "Multiple R-squared:  0.0005149,\tAdjusted R-squared:  -0.05828 \n",
              "F-statistic: 0.008757 on 1 and 17 DF,  p-value: 0.9265\n"
            ]
          },
          "metadata": {
            "tags": []
          }
        }
      ]
    },
    {
      "cell_type": "markdown",
      "metadata": {
        "id": "g_kBglv7GMSl"
      },
      "source": [
        "### Talk Time SD"
      ]
    },
    {
      "cell_type": "code",
      "metadata": {
        "id": "gcMc9SanGMSm",
        "colab": {
          "base_uri": "https://localhost:8080/",
          "height": 345
        },
        "outputId": "02433d76-2dda-4343-e3ed-a1546a4db4d7"
      },
      "source": [
        "fiorelli_mag_3 = lm(fiorelli$Talk_SDs~fiorelli$Magnitude)\n",
        "summary(fiorelli_mag_3)"
      ],
      "execution_count": null,
      "outputs": [
        {
          "output_type": "display_data",
          "data": {
            "text/plain": [
              "\n",
              "Call:\n",
              "lm(formula = fiorelli$Talk_SDs ~ fiorelli$Magnitude)\n",
              "\n",
              "Residuals:\n",
              "    Min      1Q  Median      3Q     Max \n",
              "-35.407 -10.739  -5.309   8.419  89.863 \n",
              "\n",
              "Coefficients:\n",
              "                   Estimate Std. Error t value Pr(>|t|)   \n",
              "(Intercept)          94.787     25.225   3.758  0.00157 **\n",
              "fiorelli$Magnitude   -1.400      1.775  -0.789  0.44121   \n",
              "---\n",
              "Signif. codes:  0 ‘***’ 0.001 ‘**’ 0.01 ‘*’ 0.05 ‘.’ 0.1 ‘ ’ 1\n",
              "\n",
              "Residual standard error: 26.65 on 17 degrees of freedom\n",
              "Multiple R-squared:  0.03529,\tAdjusted R-squared:  -0.02146 \n",
              "F-statistic: 0.6219 on 1 and 17 DF,  p-value: 0.4412\n"
            ]
          },
          "metadata": {
            "tags": []
          }
        }
      ]
    },
    {
      "cell_type": "markdown",
      "metadata": {
        "id": "VmL0TzesGMSo"
      },
      "source": [
        "## Judgement Analysis"
      ]
    },
    {
      "cell_type": "markdown",
      "metadata": {
        "id": "ZCYHjuG2GMSp"
      },
      "source": [
        "### Emojis/Handraises\n"
      ]
    },
    {
      "cell_type": "code",
      "metadata": {
        "id": "49MkOjLLGMSq",
        "colab": {
          "base_uri": "https://localhost:8080/",
          "height": 319
        },
        "outputId": "1dbf3e19-87b1-4540-d6f5-bbc817bc9279"
      },
      "source": [
        "fiorelli_judge_1 = lm(fiorelli$Emojis_Handraises~fiorelli$Judgement)\n",
        "summary(fiorelli_judge_1)"
      ],
      "execution_count": null,
      "outputs": [
        {
          "output_type": "display_data",
          "data": {
            "text/plain": [
              "\n",
              "Call:\n",
              "lm(formula = fiorelli$Emojis_Handraises ~ fiorelli$Judgement)\n",
              "\n",
              "Residuals:\n",
              "   Min     1Q Median     3Q    Max \n",
              "-73.47 -44.57  -4.87  25.56 113.49 \n",
              "\n",
              "Coefficients:\n",
              "                   Estimate Std. Error t value Pr(>|t|)    \n",
              "(Intercept)         229.467     20.045  11.448 2.06e-09 ***\n",
              "fiorelli$Judgement    5.492      4.573   1.201    0.246    \n",
              "---\n",
              "Signif. codes:  0 ‘***’ 0.001 ‘**’ 0.01 ‘*’ 0.05 ‘.’ 0.1 ‘ ’ 1\n",
              "\n",
              "Residual standard error: 54.88 on 17 degrees of freedom\n",
              "Multiple R-squared:  0.07819,\tAdjusted R-squared:  0.02397 \n",
              "F-statistic: 1.442 on 1 and 17 DF,  p-value: 0.2463\n"
            ]
          },
          "metadata": {
            "tags": []
          }
        }
      ]
    },
    {
      "cell_type": "markdown",
      "metadata": {
        "id": "gWnPehfFGMSs"
      },
      "source": [
        "### Talk Time Mean"
      ]
    },
    {
      "cell_type": "code",
      "metadata": {
        "id": "sXzOn7v3GMSt",
        "colab": {
          "base_uri": "https://localhost:8080/",
          "height": 319
        },
        "outputId": "552a8343-b5c5-46ec-b255-602d77cad28f"
      },
      "source": [
        "fiorelli_judge_2 = lm(fiorelli$Talk_Means~fiorelli$Judgement)\n",
        "summary(fiorelli_judge_2)"
      ],
      "execution_count": null,
      "outputs": [
        {
          "output_type": "display_data",
          "data": {
            "text/plain": [
              "\n",
              "Call:\n",
              "lm(formula = fiorelli$Talk_Means ~ fiorelli$Judgement)\n",
              "\n",
              "Residuals:\n",
              "    Min      1Q  Median      3Q     Max \n",
              "-35.245 -16.604  -0.959   7.535  66.486 \n",
              "\n",
              "Coefficients:\n",
              "                   Estimate Std. Error t value Pr(>|t|)    \n",
              "(Intercept)        129.9588     9.3310  13.928 9.99e-11 ***\n",
              "fiorelli$Judgement  -0.3077     2.1290  -0.145    0.887    \n",
              "---\n",
              "Signif. codes:  0 ‘***’ 0.001 ‘**’ 0.01 ‘*’ 0.05 ‘.’ 0.1 ‘ ’ 1\n",
              "\n",
              "Residual standard error: 25.55 on 17 degrees of freedom\n",
              "Multiple R-squared:  0.001227,\tAdjusted R-squared:  -0.05752 \n",
              "F-statistic: 0.02088 on 1 and 17 DF,  p-value: 0.8868\n"
            ]
          },
          "metadata": {
            "tags": []
          }
        }
      ]
    },
    {
      "cell_type": "markdown",
      "metadata": {
        "id": "rYRoL2emGMSv"
      },
      "source": [
        "### Talk Time SD"
      ]
    },
    {
      "cell_type": "code",
      "metadata": {
        "id": "V68kgwTbGMSw",
        "colab": {
          "base_uri": "https://localhost:8080/",
          "height": 319
        },
        "outputId": "ac5e5e42-7454-4546-a775-6235fcd3f133"
      },
      "source": [
        "fiorelli_judge_3 = lm(fiorelli$Talk_SDs~fiorelli$Judgement)\n",
        "summary(fiorelli_judge_3)"
      ],
      "execution_count": null,
      "outputs": [
        {
          "output_type": "display_data",
          "data": {
            "text/plain": [
              "\n",
              "Call:\n",
              "lm(formula = fiorelli$Talk_SDs ~ fiorelli$Judgement)\n",
              "\n",
              "Residuals:\n",
              "    Min      1Q  Median      3Q     Max \n",
              "-40.314  -9.808  -6.802   7.996  88.176 \n",
              "\n",
              "Coefficients:\n",
              "                   Estimate Std. Error t value Pr(>|t|)    \n",
              "(Intercept)          80.933      9.764   8.289 2.24e-07 ***\n",
              "fiorelli$Judgement    1.596      2.228   0.717    0.483    \n",
              "---\n",
              "Signif. codes:  0 ‘***’ 0.001 ‘**’ 0.01 ‘*’ 0.05 ‘.’ 0.1 ‘ ’ 1\n",
              "\n",
              "Residual standard error: 26.73 on 17 degrees of freedom\n",
              "Multiple R-squared:  0.02932,\tAdjusted R-squared:  -0.02777 \n",
              "F-statistic: 0.5136 on 1 and 17 DF,  p-value: 0.4833\n"
            ]
          },
          "metadata": {
            "tags": []
          }
        }
      ]
    },
    {
      "cell_type": "markdown",
      "metadata": {
        "id": "DWLjToAhHKTu"
      },
      "source": [
        "### Plots"
      ]
    },
    {
      "cell_type": "code",
      "metadata": {
        "id": "s51-vgomHO3s",
        "colab": {
          "base_uri": "https://localhost:8080/",
          "height": 437
        },
        "outputId": "f526a98c-9abf-48f2-dd8c-38b66a2ab9f2"
      },
      "source": [
        "par(mfrow=c(3,3))\n",
        " \n",
        "#Score\n",
        "plot(fiorelli$Emojis_Handraises~fiorelli$Score)\n",
        "abline(fiorelli_score_1)\n",
        " \n",
        "plot(fiorelli$Talk_Means~fiorelli$Score)\n",
        "abline(fiorelli_score_2)\n",
        " \n",
        "plot(fiorelli$Talk_SDs~fiorelli$Score)\n",
        "abline(fiorelli_score_3)\n",
        " \n",
        "#Magnitude\n",
        "plot(fiorelli$Emojis_Handraises~fiorelli$Magnitude)\n",
        "abline(fiorelli_mag_1)\n",
        " \n",
        "plot(fiorelli$Talk_Means~fiorelli$Magnitude)\n",
        "abline(fiorelli_mag_2)\n",
        " \n",
        "plot(fiorelli$Talk_SDs~fiorelli$Magnitude)\n",
        "abline(fiorelli_mag_3)\n",
        " \n",
        "#Judgement\n",
        "plot(fiorelli$Emojis_Handraises~fiorelli$Judgement)\n",
        "abline(fiorelli_judge_1)\n",
        " \n",
        "plot(fiorelli$Talk_Means~fiorelli$Judgement)\n",
        "abline(fiorelli_judge_2)\n",
        " \n",
        "plot(fiorelli$Talk_SDs~fiorelli$Judgement)\n",
        "abline(fiorelli_judge_3)"
      ],
      "execution_count": null,
      "outputs": [
        {
          "output_type": "display_data",
          "data": {
            "image/png": "[encoded data removed]",
            "text/plain": [
              "plot without title"
            ]
          },
          "metadata": {
            "tags": [],
            "image/png": {
              "width": 420,
              "height": 420
            }
          }
        }
      ]
    },
    {
      "cell_type": "markdown",
      "metadata": {
        "id": "Q6PdNSOh7A7r"
      },
      "source": [
        "## Genetic Matching and Causation"
      ]
    },
    {
      "cell_type": "markdown",
      "metadata": {
        "id": "-gS-UBivyZTw"
      },
      "source": [
        "### Effect of Judgement on Talk-Time SD"
      ]
    },
    {
      "cell_type": "code",
      "metadata": {
        "id": "HYf5RnHs7A75",
        "colab": {
          "base_uri": "https://localhost:8080/",
          "height": 217
        },
        "outputId": "967f702d-edf9-477e-857a-7e7dd243ed32"
      },
      "source": [
        "##Installing required packages\n",
        "#install.packages(\"rbounds\")\n",
        "#install.packages(\"rgenoud\")\n",
        "library(rbounds)\n",
        "library(rgenoud)\n",
        "\n",
        "##Defining Treatment and Control\n",
        "foo = read.csv(\"fiorelli.csv\")\n",
        "\n",
        "treat = foo$Judgement<(mean(foo$Judgement)-sd(foo$Judgement))\n",
        "control = foo$Judgement>(mean(foo$Judgement)-sd(foo$Judgement))\n",
        "vars = treat|control\n",
        "foo = foo[vars,]\n",
        "foo$Treat = foo$Judgement<(mean(foo$Judgement)-sd(foo$Judgement))\n",
        "foo$AvgGrade = mean(c(foo$Prep.Mean, foo$Video.Mean))\n",
        "foo$AvgGradeSD = mean(c(foo$Video.SD, foo$Prep.SD))\n",
        "\n",
        "for (i in 1:length(foo$Treat)){\n",
        "  if (is.na(foo$Video.Mean[i])){\n",
        "    foo$AvgGrade[i] = foo$Prep.Mean[i]\n",
        "  } else if (is.na(foo$Prep.Mean[i])){\n",
        "    foo$AvgGrade[i] = foo$Video.Mean[i]\n",
        "  } else {\n",
        "    foo$AvgGrade[i] = mean(c(foo$Prep.Mean[i], foo$Video.Mean[i]))\n",
        "  }\n",
        "}\n",
        "\n",
        "for (i in 1:length(foo$Treat)){\n",
        "  if (is.na(foo$Video.SD[i])){\n",
        "    foo$AvgGradeSD[i] = foo$Prep.SD[i]\n",
        "  } else if (is.na(foo$Prep.SD[i])){\n",
        "    foo$AvgGradeSD[i] = foo$Video.SD[i]\n",
        "  } else {\n",
        "    foo$AvgGradeSD[i] = mean(c(foo$Prep.SD[i], foo$Video.SD[i]))\n",
        "  }\n",
        "}\n",
        "foo = foo[!is.na(foo$AvgGrade),]\n",
        "\n",
        "\n",
        "Y = foo$Talk_SDs\n",
        "Tr = foo$Treat\n",
        "X = cbind(foo$Class.Date, foo$Number.of.Students, foo$AvgGrade, foo$AvgGradeSD)\n",
        "genout = GenMatch(Tr=Tr, X=X, estimand = \"ATT\", print.level=0, pop.size = 500, replace = TRUE)\n",
        "mout_ttsd_fiorelli = Match(Tr = Tr, Y=Y, X=X, estimand = \"ATT\", replace = TRUE, Weight.matrix = genout)\n",
        "summary(mout_ttsd_fiorelli)"
      ],
      "execution_count": null,
      "outputs": [
        {
          "output_type": "stream",
          "text": [
            "\n",
            "Estimate...  0.58918 \n",
            "AI SE......  6.7836 \n",
            "T-stat.....  0.086855 \n",
            "p.val......  0.93079 \n",
            "\n",
            "Original number of observations..............  13 \n",
            "Original number of treated obs...............  4 \n",
            "Matched number of observations...............  4 \n",
            "Matched number of observations  (unweighted).  4 \n",
            "\n"
          ],
          "name": "stdout"
        }
      ]
    },
    {
      "cell_type": "code",
      "metadata": {
        "id": "jwuWERKwyh4-",
        "colab": {
          "base_uri": "https://localhost:8080/",
          "height": 35
        },
        "outputId": "9c92a905-9968-45e9-e9f5-26afbf0d5067"
      },
      "source": [
        "mb_ttsd_fiorelli = MatchBalance(foo$Treat~foo$Class.Date+foo$Number.of.Students+foo$AvgGrade+foo$AvgGradeSD, print.level = 0, match.out = mout_ttsd_fiorelli)\n",
        "mb_ttsd_fiorelli$AMsmallest.p.value"
      ],
      "execution_count": null,
      "outputs": [
        {
          "output_type": "display_data",
          "data": {
            "text/plain": [
              "[1] 0.328"
            ],
            "text/latex": "0.328",
            "text/markdown": "0.328",
            "text/html": [
              "0.328"
            ]
          },
          "metadata": {
            "tags": []
          }
        }
      ]
    },
    {
      "cell_type": "markdown",
      "metadata": {
        "id": "ATiInaTCwNl6"
      },
      "source": [
        "### Effect of Judgement on Emojis/Handraises"
      ]
    },
    {
      "cell_type": "code",
      "metadata": {
        "id": "PIAn0XBBzMJB",
        "colab": {
          "base_uri": "https://localhost:8080/",
          "height": 217
        },
        "outputId": "5006aeaf-e45c-492f-8689-92521872c016"
      },
      "source": [
        "##Installing required packages\n",
        "#install.packages(\"rbounds\")\n",
        "#install.packages(\"rgenoud\")\n",
        "library(rbounds)\n",
        "library(rgenoud)\n",
        "\n",
        "##Defining Treatment and Control\n",
        "foo = read.csv(\"fiorelli.csv\")\n",
        "\n",
        "treat = foo$Judgement<(mean(foo$Judgement)-sd(foo$Judgement))\n",
        "control = foo$Judgement>(mean(foo$Judgement)-sd(foo$Judgement))\n",
        "vars = treat|control\n",
        "foo = foo[vars,]\n",
        "foo$Treat = foo$Judgement<(mean(foo$Judgement)-sd(foo$Judgement))\n",
        "foo$AvgGrade = mean(c(foo$Prep.Mean, foo$Video.Mean))\n",
        "foo$AvgGradeSD = mean(c(foo$Video.SD, foo$Prep.SD))\n",
        "\n",
        "for (i in 1:length(foo$Treat)){\n",
        "  if (is.na(foo$Video.Mean[i])){\n",
        "    foo$AvgGrade[i] = foo$Prep.Mean[i]\n",
        "  } else if (is.na(foo$Prep.Mean[i])){\n",
        "    foo$AvgGrade[i] = foo$Video.Mean[i]\n",
        "  } else {\n",
        "    foo$AvgGrade[i] = mean(c(foo$Prep.Mean[i], foo$Video.Mean[i]))\n",
        "  }\n",
        "}\n",
        "\n",
        "for (i in 1:length(foo$Treat)){\n",
        "  if (is.na(foo$Video.SD[i])){\n",
        "    foo$AvgGradeSD[i] = foo$Prep.SD[i]\n",
        "  } else if (is.na(foo$Prep.SD[i])){\n",
        "    foo$AvgGradeSD[i] = foo$Video.SD[i]\n",
        "  } else {\n",
        "    foo$AvgGradeSD[i] = mean(c(foo$Prep.SD[i], foo$Video.SD[i]))\n",
        "  }\n",
        "}\n",
        "foo = foo[!is.na(foo$AvgGrade),]\n",
        "\n",
        "\n",
        "Y = foo$Emojis_Handraises\n",
        "Tr = foo$Treat\n",
        "X = cbind(foo$Class.Date, foo$Number.of.Students, foo$AvgGrade, foo$AvgGradeSD)\n",
        "genout = GenMatch(Tr=Tr, X=X, estimand = \"ATT\", print.level=0, pop.size = 500, replace = TRUE)\n",
        "mout_eh_fiorelli = Match(Tr = Tr, Y=Y, X=X, estimand = \"ATT\", replace = TRUE, Weight.matrix = genout)\n",
        "summary(mout_eh_fiorelli)"
      ],
      "execution_count": null,
      "outputs": [
        {
          "output_type": "stream",
          "text": [
            "\n",
            "Estimate...  22.75 \n",
            "AI SE......  21.927 \n",
            "T-stat.....  1.0375 \n",
            "p.val......  0.29949 \n",
            "\n",
            "Original number of observations..............  13 \n",
            "Original number of treated obs...............  4 \n",
            "Matched number of observations...............  4 \n",
            "Matched number of observations  (unweighted).  4 \n",
            "\n"
          ],
          "name": "stdout"
        }
      ]
    },
    {
      "cell_type": "code",
      "metadata": {
        "id": "YjXcAMr1zMJG",
        "colab": {
          "base_uri": "https://localhost:8080/",
          "height": 35
        },
        "outputId": "89e9688b-143c-49cd-e728-e307d2576bc3"
      },
      "source": [
        "mb_eh_fiorelli = MatchBalance(foo$Treat~foo$Class.Date+foo$Number.of.Students+foo$AvgGrade+foo$AvgGradeSD, print.level = 0, match.out = mout_eh_fiorelli)\n",
        "mb_eh_fiorelli$AMsmallest.p.value"
      ],
      "execution_count": null,
      "outputs": [
        {
          "output_type": "display_data",
          "data": {
            "text/plain": [
              "[1] 0.312"
            ],
            "text/latex": "0.312",
            "text/markdown": "0.312",
            "text/html": [
              "0.312"
            ]
          },
          "metadata": {
            "tags": []
          }
        }
      ]
    },
    {
      "cell_type": "markdown",
      "metadata": {
        "id": "A5FMBMoQiAf1"
      },
      "source": [
        "# Summary"
      ]
    },
    {
      "cell_type": "code",
      "metadata": {
        "id": "yoYDYgZEiCHm"
      },
      "source": [
        "mout_ttsd_mcallister\n",
        "mout_ttsd_terrana\n",
        "mout_ttsd_dosmann\n",
        "mout_ttsd_fiorelli\n",
        "\n",
        "mout_eh_mcallister\n",
        "mout_eh_terrana\n",
        "mout_eh_dosmann\n",
        "mout_eh_fiorelli\n",
        "\n",
        "mb_ttsd_mcallister$AMsmallest.p.value\n",
        "mb_ttsd_terrana$AMsmallest.p.value\n",
        "mb_ttsd_dosmann$AMsmallest.p.value\n",
        "mb_ttsd_fiorelli$AMsmallest.p.value\n",
        "\n",
        "mb_eh_mcallister$AMsmallest.p.value\n",
        "mb_eh_terrana$AMsmallest.p.value\n",
        "mb_eh_dosmann$AMsmallest.p.value\n",
        "mb_eh_fiorelli$AMsmallest.p.value"
      ],
      "execution_count": null,
      "outputs": []
    },
    {
      "cell_type": "code",
      "metadata": {
        "id": "m-4fA15jO6PL",
        "colab": {
          "base_uri": "https://localhost:8080/",
          "height": 475
        },
        "outputId": "50593ab4-8be4-4dff-c74f-af06e2e9c6a3"
      },
      "source": [
        "mcallister"
      ],
      "execution_count": null,
      "outputs": [
        {
          "output_type": "display_data",
          "data": {
            "text/plain": [
              "   ...1 Class          Score Magnitude Judgement Talk_Means Talk_SDs \n",
              "1   0   Class_1.1.wav  -0.1   5.5      -0.55     147.37500   83.12230\n",
              "2   1   Class_1.2.wav  -0.2   8.4      -1.68     133.00000   55.38050\n",
              "3   2   Class_2.1.wav  -0.3   9.7      -2.91     150.73333  108.22032\n",
              "4   3   Class_2.2.wav  -0.3   8.8      -2.64     132.00000   91.15116\n",
              "5   4   Class_3.1.wav  -0.4  10.4      -4.16     140.05882   63.18868\n",
              "6   5   Class_3.2.wav  -0.2   9.3      -1.86     119.52941   74.10222\n",
              "7   6   Class_4.1.wav  -0.3   6.2      -1.86     118.00000   55.33921\n",
              "8   7   Class_4.2.wav  -0.2  10.2      -2.04     160.81250  119.68916\n",
              "9   8   Class_5.1.wav   0.0   6.7       0.00     109.00000   83.23140\n",
              "10  9   Class_5.2.wav  -0.2   5.3      -1.06      92.94118   49.99309\n",
              "11 10   Class_6.2.wav   0.0   6.8       0.00     146.75000  133.24839\n",
              "12 11   Class_7.1.wav  -0.1   6.5      -0.65     111.50000   44.55558\n",
              "13 12   Class_7.2.wav  -0.2   8.0      -1.60     103.11765   49.60706\n",
              "14 13   Class_8.1.wav   0.0   8.9       0.00     194.00000  133.17157\n",
              "15 14   Class_8.2.wav  -0.2   5.9      -1.18     149.35294  103.27145\n",
              "16 15   Class_9.1.wav   0.0   1.3       0.00     124.33333   73.00554\n",
              "17 16   Class_9.2.wav  -0.2   8.7      -1.74     130.11765   76.87724\n",
              "18 17   Class_10.1.wav -0.1   4.8      -0.48     252.78571  463.88861\n",
              "19 18   Class_10.2.wav -0.1   7.5      -0.75     151.71429   86.62246\n",
              "   Emojis_Handraises Video.Mean Video.SD  Prep.Mean Prep.SD   Class.Date\n",
              "1   86               3.578947   0.4937280       NA         NA 1/13/2020 \n",
              "2  124                     NA          NA 3.105263  0.3068922 1/15/2020 \n",
              "3  133               3.333333   0.5962848       NA         NA 1/20/2020 \n",
              "4  118                     NA          NA 3.650000  0.4769696 1/22/2020 \n",
              "5  167               3.578947   0.4937280       NA         NA 1/27/2020 \n",
              "6  148                     NA          NA       NA         NA 1/29/2020 \n",
              "7   98                     NA          NA       NA         NA 2/3/2020  \n",
              "8  131               3.714286   0.4517540       NA         NA 2/5/2020  \n",
              "9   91               3.421053   0.4937280 3.000000  0.0000000 2/10/2020 \n",
              "10 112                     NA          NA 3.227273  0.6695873 2/12/2020 \n",
              "11 107                     NA          NA       NA         NA 2/19/2020 \n",
              "12  91                     NA          NA 3.722222  0.4479032 2/24/2020 \n",
              "13 133               3.380952   0.6529195       NA         NA 2/26/2020 \n",
              "14 162                     NA          NA 3.333333  0.5634362 3/2/2020  \n",
              "15  89               3.733333   0.4422166       NA         NA 3/4/2020  \n",
              "16 104               3.454545   0.4979296       NA         NA 3/9/2020  \n",
              "17 152                     NA          NA       NA         NA 3/11/2020 \n",
              "18 103                     NA          NA       NA         NA 3/16/2020 \n",
              "19 141                     NA          NA 3.000000  0.0000000 3/18/2020 \n",
              "   Number.of.Students\n",
              "1  18                \n",
              "2  19                \n",
              "3  17                \n",
              "4  18                \n",
              "5  19                \n",
              "6  19                \n",
              "7  17                \n",
              "8  18                \n",
              "9  18                \n",
              "10 19                \n",
              "11 18                \n",
              "12 18                \n",
              "13 19                \n",
              "14 18                \n",
              "15 19                \n",
              "16 17                \n",
              "17 19                \n",
              "18 16                \n",
              "19 16                "
            ],
            "text/latex": "A data.frame: 19 × 14\n\\begin{tabular}{llllllllllllll}\n ...1 & Class & Score & Magnitude & Judgement & Talk\\_Means & Talk\\_SDs & Emojis\\_Handraises & Video.Mean & Video.SD & Prep.Mean & Prep.SD & Class.Date & Number.of.Students\\\\\n <int> & <chr> & <dbl> & <dbl> & <dbl> & <dbl> & <dbl> & <int> & <dbl> & <dbl> & <dbl> & <dbl> & <chr> & <int>\\\\\n\\hline\n\t  0 & Class\\_1.1.wav  & -0.1 &  5.5 & -0.55 & 147.37500 &  83.12230 &  86 & 3.578947 & 0.4937280 &       NA &        NA & 1/13/2020 & 18\\\\\n\t  1 & Class\\_1.2.wav  & -0.2 &  8.4 & -1.68 & 133.00000 &  55.38050 & 124 &       NA &        NA & 3.105263 & 0.3068922 & 1/15/2020 & 19\\\\\n\t  2 & Class\\_2.1.wav  & -0.3 &  9.7 & -2.91 & 150.73333 & 108.22032 & 133 & 3.333333 & 0.5962848 &       NA &        NA & 1/20/2020 & 17\\\\\n\t  3 & Class\\_2.2.wav  & -0.3 &  8.8 & -2.64 & 132.00000 &  91.15116 & 118 &       NA &        NA & 3.650000 & 0.4769696 & 1/22/2020 & 18\\\\\n\t  4 & Class\\_3.1.wav  & -0.4 & 10.4 & -4.16 & 140.05882 &  63.18868 & 167 & 3.578947 & 0.4937280 &       NA &        NA & 1/27/2020 & 19\\\\\n\t  5 & Class\\_3.2.wav  & -0.2 &  9.3 & -1.86 & 119.52941 &  74.10222 & 148 &       NA &        NA &       NA &        NA & 1/29/2020 & 19\\\\\n\t  6 & Class\\_4.1.wav  & -0.3 &  6.2 & -1.86 & 118.00000 &  55.33921 &  98 &       NA &        NA &       NA &        NA & 2/3/2020  & 17\\\\\n\t  7 & Class\\_4.2.wav  & -0.2 & 10.2 & -2.04 & 160.81250 & 119.68916 & 131 & 3.714286 & 0.4517540 &       NA &        NA & 2/5/2020  & 18\\\\\n\t  8 & Class\\_5.1.wav  &  0.0 &  6.7 &  0.00 & 109.00000 &  83.23140 &  91 & 3.421053 & 0.4937280 & 3.000000 & 0.0000000 & 2/10/2020 & 18\\\\\n\t  9 & Class\\_5.2.wav  & -0.2 &  5.3 & -1.06 &  92.94118 &  49.99309 & 112 &       NA &        NA & 3.227273 & 0.6695873 & 2/12/2020 & 19\\\\\n\t 10 & Class\\_6.2.wav  &  0.0 &  6.8 &  0.00 & 146.75000 & 133.24839 & 107 &       NA &        NA &       NA &        NA & 2/19/2020 & 18\\\\\n\t 11 & Class\\_7.1.wav  & -0.1 &  6.5 & -0.65 & 111.50000 &  44.55558 &  91 &       NA &        NA & 3.722222 & 0.4479032 & 2/24/2020 & 18\\\\\n\t 12 & Class\\_7.2.wav  & -0.2 &  8.0 & -1.60 & 103.11765 &  49.60706 & 133 & 3.380952 & 0.6529195 &       NA &        NA & 2/26/2020 & 19\\\\\n\t 13 & Class\\_8.1.wav  &  0.0 &  8.9 &  0.00 & 194.00000 & 133.17157 & 162 &       NA &        NA & 3.333333 & 0.5634362 & 3/2/2020  & 18\\\\\n\t 14 & Class\\_8.2.wav  & -0.2 &  5.9 & -1.18 & 149.35294 & 103.27145 &  89 & 3.733333 & 0.4422166 &       NA &        NA & 3/4/2020  & 19\\\\\n\t 15 & Class\\_9.1.wav  &  0.0 &  1.3 &  0.00 & 124.33333 &  73.00554 & 104 & 3.454545 & 0.4979296 &       NA &        NA & 3/9/2020  & 17\\\\\n\t 16 & Class\\_9.2.wav  & -0.2 &  8.7 & -1.74 & 130.11765 &  76.87724 & 152 &       NA &        NA &       NA &        NA & 3/11/2020 & 19\\\\\n\t 17 & Class\\_10.1.wav & -0.1 &  4.8 & -0.48 & 252.78571 & 463.88861 & 103 &       NA &        NA &       NA &        NA & 3/16/2020 & 16\\\\\n\t 18 & Class\\_10.2.wav & -0.1 &  7.5 & -0.75 & 151.71429 &  86.62246 & 141 &       NA &        NA & 3.000000 & 0.0000000 & 3/18/2020 & 16\\\\\n\\end{tabular}\n",
            "text/markdown": "\nA data.frame: 19 × 14\n\n| ...1 &lt;int&gt; | Class &lt;chr&gt; | Score &lt;dbl&gt; | Magnitude &lt;dbl&gt; | Judgement &lt;dbl&gt; | Talk_Means &lt;dbl&gt; | Talk_SDs &lt;dbl&gt; | Emojis_Handraises &lt;int&gt; | Video.Mean &lt;dbl&gt; | Video.SD &lt;dbl&gt; | Prep.Mean &lt;dbl&gt; | Prep.SD &lt;dbl&gt; | Class.Date &lt;chr&gt; | Number.of.Students &lt;int&gt; |\n|---|---|---|---|---|---|---|---|---|---|---|---|---|---|\n|  0 | Class_1.1.wav  | -0.1 |  5.5 | -0.55 | 147.37500 |  83.12230 |  86 | 3.578947 | 0.4937280 |       NA |        NA | 1/13/2020 | 18 |\n|  1 | Class_1.2.wav  | -0.2 |  8.4 | -1.68 | 133.00000 |  55.38050 | 124 |       NA |        NA | 3.105263 | 0.3068922 | 1/15/2020 | 19 |\n|  2 | Class_2.1.wav  | -0.3 |  9.7 | -2.91 | 150.73333 | 108.22032 | 133 | 3.333333 | 0.5962848 |       NA |        NA | 1/20/2020 | 17 |\n|  3 | Class_2.2.wav  | -0.3 |  8.8 | -2.64 | 132.00000 |  91.15116 | 118 |       NA |        NA | 3.650000 | 0.4769696 | 1/22/2020 | 18 |\n|  4 | Class_3.1.wav  | -0.4 | 10.4 | -4.16 | 140.05882 |  63.18868 | 167 | 3.578947 | 0.4937280 |       NA |        NA | 1/27/2020 | 19 |\n|  5 | Class_3.2.wav  | -0.2 |  9.3 | -1.86 | 119.52941 |  74.10222 | 148 |       NA |        NA |       NA |        NA | 1/29/2020 | 19 |\n|  6 | Class_4.1.wav  | -0.3 |  6.2 | -1.86 | 118.00000 |  55.33921 |  98 |       NA |        NA |       NA |        NA | 2/3/2020  | 17 |\n|  7 | Class_4.2.wav  | -0.2 | 10.2 | -2.04 | 160.81250 | 119.68916 | 131 | 3.714286 | 0.4517540 |       NA |        NA | 2/5/2020  | 18 |\n|  8 | Class_5.1.wav  |  0.0 |  6.7 |  0.00 | 109.00000 |  83.23140 |  91 | 3.421053 | 0.4937280 | 3.000000 | 0.0000000 | 2/10/2020 | 18 |\n|  9 | Class_5.2.wav  | -0.2 |  5.3 | -1.06 |  92.94118 |  49.99309 | 112 |       NA |        NA | 3.227273 | 0.6695873 | 2/12/2020 | 19 |\n| 10 | Class_6.2.wav  |  0.0 |  6.8 |  0.00 | 146.75000 | 133.24839 | 107 |       NA |        NA |       NA |        NA | 2/19/2020 | 18 |\n| 11 | Class_7.1.wav  | -0.1 |  6.5 | -0.65 | 111.50000 |  44.55558 |  91 |       NA |        NA | 3.722222 | 0.4479032 | 2/24/2020 | 18 |\n| 12 | Class_7.2.wav  | -0.2 |  8.0 | -1.60 | 103.11765 |  49.60706 | 133 | 3.380952 | 0.6529195 |       NA |        NA | 2/26/2020 | 19 |\n| 13 | Class_8.1.wav  |  0.0 |  8.9 |  0.00 | 194.00000 | 133.17157 | 162 |       NA |        NA | 3.333333 | 0.5634362 | 3/2/2020  | 18 |\n| 14 | Class_8.2.wav  | -0.2 |  5.9 | -1.18 | 149.35294 | 103.27145 |  89 | 3.733333 | 0.4422166 |       NA |        NA | 3/4/2020  | 19 |\n| 15 | Class_9.1.wav  |  0.0 |  1.3 |  0.00 | 124.33333 |  73.00554 | 104 | 3.454545 | 0.4979296 |       NA |        NA | 3/9/2020  | 17 |\n| 16 | Class_9.2.wav  | -0.2 |  8.7 | -1.74 | 130.11765 |  76.87724 | 152 |       NA |        NA |       NA |        NA | 3/11/2020 | 19 |\n| 17 | Class_10.1.wav | -0.1 |  4.8 | -0.48 | 252.78571 | 463.88861 | 103 |       NA |        NA |       NA |        NA | 3/16/2020 | 16 |\n| 18 | Class_10.2.wav | -0.1 |  7.5 | -0.75 | 151.71429 |  86.62246 | 141 |       NA |        NA | 3.000000 | 0.0000000 | 3/18/2020 | 16 |\n\n",
            "text/html": [
              "<table>\n",
              "<caption>A data.frame: 19 × 14</caption>\n",
              "<thead>\n",
              "\t<tr><th scope=col>...1</th><th scope=col>Class</th><th scope=col>Score</th><th scope=col>Magnitude</th><th scope=col>Judgement</th><th scope=col>Talk_Means</th><th scope=col>Talk_SDs</th><th scope=col>Emojis_Handraises</th><th scope=col>Video.Mean</th><th scope=col>Video.SD</th><th scope=col>Prep.Mean</th><th scope=col>Prep.SD</th><th scope=col>Class.Date</th><th scope=col>Number.of.Students</th></tr>\n",
              "\t<tr><th scope=col>&lt;int&gt;</th><th scope=col>&lt;chr&gt;</th><th scope=col>&lt;dbl&gt;</th><th scope=col>&lt;dbl&gt;</th><th scope=col>&lt;dbl&gt;</th><th scope=col>&lt;dbl&gt;</th><th scope=col>&lt;dbl&gt;</th><th scope=col>&lt;int&gt;</th><th scope=col>&lt;dbl&gt;</th><th scope=col>&lt;dbl&gt;</th><th scope=col>&lt;dbl&gt;</th><th scope=col>&lt;dbl&gt;</th><th scope=col>&lt;chr&gt;</th><th scope=col>&lt;int&gt;</th></tr>\n",
              "</thead>\n",
              "<tbody>\n",
              "\t<tr><td> 0</td><td>Class_1.1.wav </td><td>-0.1</td><td> 5.5</td><td>-0.55</td><td>147.37500</td><td> 83.12230</td><td> 86</td><td>3.578947</td><td>0.4937280</td><td>      NA</td><td>       NA</td><td>1/13/2020</td><td>18</td></tr>\n",
              "\t<tr><td> 1</td><td>Class_1.2.wav </td><td>-0.2</td><td> 8.4</td><td>-1.68</td><td>133.00000</td><td> 55.38050</td><td>124</td><td>      NA</td><td>       NA</td><td>3.105263</td><td>0.3068922</td><td>1/15/2020</td><td>19</td></tr>\n",
              "\t<tr><td> 2</td><td>Class_2.1.wav </td><td>-0.3</td><td> 9.7</td><td>-2.91</td><td>150.73333</td><td>108.22032</td><td>133</td><td>3.333333</td><td>0.5962848</td><td>      NA</td><td>       NA</td><td>1/20/2020</td><td>17</td></tr>\n",
              "\t<tr><td> 3</td><td>Class_2.2.wav </td><td>-0.3</td><td> 8.8</td><td>-2.64</td><td>132.00000</td><td> 91.15116</td><td>118</td><td>      NA</td><td>       NA</td><td>3.650000</td><td>0.4769696</td><td>1/22/2020</td><td>18</td></tr>\n",
              "\t<tr><td> 4</td><td>Class_3.1.wav </td><td>-0.4</td><td>10.4</td><td>-4.16</td><td>140.05882</td><td> 63.18868</td><td>167</td><td>3.578947</td><td>0.4937280</td><td>      NA</td><td>       NA</td><td>1/27/2020</td><td>19</td></tr>\n",
              "\t<tr><td> 5</td><td>Class_3.2.wav </td><td>-0.2</td><td> 9.3</td><td>-1.86</td><td>119.52941</td><td> 74.10222</td><td>148</td><td>      NA</td><td>       NA</td><td>      NA</td><td>       NA</td><td>1/29/2020</td><td>19</td></tr>\n",
              "\t<tr><td> 6</td><td>Class_4.1.wav </td><td>-0.3</td><td> 6.2</td><td>-1.86</td><td>118.00000</td><td> 55.33921</td><td> 98</td><td>      NA</td><td>       NA</td><td>      NA</td><td>       NA</td><td>2/3/2020 </td><td>17</td></tr>\n",
              "\t<tr><td> 7</td><td>Class_4.2.wav </td><td>-0.2</td><td>10.2</td><td>-2.04</td><td>160.81250</td><td>119.68916</td><td>131</td><td>3.714286</td><td>0.4517540</td><td>      NA</td><td>       NA</td><td>2/5/2020 </td><td>18</td></tr>\n",
              "\t<tr><td> 8</td><td>Class_5.1.wav </td><td> 0.0</td><td> 6.7</td><td> 0.00</td><td>109.00000</td><td> 83.23140</td><td> 91</td><td>3.421053</td><td>0.4937280</td><td>3.000000</td><td>0.0000000</td><td>2/10/2020</td><td>18</td></tr>\n",
              "\t<tr><td> 9</td><td>Class_5.2.wav </td><td>-0.2</td><td> 5.3</td><td>-1.06</td><td> 92.94118</td><td> 49.99309</td><td>112</td><td>      NA</td><td>       NA</td><td>3.227273</td><td>0.6695873</td><td>2/12/2020</td><td>19</td></tr>\n",
              "\t<tr><td>10</td><td>Class_6.2.wav </td><td> 0.0</td><td> 6.8</td><td> 0.00</td><td>146.75000</td><td>133.24839</td><td>107</td><td>      NA</td><td>       NA</td><td>      NA</td><td>       NA</td><td>2/19/2020</td><td>18</td></tr>\n",
              "\t<tr><td>11</td><td>Class_7.1.wav </td><td>-0.1</td><td> 6.5</td><td>-0.65</td><td>111.50000</td><td> 44.55558</td><td> 91</td><td>      NA</td><td>       NA</td><td>3.722222</td><td>0.4479032</td><td>2/24/2020</td><td>18</td></tr>\n",
              "\t<tr><td>12</td><td>Class_7.2.wav </td><td>-0.2</td><td> 8.0</td><td>-1.60</td><td>103.11765</td><td> 49.60706</td><td>133</td><td>3.380952</td><td>0.6529195</td><td>      NA</td><td>       NA</td><td>2/26/2020</td><td>19</td></tr>\n",
              "\t<tr><td>13</td><td>Class_8.1.wav </td><td> 0.0</td><td> 8.9</td><td> 0.00</td><td>194.00000</td><td>133.17157</td><td>162</td><td>      NA</td><td>       NA</td><td>3.333333</td><td>0.5634362</td><td>3/2/2020 </td><td>18</td></tr>\n",
              "\t<tr><td>14</td><td>Class_8.2.wav </td><td>-0.2</td><td> 5.9</td><td>-1.18</td><td>149.35294</td><td>103.27145</td><td> 89</td><td>3.733333</td><td>0.4422166</td><td>      NA</td><td>       NA</td><td>3/4/2020 </td><td>19</td></tr>\n",
              "\t<tr><td>15</td><td>Class_9.1.wav </td><td> 0.0</td><td> 1.3</td><td> 0.00</td><td>124.33333</td><td> 73.00554</td><td>104</td><td>3.454545</td><td>0.4979296</td><td>      NA</td><td>       NA</td><td>3/9/2020 </td><td>17</td></tr>\n",
              "\t<tr><td>16</td><td>Class_9.2.wav </td><td>-0.2</td><td> 8.7</td><td>-1.74</td><td>130.11765</td><td> 76.87724</td><td>152</td><td>      NA</td><td>       NA</td><td>      NA</td><td>       NA</td><td>3/11/2020</td><td>19</td></tr>\n",
              "\t<tr><td>17</td><td>Class_10.1.wav</td><td>-0.1</td><td> 4.8</td><td>-0.48</td><td>252.78571</td><td>463.88861</td><td>103</td><td>      NA</td><td>       NA</td><td>      NA</td><td>       NA</td><td>3/16/2020</td><td>16</td></tr>\n",
              "\t<tr><td>18</td><td>Class_10.2.wav</td><td>-0.1</td><td> 7.5</td><td>-0.75</td><td>151.71429</td><td> 86.62246</td><td>141</td><td>      NA</td><td>       NA</td><td>3.000000</td><td>0.0000000</td><td>3/18/2020</td><td>16</td></tr>\n",
              "</tbody>\n",
              "</table>\n"
            ]
          },
          "metadata": {
            "tags": []
          }
        }
      ]
    },
    {
      "cell_type": "code",
      "metadata": {
        "id": "1VwkTlAZPrb6",
        "colab": {
          "base_uri": "https://localhost:8080/"
        },
        "outputId": "f5f01956-84e9-4d60-dd14-cce58881906d"
      },
      "source": [
        "cols = c(\"Emojis_Handraises\", \"Talk_Means\", \"Talk_SDs\")\n",
        "\n",
        "for (i in cols){\n",
        "  model = lm(mcallister[[i]]~mcallister$Judgement)\n",
        "  print(paste(\"Results for:\", i))\n",
        "  print(summary(model))\n",
        "}\n"
      ],
      "execution_count": null,
      "outputs": [
        {
          "output_type": "stream",
          "text": [
            "[1] \"Results for: Emojis_Handraises\"\n",
            "\n",
            "Call:\n",
            "lm(formula = mcallister[[i]] ~ mcallister$Judgement)\n",
            "\n",
            "Residuals:\n",
            "    Min      1Q  Median      3Q     Max \n",
            "-29.914 -15.979  -1.721  12.079  56.279 \n",
            "\n",
            "Coefficients:\n",
            "                     Estimate Std. Error t value Pr(>|t|)    \n",
            "(Intercept)           105.721      8.213  12.872 3.42e-10 ***\n",
            "mcallister$Judgement  -11.181      4.773  -2.343   0.0316 *  \n",
            "---\n",
            "Signif. codes:  0 ‘***’ 0.001 ‘**’ 0.01 ‘*’ 0.05 ‘.’ 0.1 ‘ ’ 1\n",
            "\n",
            "Residual standard error: 22.86 on 17 degrees of freedom\n",
            "Multiple R-squared:  0.244,\tAdjusted R-squared:  0.1996 \n",
            "F-statistic: 5.488 on 1 and 17 DF,  p-value: 0.03157\n",
            "\n",
            "[1] \"Results for: Talk_Means\"\n",
            "\n",
            "Call:\n",
            "lm(formula = mcallister[[i]] ~ mcallister$Judgement)\n",
            "\n",
            "Residuals:\n",
            "    Min      1Q  Median      3Q     Max \n",
            "-48.746 -21.166  -1.841  11.127 108.219 \n",
            "\n",
            "Coefficients:\n",
            "                     Estimate Std. Error t value Pr(>|t|)    \n",
            "(Intercept)           146.951     13.111  11.208 2.84e-09 ***\n",
            "mcallister$Judgement    4.966      7.619   0.652    0.523    \n",
            "---\n",
            "Signif. codes:  0 ‘***’ 0.001 ‘**’ 0.01 ‘*’ 0.05 ‘.’ 0.1 ‘ ’ 1\n",
            "\n",
            "Residual standard error: 36.5 on 17 degrees of freedom\n",
            "Multiple R-squared:  0.02438,\tAdjusted R-squared:  -0.03301 \n",
            "F-statistic: 0.4248 on 1 and 17 DF,  p-value: 0.5233\n",
            "\n",
            "[1] \"Results for: Talk_SDs\"\n",
            "\n",
            "Call:\n",
            "lm(formula = mcallister[[i]] ~ mcallister$Judgement)\n",
            "\n",
            "Residuals:\n",
            "   Min     1Q Median     3Q    Max \n",
            "-70.66 -42.33 -18.31   9.61 345.47 \n",
            "\n",
            "Coefficients:\n",
            "                     Estimate Std. Error t value Pr(>|t|)   \n",
            "(Intercept)            127.46      32.95   3.868  0.00123 **\n",
            "mcallister$Judgement    18.84      19.15   0.984  0.33889   \n",
            "---\n",
            "Signif. codes:  0 ‘***’ 0.001 ‘**’ 0.01 ‘*’ 0.05 ‘.’ 0.1 ‘ ’ 1\n",
            "\n",
            "Residual standard error: 91.73 on 17 degrees of freedom\n",
            "Multiple R-squared:  0.05389,\tAdjusted R-squared:  -0.00176 \n",
            "F-statistic: 0.9684 on 1 and 17 DF,  p-value: 0.3389\n",
            "\n"
          ],
          "name": "stdout"
        }
      ]
    },
    {
      "cell_type": "code",
      "metadata": {
        "id": "MMHvXsf71ZM3",
        "colab": {
          "base_uri": "https://localhost:8080/",
          "height": 475
        },
        "outputId": "66b95a02-b4a5-42b2-959a-25f9c92a655d"
      },
      "source": [
        "mcallister"
      ],
      "execution_count": null,
      "outputs": [
        {
          "output_type": "display_data",
          "data": {
            "text/plain": [
              "   ...1 Class          Score Magnitude Judgement Talk_Means Talk_SDs \n",
              "1   0   Class_1.1.wav  -0.1   5.5      -0.55     147.37500   83.12230\n",
              "2   1   Class_1.2.wav  -0.2   8.4      -1.68     133.00000   55.38050\n",
              "3   2   Class_2.1.wav  -0.3   9.7      -2.91     150.73333  108.22032\n",
              "4   3   Class_2.2.wav  -0.3   8.8      -2.64     132.00000   91.15116\n",
              "5   4   Class_3.1.wav  -0.4  10.4      -4.16     140.05882   63.18868\n",
              "6   5   Class_3.2.wav  -0.2   9.3      -1.86     119.52941   74.10222\n",
              "7   6   Class_4.1.wav  -0.3   6.2      -1.86     118.00000   55.33921\n",
              "8   7   Class_4.2.wav  -0.2  10.2      -2.04     160.81250  119.68916\n",
              "9   8   Class_5.1.wav   0.0   6.7       0.00     109.00000   83.23140\n",
              "10  9   Class_5.2.wav  -0.2   5.3      -1.06      92.94118   49.99309\n",
              "11 10   Class_6.2.wav   0.0   6.8       0.00     146.75000  133.24839\n",
              "12 11   Class_7.1.wav  -0.1   6.5      -0.65     111.50000   44.55558\n",
              "13 12   Class_7.2.wav  -0.2   8.0      -1.60     103.11765   49.60706\n",
              "14 13   Class_8.1.wav   0.0   8.9       0.00     194.00000  133.17157\n",
              "15 14   Class_8.2.wav  -0.2   5.9      -1.18     149.35294  103.27145\n",
              "16 15   Class_9.1.wav   0.0   1.3       0.00     124.33333   73.00554\n",
              "17 16   Class_9.2.wav  -0.2   8.7      -1.74     130.11765   76.87724\n",
              "18 17   Class_10.1.wav -0.1   4.8      -0.48     252.78571  463.88861\n",
              "19 18   Class_10.2.wav -0.1   7.5      -0.75     151.71429   86.62246\n",
              "   Emojis_Handraises Video.Mean Video.SD  Prep.Mean Prep.SD   Class.Date\n",
              "1   86               3.578947   0.4937280       NA         NA 1/13/2020 \n",
              "2  124                     NA          NA 3.105263  0.3068922 1/15/2020 \n",
              "3  133               3.333333   0.5962848       NA         NA 1/20/2020 \n",
              "4  118                     NA          NA 3.650000  0.4769696 1/22/2020 \n",
              "5  167               3.578947   0.4937280       NA         NA 1/27/2020 \n",
              "6  148                     NA          NA       NA         NA 1/29/2020 \n",
              "7   98                     NA          NA       NA         NA 2/3/2020  \n",
              "8  131               3.714286   0.4517540       NA         NA 2/5/2020  \n",
              "9   91               3.421053   0.4937280 3.000000  0.0000000 2/10/2020 \n",
              "10 112                     NA          NA 3.227273  0.6695873 2/12/2020 \n",
              "11 107                     NA          NA       NA         NA 2/19/2020 \n",
              "12  91                     NA          NA 3.722222  0.4479032 2/24/2020 \n",
              "13 133               3.380952   0.6529195       NA         NA 2/26/2020 \n",
              "14 162                     NA          NA 3.333333  0.5634362 3/2/2020  \n",
              "15  89               3.733333   0.4422166       NA         NA 3/4/2020  \n",
              "16 104               3.454545   0.4979296       NA         NA 3/9/2020  \n",
              "17 152                     NA          NA       NA         NA 3/11/2020 \n",
              "18 103                     NA          NA       NA         NA 3/16/2020 \n",
              "19 141                     NA          NA 3.000000  0.0000000 3/18/2020 \n",
              "   Number.of.Students\n",
              "1  18                \n",
              "2  19                \n",
              "3  17                \n",
              "4  18                \n",
              "5  19                \n",
              "6  19                \n",
              "7  17                \n",
              "8  18                \n",
              "9  18                \n",
              "10 19                \n",
              "11 18                \n",
              "12 18                \n",
              "13 19                \n",
              "14 18                \n",
              "15 19                \n",
              "16 17                \n",
              "17 19                \n",
              "18 16                \n",
              "19 16                "
            ],
            "text/latex": "A data.frame: 19 × 14\n\\begin{tabular}{llllllllllllll}\n ...1 & Class & Score & Magnitude & Judgement & Talk\\_Means & Talk\\_SDs & Emojis\\_Handraises & Video.Mean & Video.SD & Prep.Mean & Prep.SD & Class.Date & Number.of.Students\\\\\n <int> & <chr> & <dbl> & <dbl> & <dbl> & <dbl> & <dbl> & <int> & <dbl> & <dbl> & <dbl> & <dbl> & <chr> & <int>\\\\\n\\hline\n\t  0 & Class\\_1.1.wav  & -0.1 &  5.5 & -0.55 & 147.37500 &  83.12230 &  86 & 3.578947 & 0.4937280 &       NA &        NA & 1/13/2020 & 18\\\\\n\t  1 & Class\\_1.2.wav  & -0.2 &  8.4 & -1.68 & 133.00000 &  55.38050 & 124 &       NA &        NA & 3.105263 & 0.3068922 & 1/15/2020 & 19\\\\\n\t  2 & Class\\_2.1.wav  & -0.3 &  9.7 & -2.91 & 150.73333 & 108.22032 & 133 & 3.333333 & 0.5962848 &       NA &        NA & 1/20/2020 & 17\\\\\n\t  3 & Class\\_2.2.wav  & -0.3 &  8.8 & -2.64 & 132.00000 &  91.15116 & 118 &       NA &        NA & 3.650000 & 0.4769696 & 1/22/2020 & 18\\\\\n\t  4 & Class\\_3.1.wav  & -0.4 & 10.4 & -4.16 & 140.05882 &  63.18868 & 167 & 3.578947 & 0.4937280 &       NA &        NA & 1/27/2020 & 19\\\\\n\t  5 & Class\\_3.2.wav  & -0.2 &  9.3 & -1.86 & 119.52941 &  74.10222 & 148 &       NA &        NA &       NA &        NA & 1/29/2020 & 19\\\\\n\t  6 & Class\\_4.1.wav  & -0.3 &  6.2 & -1.86 & 118.00000 &  55.33921 &  98 &       NA &        NA &       NA &        NA & 2/3/2020  & 17\\\\\n\t  7 & Class\\_4.2.wav  & -0.2 & 10.2 & -2.04 & 160.81250 & 119.68916 & 131 & 3.714286 & 0.4517540 &       NA &        NA & 2/5/2020  & 18\\\\\n\t  8 & Class\\_5.1.wav  &  0.0 &  6.7 &  0.00 & 109.00000 &  83.23140 &  91 & 3.421053 & 0.4937280 & 3.000000 & 0.0000000 & 2/10/2020 & 18\\\\\n\t  9 & Class\\_5.2.wav  & -0.2 &  5.3 & -1.06 &  92.94118 &  49.99309 & 112 &       NA &        NA & 3.227273 & 0.6695873 & 2/12/2020 & 19\\\\\n\t 10 & Class\\_6.2.wav  &  0.0 &  6.8 &  0.00 & 146.75000 & 133.24839 & 107 &       NA &        NA &       NA &        NA & 2/19/2020 & 18\\\\\n\t 11 & Class\\_7.1.wav  & -0.1 &  6.5 & -0.65 & 111.50000 &  44.55558 &  91 &       NA &        NA & 3.722222 & 0.4479032 & 2/24/2020 & 18\\\\\n\t 12 & Class\\_7.2.wav  & -0.2 &  8.0 & -1.60 & 103.11765 &  49.60706 & 133 & 3.380952 & 0.6529195 &       NA &        NA & 2/26/2020 & 19\\\\\n\t 13 & Class\\_8.1.wav  &  0.0 &  8.9 &  0.00 & 194.00000 & 133.17157 & 162 &       NA &        NA & 3.333333 & 0.5634362 & 3/2/2020  & 18\\\\\n\t 14 & Class\\_8.2.wav  & -0.2 &  5.9 & -1.18 & 149.35294 & 103.27145 &  89 & 3.733333 & 0.4422166 &       NA &        NA & 3/4/2020  & 19\\\\\n\t 15 & Class\\_9.1.wav  &  0.0 &  1.3 &  0.00 & 124.33333 &  73.00554 & 104 & 3.454545 & 0.4979296 &       NA &        NA & 3/9/2020  & 17\\\\\n\t 16 & Class\\_9.2.wav  & -0.2 &  8.7 & -1.74 & 130.11765 &  76.87724 & 152 &       NA &        NA &       NA &        NA & 3/11/2020 & 19\\\\\n\t 17 & Class\\_10.1.wav & -0.1 &  4.8 & -0.48 & 252.78571 & 463.88861 & 103 &       NA &        NA &       NA &        NA & 3/16/2020 & 16\\\\\n\t 18 & Class\\_10.2.wav & -0.1 &  7.5 & -0.75 & 151.71429 &  86.62246 & 141 &       NA &        NA & 3.000000 & 0.0000000 & 3/18/2020 & 16\\\\\n\\end{tabular}\n",
            "text/markdown": "\nA data.frame: 19 × 14\n\n| ...1 &lt;int&gt; | Class &lt;chr&gt; | Score &lt;dbl&gt; | Magnitude &lt;dbl&gt; | Judgement &lt;dbl&gt; | Talk_Means &lt;dbl&gt; | Talk_SDs &lt;dbl&gt; | Emojis_Handraises &lt;int&gt; | Video.Mean &lt;dbl&gt; | Video.SD &lt;dbl&gt; | Prep.Mean &lt;dbl&gt; | Prep.SD &lt;dbl&gt; | Class.Date &lt;chr&gt; | Number.of.Students &lt;int&gt; |\n|---|---|---|---|---|---|---|---|---|---|---|---|---|---|\n|  0 | Class_1.1.wav  | -0.1 |  5.5 | -0.55 | 147.37500 |  83.12230 |  86 | 3.578947 | 0.4937280 |       NA |        NA | 1/13/2020 | 18 |\n|  1 | Class_1.2.wav  | -0.2 |  8.4 | -1.68 | 133.00000 |  55.38050 | 124 |       NA |        NA | 3.105263 | 0.3068922 | 1/15/2020 | 19 |\n|  2 | Class_2.1.wav  | -0.3 |  9.7 | -2.91 | 150.73333 | 108.22032 | 133 | 3.333333 | 0.5962848 |       NA |        NA | 1/20/2020 | 17 |\n|  3 | Class_2.2.wav  | -0.3 |  8.8 | -2.64 | 132.00000 |  91.15116 | 118 |       NA |        NA | 3.650000 | 0.4769696 | 1/22/2020 | 18 |\n|  4 | Class_3.1.wav  | -0.4 | 10.4 | -4.16 | 140.05882 |  63.18868 | 167 | 3.578947 | 0.4937280 |       NA |        NA | 1/27/2020 | 19 |\n|  5 | Class_3.2.wav  | -0.2 |  9.3 | -1.86 | 119.52941 |  74.10222 | 148 |       NA |        NA |       NA |        NA | 1/29/2020 | 19 |\n|  6 | Class_4.1.wav  | -0.3 |  6.2 | -1.86 | 118.00000 |  55.33921 |  98 |       NA |        NA |       NA |        NA | 2/3/2020  | 17 |\n|  7 | Class_4.2.wav  | -0.2 | 10.2 | -2.04 | 160.81250 | 119.68916 | 131 | 3.714286 | 0.4517540 |       NA |        NA | 2/5/2020  | 18 |\n|  8 | Class_5.1.wav  |  0.0 |  6.7 |  0.00 | 109.00000 |  83.23140 |  91 | 3.421053 | 0.4937280 | 3.000000 | 0.0000000 | 2/10/2020 | 18 |\n|  9 | Class_5.2.wav  | -0.2 |  5.3 | -1.06 |  92.94118 |  49.99309 | 112 |       NA |        NA | 3.227273 | 0.6695873 | 2/12/2020 | 19 |\n| 10 | Class_6.2.wav  |  0.0 |  6.8 |  0.00 | 146.75000 | 133.24839 | 107 |       NA |        NA |       NA |        NA | 2/19/2020 | 18 |\n| 11 | Class_7.1.wav  | -0.1 |  6.5 | -0.65 | 111.50000 |  44.55558 |  91 |       NA |        NA | 3.722222 | 0.4479032 | 2/24/2020 | 18 |\n| 12 | Class_7.2.wav  | -0.2 |  8.0 | -1.60 | 103.11765 |  49.60706 | 133 | 3.380952 | 0.6529195 |       NA |        NA | 2/26/2020 | 19 |\n| 13 | Class_8.1.wav  |  0.0 |  8.9 |  0.00 | 194.00000 | 133.17157 | 162 |       NA |        NA | 3.333333 | 0.5634362 | 3/2/2020  | 18 |\n| 14 | Class_8.2.wav  | -0.2 |  5.9 | -1.18 | 149.35294 | 103.27145 |  89 | 3.733333 | 0.4422166 |       NA |        NA | 3/4/2020  | 19 |\n| 15 | Class_9.1.wav  |  0.0 |  1.3 |  0.00 | 124.33333 |  73.00554 | 104 | 3.454545 | 0.4979296 |       NA |        NA | 3/9/2020  | 17 |\n| 16 | Class_9.2.wav  | -0.2 |  8.7 | -1.74 | 130.11765 |  76.87724 | 152 |       NA |        NA |       NA |        NA | 3/11/2020 | 19 |\n| 17 | Class_10.1.wav | -0.1 |  4.8 | -0.48 | 252.78571 | 463.88861 | 103 |       NA |        NA |       NA |        NA | 3/16/2020 | 16 |\n| 18 | Class_10.2.wav | -0.1 |  7.5 | -0.75 | 151.71429 |  86.62246 | 141 |       NA |        NA | 3.000000 | 0.0000000 | 3/18/2020 | 16 |\n\n",
            "text/html": [
              "<table>\n",
              "<caption>A data.frame: 19 × 14</caption>\n",
              "<thead>\n",
              "\t<tr><th scope=col>...1</th><th scope=col>Class</th><th scope=col>Score</th><th scope=col>Magnitude</th><th scope=col>Judgement</th><th scope=col>Talk_Means</th><th scope=col>Talk_SDs</th><th scope=col>Emojis_Handraises</th><th scope=col>Video.Mean</th><th scope=col>Video.SD</th><th scope=col>Prep.Mean</th><th scope=col>Prep.SD</th><th scope=col>Class.Date</th><th scope=col>Number.of.Students</th></tr>\n",
              "\t<tr><th scope=col>&lt;int&gt;</th><th scope=col>&lt;chr&gt;</th><th scope=col>&lt;dbl&gt;</th><th scope=col>&lt;dbl&gt;</th><th scope=col>&lt;dbl&gt;</th><th scope=col>&lt;dbl&gt;</th><th scope=col>&lt;dbl&gt;</th><th scope=col>&lt;int&gt;</th><th scope=col>&lt;dbl&gt;</th><th scope=col>&lt;dbl&gt;</th><th scope=col>&lt;dbl&gt;</th><th scope=col>&lt;dbl&gt;</th><th scope=col>&lt;chr&gt;</th><th scope=col>&lt;int&gt;</th></tr>\n",
              "</thead>\n",
              "<tbody>\n",
              "\t<tr><td> 0</td><td>Class_1.1.wav </td><td>-0.1</td><td> 5.5</td><td>-0.55</td><td>147.37500</td><td> 83.12230</td><td> 86</td><td>3.578947</td><td>0.4937280</td><td>      NA</td><td>       NA</td><td>1/13/2020</td><td>18</td></tr>\n",
              "\t<tr><td> 1</td><td>Class_1.2.wav </td><td>-0.2</td><td> 8.4</td><td>-1.68</td><td>133.00000</td><td> 55.38050</td><td>124</td><td>      NA</td><td>       NA</td><td>3.105263</td><td>0.3068922</td><td>1/15/2020</td><td>19</td></tr>\n",
              "\t<tr><td> 2</td><td>Class_2.1.wav </td><td>-0.3</td><td> 9.7</td><td>-2.91</td><td>150.73333</td><td>108.22032</td><td>133</td><td>3.333333</td><td>0.5962848</td><td>      NA</td><td>       NA</td><td>1/20/2020</td><td>17</td></tr>\n",
              "\t<tr><td> 3</td><td>Class_2.2.wav </td><td>-0.3</td><td> 8.8</td><td>-2.64</td><td>132.00000</td><td> 91.15116</td><td>118</td><td>      NA</td><td>       NA</td><td>3.650000</td><td>0.4769696</td><td>1/22/2020</td><td>18</td></tr>\n",
              "\t<tr><td> 4</td><td>Class_3.1.wav </td><td>-0.4</td><td>10.4</td><td>-4.16</td><td>140.05882</td><td> 63.18868</td><td>167</td><td>3.578947</td><td>0.4937280</td><td>      NA</td><td>       NA</td><td>1/27/2020</td><td>19</td></tr>\n",
              "\t<tr><td> 5</td><td>Class_3.2.wav </td><td>-0.2</td><td> 9.3</td><td>-1.86</td><td>119.52941</td><td> 74.10222</td><td>148</td><td>      NA</td><td>       NA</td><td>      NA</td><td>       NA</td><td>1/29/2020</td><td>19</td></tr>\n",
              "\t<tr><td> 6</td><td>Class_4.1.wav </td><td>-0.3</td><td> 6.2</td><td>-1.86</td><td>118.00000</td><td> 55.33921</td><td> 98</td><td>      NA</td><td>       NA</td><td>      NA</td><td>       NA</td><td>2/3/2020 </td><td>17</td></tr>\n",
              "\t<tr><td> 7</td><td>Class_4.2.wav </td><td>-0.2</td><td>10.2</td><td>-2.04</td><td>160.81250</td><td>119.68916</td><td>131</td><td>3.714286</td><td>0.4517540</td><td>      NA</td><td>       NA</td><td>2/5/2020 </td><td>18</td></tr>\n",
              "\t<tr><td> 8</td><td>Class_5.1.wav </td><td> 0.0</td><td> 6.7</td><td> 0.00</td><td>109.00000</td><td> 83.23140</td><td> 91</td><td>3.421053</td><td>0.4937280</td><td>3.000000</td><td>0.0000000</td><td>2/10/2020</td><td>18</td></tr>\n",
              "\t<tr><td> 9</td><td>Class_5.2.wav </td><td>-0.2</td><td> 5.3</td><td>-1.06</td><td> 92.94118</td><td> 49.99309</td><td>112</td><td>      NA</td><td>       NA</td><td>3.227273</td><td>0.6695873</td><td>2/12/2020</td><td>19</td></tr>\n",
              "\t<tr><td>10</td><td>Class_6.2.wav </td><td> 0.0</td><td> 6.8</td><td> 0.00</td><td>146.75000</td><td>133.24839</td><td>107</td><td>      NA</td><td>       NA</td><td>      NA</td><td>       NA</td><td>2/19/2020</td><td>18</td></tr>\n",
              "\t<tr><td>11</td><td>Class_7.1.wav </td><td>-0.1</td><td> 6.5</td><td>-0.65</td><td>111.50000</td><td> 44.55558</td><td> 91</td><td>      NA</td><td>       NA</td><td>3.722222</td><td>0.4479032</td><td>2/24/2020</td><td>18</td></tr>\n",
              "\t<tr><td>12</td><td>Class_7.2.wav </td><td>-0.2</td><td> 8.0</td><td>-1.60</td><td>103.11765</td><td> 49.60706</td><td>133</td><td>3.380952</td><td>0.6529195</td><td>      NA</td><td>       NA</td><td>2/26/2020</td><td>19</td></tr>\n",
              "\t<tr><td>13</td><td>Class_8.1.wav </td><td> 0.0</td><td> 8.9</td><td> 0.00</td><td>194.00000</td><td>133.17157</td><td>162</td><td>      NA</td><td>       NA</td><td>3.333333</td><td>0.5634362</td><td>3/2/2020 </td><td>18</td></tr>\n",
              "\t<tr><td>14</td><td>Class_8.2.wav </td><td>-0.2</td><td> 5.9</td><td>-1.18</td><td>149.35294</td><td>103.27145</td><td> 89</td><td>3.733333</td><td>0.4422166</td><td>      NA</td><td>       NA</td><td>3/4/2020 </td><td>19</td></tr>\n",
              "\t<tr><td>15</td><td>Class_9.1.wav </td><td> 0.0</td><td> 1.3</td><td> 0.00</td><td>124.33333</td><td> 73.00554</td><td>104</td><td>3.454545</td><td>0.4979296</td><td>      NA</td><td>       NA</td><td>3/9/2020 </td><td>17</td></tr>\n",
              "\t<tr><td>16</td><td>Class_9.2.wav </td><td>-0.2</td><td> 8.7</td><td>-1.74</td><td>130.11765</td><td> 76.87724</td><td>152</td><td>      NA</td><td>       NA</td><td>      NA</td><td>       NA</td><td>3/11/2020</td><td>19</td></tr>\n",
              "\t<tr><td>17</td><td>Class_10.1.wav</td><td>-0.1</td><td> 4.8</td><td>-0.48</td><td>252.78571</td><td>463.88861</td><td>103</td><td>      NA</td><td>       NA</td><td>      NA</td><td>       NA</td><td>3/16/2020</td><td>16</td></tr>\n",
              "\t<tr><td>18</td><td>Class_10.2.wav</td><td>-0.1</td><td> 7.5</td><td>-0.75</td><td>151.71429</td><td> 86.62246</td><td>141</td><td>      NA</td><td>       NA</td><td>3.000000</td><td>0.0000000</td><td>3/18/2020</td><td>16</td></tr>\n",
              "</tbody>\n",
              "</table>\n"
            ]
          },
          "metadata": {
            "tags": []
          }
        }
      ]
    },
    {
      "cell_type": "code",
      "metadata": {
        "id": "9VHulQ6OT_ZL",
        "colab": {
          "base_uri": "https://localhost:8080/"
        },
        "outputId": "ececdede-a924-40ae-eda1-bd85c8935270"
      },
      "source": [
        "te = gen_matching(terrana, 'Emojis_Handraises')"
      ],
      "execution_count": null,
      "outputs": [
        {
          "output_type": "stream",
          "text": [
            "[1] 0.3285583\n",
            "\n",
            "Estimate...  -4 \n",
            "AI SE......  8.4853 \n",
            "T-stat.....  -0.4714 \n",
            "p.val......  0.63735 \n",
            "\n",
            "Original number of observations..............  11 \n",
            "Original number of treated obs...............  2 \n",
            "Matched number of observations...............  2 \n",
            "Matched number of observations  (unweighted).  2 \n",
            "\n"
          ],
          "name": "stdout"
        }
      ]
    },
    {
      "cell_type": "code",
      "metadata": {
        "id": "Na6apbQeiunp",
        "colab": {
          "base_uri": "https://localhost:8080/"
        },
        "outputId": "0bb0583a-0ac3-4167-c37b-d048fd913b69"
      },
      "source": [
        "dataframes = list(mcallister, terrana, dosmann, fiorelli)\n",
        "\n",
        "#mc = gen_matching(mcallister, \"Talk_SDs\")\n",
        "for (j in dataframes){\n",
        "  print(deparse(substitute(j)))\n",
        "  for (i in cols){\n",
        "  print(paste(\"Results for:\", i))\n",
        "  results = gen_matching(j, i)\n",
        "  }\n",
        "}\n",
        "\n",
        "\n",
        "#te = gen_matching(terrana, \"Talk_Means\")\n",
        "#do = gen_matching(dosmann, \"Talk_SDs\")\n",
        "#fi = gen_matching(fiorelli, \"Talk_SDs\")\n"
      ],
      "execution_count": null,
      "outputs": [
        {
          "output_type": "stream",
          "text": [
            "[1] \"j\"\n",
            "[1] \"Results for: Emojis_Handraises\"\n",
            "[1] 0.3453463\n",
            "\n",
            "Estimate...  37.667 \n",
            "AI SE......  4.4333 \n",
            "T-stat.....  8.4963 \n",
            "p.val......  < 2.22e-16 \n",
            "\n",
            "Original number of observations..............  14 \n",
            "Original number of treated obs...............  3 \n",
            "Matched number of observations...............  3 \n",
            "Matched number of observations  (unweighted).  3 \n",
            "\n",
            "[1] \"Results for: Talk_Means\"\n",
            "[1] 0.3453463\n",
            "\n",
            "Estimate...  8.3082 \n",
            "AI SE......  14.429 \n",
            "T-stat.....  0.57581 \n",
            "p.val......  0.56474 \n",
            "\n",
            "Original number of observations..............  14 \n",
            "Original number of treated obs...............  3 \n",
            "Matched number of observations...............  3 \n",
            "Matched number of observations  (unweighted).  3 \n",
            "\n",
            "[1] \"Results for: Talk_SDs\"\n",
            "[1] 0.3453463\n",
            "\n",
            "Estimate...  15.569 \n",
            "AI SE......  4.7392 \n",
            "T-stat.....  3.2853 \n",
            "p.val......  0.0010189 \n",
            "\n",
            "Original number of observations..............  14 \n",
            "Original number of treated obs...............  3 \n",
            "Matched number of observations...............  3 \n",
            "Matched number of observations  (unweighted).  3 \n",
            "\n",
            "[1] \"j\"\n",
            "[1] \"Results for: Emojis_Handraises\"\n",
            "[1] 0.6923937\n",
            "\n",
            "Estimate...  11 \n",
            "AI SE......  57.983 \n",
            "T-stat.....  0.18971 \n",
            "p.val......  0.84954 \n",
            "\n",
            "Original number of observations..............  11 \n",
            "Original number of treated obs...............  2 \n",
            "Matched number of observations...............  2 \n",
            "Matched number of observations  (unweighted).  2 \n",
            "\n",
            "[1] \"Results for: Talk_Means\"\n",
            "[1] 0.6923937\n",
            "\n",
            "Estimate...  0.8553 \n",
            "AI SE......  6.1556 \n",
            "T-stat.....  0.13895 \n",
            "p.val......  0.88949 \n",
            "\n",
            "Original number of observations..............  11 \n",
            "Original number of treated obs...............  2 \n",
            "Matched number of observations...............  2 \n",
            "Matched number of observations  (unweighted).  2 \n",
            "\n",
            "[1] \"Results for: Talk_SDs\"\n",
            "[1] 0.3285583\n",
            "\n",
            "Estimate...  20.628 \n",
            "AI SE......  19.129 \n",
            "T-stat.....  1.0783 \n",
            "p.val......  0.28088 \n",
            "\n",
            "Original number of observations..............  11 \n",
            "Original number of treated obs...............  2 \n",
            "Matched number of observations...............  2 \n",
            "Matched number of observations  (unweighted).  2 \n",
            "\n",
            "[1] \"j\"\n",
            "[1] \"Results for: Emojis_Handraises\"\n",
            "[1] 0.222\n",
            "\n",
            "Estimate...  16.5 \n",
            "AI SE......  18.738 \n",
            "T-stat.....  0.88055 \n",
            "p.val......  0.37856 \n",
            "\n",
            "Original number of observations..............  12 \n",
            "Original number of treated obs...............  2 \n",
            "Matched number of observations...............  2 \n",
            "Matched number of observations  (unweighted).  2 \n",
            "\n",
            "[1] \"Results for: Talk_Means\"\n",
            "[1] 0.2\n",
            "\n",
            "Estimate...  -3.75 \n",
            "AI SE......  20.683 \n",
            "T-stat.....  -0.18131 \n",
            "p.val......  0.85612 \n",
            "\n",
            "Original number of observations..............  12 \n",
            "Original number of treated obs...............  2 \n",
            "Matched number of observations...............  2 \n",
            "Matched number of observations  (unweighted).  2 \n",
            "\n",
            "[1] \"Results for: Talk_SDs\"\n",
            "[1] 0.202\n",
            "\n",
            "Estimate...  -5.1733 \n",
            "AI SE......  25.356 \n",
            "T-stat.....  -0.20403 \n",
            "p.val......  0.83833 \n",
            "\n",
            "Original number of observations..............  12 \n",
            "Original number of treated obs...............  2 \n",
            "Matched number of observations...............  2 \n",
            "Matched number of observations  (unweighted).  2 \n",
            "\n",
            "[1] \"j\"\n",
            "[1] \"Results for: Emojis_Handraises\"\n",
            "[1] 0.5344903\n",
            "\n",
            "Estimate...  14.75 \n",
            "AI SE......  24.717 \n",
            "T-stat.....  0.59676 \n",
            "p.val......  0.55067 \n",
            "\n",
            "Original number of observations..............  13 \n",
            "Original number of treated obs...............  4 \n",
            "Matched number of observations...............  4 \n",
            "Matched number of observations  (unweighted).  4 \n",
            "\n",
            "[1] \"Results for: Talk_Means\"\n",
            "[1] 0.5344903\n",
            "\n",
            "Estimate...  8.4368 \n",
            "AI SE......  10.103 \n",
            "T-stat.....  0.83511 \n",
            "p.val......  0.40366 \n",
            "\n",
            "Original number of observations..............  13 \n",
            "Original number of treated obs...............  4 \n",
            "Matched number of observations...............  4 \n",
            "Matched number of observations  (unweighted).  4 \n",
            "\n",
            "[1] \"Results for: Talk_SDs\"\n",
            "[1] 0.5344903\n",
            "\n",
            "Estimate...  0.57455 \n",
            "AI SE......  10.614 \n",
            "T-stat.....  0.054131 \n",
            "p.val......  0.95683 \n",
            "\n",
            "Original number of observations..............  13 \n",
            "Original number of treated obs...............  4 \n",
            "Matched number of observations...............  4 \n",
            "Matched number of observations  (unweighted).  4 \n",
            "\n"
          ],
          "name": "stdout"
        }
      ]
    },
    {
      "cell_type": "code",
      "metadata": {
        "id": "-bty5RIjVrHA",
        "colab": {
          "base_uri": "https://localhost:8080/",
          "height": 475
        },
        "outputId": "f26b6029-ca97-4f0f-9459-18b22d400832"
      },
      "source": [
        "mcallister"
      ],
      "execution_count": null,
      "outputs": [
        {
          "output_type": "display_data",
          "data": {
            "text/plain": [
              "   ...1 Class          Score Magnitude Judgement Talk_Means Talk_SDs \n",
              "1   0   Class_1.1.wav  -0.1   5.5      -0.55     147.37500   83.12230\n",
              "2   1   Class_1.2.wav  -0.2   8.4      -1.68     133.00000   55.38050\n",
              "3   2   Class_2.1.wav  -0.3   9.7      -2.91     150.73333  108.22032\n",
              "4   3   Class_2.2.wav  -0.3   8.8      -2.64     132.00000   91.15116\n",
              "5   4   Class_3.1.wav  -0.4  10.4      -4.16     140.05882   63.18868\n",
              "6   5   Class_3.2.wav  -0.2   9.3      -1.86     119.52941   74.10222\n",
              "7   6   Class_4.1.wav  -0.3   6.2      -1.86     118.00000   55.33921\n",
              "8   7   Class_4.2.wav  -0.2  10.2      -2.04     160.81250  119.68916\n",
              "9   8   Class_5.1.wav   0.0   6.7       0.00     109.00000   83.23140\n",
              "10  9   Class_5.2.wav  -0.2   5.3      -1.06      92.94118   49.99309\n",
              "11 10   Class_6.2.wav   0.0   6.8       0.00     146.75000  133.24839\n",
              "12 11   Class_7.1.wav  -0.1   6.5      -0.65     111.50000   44.55558\n",
              "13 12   Class_7.2.wav  -0.2   8.0      -1.60     103.11765   49.60706\n",
              "14 13   Class_8.1.wav   0.0   8.9       0.00     194.00000  133.17157\n",
              "15 14   Class_8.2.wav  -0.2   5.9      -1.18     149.35294  103.27145\n",
              "16 15   Class_9.1.wav   0.0   1.3       0.00     124.33333   73.00554\n",
              "17 16   Class_9.2.wav  -0.2   8.7      -1.74     130.11765   76.87724\n",
              "18 17   Class_10.1.wav -0.1   4.8      -0.48     252.78571  463.88861\n",
              "19 18   Class_10.2.wav -0.1   7.5      -0.75     151.71429   86.62246\n",
              "   Emojis_Handraises Video.Mean Video.SD  Prep.Mean Prep.SD   Class.Date\n",
              "1   86               3.578947   0.4937280       NA         NA 1/13/2020 \n",
              "2  124                     NA          NA 3.105263  0.3068922 1/15/2020 \n",
              "3  133               3.333333   0.5962848       NA         NA 1/20/2020 \n",
              "4  118                     NA          NA 3.650000  0.4769696 1/22/2020 \n",
              "5  167               3.578947   0.4937280       NA         NA 1/27/2020 \n",
              "6  148                     NA          NA       NA         NA 1/29/2020 \n",
              "7   98                     NA          NA       NA         NA 2/3/2020  \n",
              "8  131               3.714286   0.4517540       NA         NA 2/5/2020  \n",
              "9   91               3.421053   0.4937280 3.000000  0.0000000 2/10/2020 \n",
              "10 112                     NA          NA 3.227273  0.6695873 2/12/2020 \n",
              "11 107                     NA          NA       NA         NA 2/19/2020 \n",
              "12  91                     NA          NA 3.722222  0.4479032 2/24/2020 \n",
              "13 133               3.380952   0.6529195       NA         NA 2/26/2020 \n",
              "14 162                     NA          NA 3.333333  0.5634362 3/2/2020  \n",
              "15  89               3.733333   0.4422166       NA         NA 3/4/2020  \n",
              "16 104               3.454545   0.4979296       NA         NA 3/9/2020  \n",
              "17 152                     NA          NA       NA         NA 3/11/2020 \n",
              "18 103                     NA          NA       NA         NA 3/16/2020 \n",
              "19 141                     NA          NA 3.000000  0.0000000 3/18/2020 \n",
              "   Number.of.Students\n",
              "1  18                \n",
              "2  19                \n",
              "3  17                \n",
              "4  18                \n",
              "5  19                \n",
              "6  19                \n",
              "7  17                \n",
              "8  18                \n",
              "9  18                \n",
              "10 19                \n",
              "11 18                \n",
              "12 18                \n",
              "13 19                \n",
              "14 18                \n",
              "15 19                \n",
              "16 17                \n",
              "17 19                \n",
              "18 16                \n",
              "19 16                "
            ],
            "text/latex": "A data.frame: 19 × 14\n\\begin{tabular}{llllllllllllll}\n ...1 & Class & Score & Magnitude & Judgement & Talk\\_Means & Talk\\_SDs & Emojis\\_Handraises & Video.Mean & Video.SD & Prep.Mean & Prep.SD & Class.Date & Number.of.Students\\\\\n <int> & <chr> & <dbl> & <dbl> & <dbl> & <dbl> & <dbl> & <int> & <dbl> & <dbl> & <dbl> & <dbl> & <chr> & <int>\\\\\n\\hline\n\t  0 & Class\\_1.1.wav  & -0.1 &  5.5 & -0.55 & 147.37500 &  83.12230 &  86 & 3.578947 & 0.4937280 &       NA &        NA & 1/13/2020 & 18\\\\\n\t  1 & Class\\_1.2.wav  & -0.2 &  8.4 & -1.68 & 133.00000 &  55.38050 & 124 &       NA &        NA & 3.105263 & 0.3068922 & 1/15/2020 & 19\\\\\n\t  2 & Class\\_2.1.wav  & -0.3 &  9.7 & -2.91 & 150.73333 & 108.22032 & 133 & 3.333333 & 0.5962848 &       NA &        NA & 1/20/2020 & 17\\\\\n\t  3 & Class\\_2.2.wav  & -0.3 &  8.8 & -2.64 & 132.00000 &  91.15116 & 118 &       NA &        NA & 3.650000 & 0.4769696 & 1/22/2020 & 18\\\\\n\t  4 & Class\\_3.1.wav  & -0.4 & 10.4 & -4.16 & 140.05882 &  63.18868 & 167 & 3.578947 & 0.4937280 &       NA &        NA & 1/27/2020 & 19\\\\\n\t  5 & Class\\_3.2.wav  & -0.2 &  9.3 & -1.86 & 119.52941 &  74.10222 & 148 &       NA &        NA &       NA &        NA & 1/29/2020 & 19\\\\\n\t  6 & Class\\_4.1.wav  & -0.3 &  6.2 & -1.86 & 118.00000 &  55.33921 &  98 &       NA &        NA &       NA &        NA & 2/3/2020  & 17\\\\\n\t  7 & Class\\_4.2.wav  & -0.2 & 10.2 & -2.04 & 160.81250 & 119.68916 & 131 & 3.714286 & 0.4517540 &       NA &        NA & 2/5/2020  & 18\\\\\n\t  8 & Class\\_5.1.wav  &  0.0 &  6.7 &  0.00 & 109.00000 &  83.23140 &  91 & 3.421053 & 0.4937280 & 3.000000 & 0.0000000 & 2/10/2020 & 18\\\\\n\t  9 & Class\\_5.2.wav  & -0.2 &  5.3 & -1.06 &  92.94118 &  49.99309 & 112 &       NA &        NA & 3.227273 & 0.6695873 & 2/12/2020 & 19\\\\\n\t 10 & Class\\_6.2.wav  &  0.0 &  6.8 &  0.00 & 146.75000 & 133.24839 & 107 &       NA &        NA &       NA &        NA & 2/19/2020 & 18\\\\\n\t 11 & Class\\_7.1.wav  & -0.1 &  6.5 & -0.65 & 111.50000 &  44.55558 &  91 &       NA &        NA & 3.722222 & 0.4479032 & 2/24/2020 & 18\\\\\n\t 12 & Class\\_7.2.wav  & -0.2 &  8.0 & -1.60 & 103.11765 &  49.60706 & 133 & 3.380952 & 0.6529195 &       NA &        NA & 2/26/2020 & 19\\\\\n\t 13 & Class\\_8.1.wav  &  0.0 &  8.9 &  0.00 & 194.00000 & 133.17157 & 162 &       NA &        NA & 3.333333 & 0.5634362 & 3/2/2020  & 18\\\\\n\t 14 & Class\\_8.2.wav  & -0.2 &  5.9 & -1.18 & 149.35294 & 103.27145 &  89 & 3.733333 & 0.4422166 &       NA &        NA & 3/4/2020  & 19\\\\\n\t 15 & Class\\_9.1.wav  &  0.0 &  1.3 &  0.00 & 124.33333 &  73.00554 & 104 & 3.454545 & 0.4979296 &       NA &        NA & 3/9/2020  & 17\\\\\n\t 16 & Class\\_9.2.wav  & -0.2 &  8.7 & -1.74 & 130.11765 &  76.87724 & 152 &       NA &        NA &       NA &        NA & 3/11/2020 & 19\\\\\n\t 17 & Class\\_10.1.wav & -0.1 &  4.8 & -0.48 & 252.78571 & 463.88861 & 103 &       NA &        NA &       NA &        NA & 3/16/2020 & 16\\\\\n\t 18 & Class\\_10.2.wav & -0.1 &  7.5 & -0.75 & 151.71429 &  86.62246 & 141 &       NA &        NA & 3.000000 & 0.0000000 & 3/18/2020 & 16\\\\\n\\end{tabular}\n",
            "text/markdown": "\nA data.frame: 19 × 14\n\n| ...1 &lt;int&gt; | Class &lt;chr&gt; | Score &lt;dbl&gt; | Magnitude &lt;dbl&gt; | Judgement &lt;dbl&gt; | Talk_Means &lt;dbl&gt; | Talk_SDs &lt;dbl&gt; | Emojis_Handraises &lt;int&gt; | Video.Mean &lt;dbl&gt; | Video.SD &lt;dbl&gt; | Prep.Mean &lt;dbl&gt; | Prep.SD &lt;dbl&gt; | Class.Date &lt;chr&gt; | Number.of.Students &lt;int&gt; |\n|---|---|---|---|---|---|---|---|---|---|---|---|---|---|\n|  0 | Class_1.1.wav  | -0.1 |  5.5 | -0.55 | 147.37500 |  83.12230 |  86 | 3.578947 | 0.4937280 |       NA |        NA | 1/13/2020 | 18 |\n|  1 | Class_1.2.wav  | -0.2 |  8.4 | -1.68 | 133.00000 |  55.38050 | 124 |       NA |        NA | 3.105263 | 0.3068922 | 1/15/2020 | 19 |\n|  2 | Class_2.1.wav  | -0.3 |  9.7 | -2.91 | 150.73333 | 108.22032 | 133 | 3.333333 | 0.5962848 |       NA |        NA | 1/20/2020 | 17 |\n|  3 | Class_2.2.wav  | -0.3 |  8.8 | -2.64 | 132.00000 |  91.15116 | 118 |       NA |        NA | 3.650000 | 0.4769696 | 1/22/2020 | 18 |\n|  4 | Class_3.1.wav  | -0.4 | 10.4 | -4.16 | 140.05882 |  63.18868 | 167 | 3.578947 | 0.4937280 |       NA |        NA | 1/27/2020 | 19 |\n|  5 | Class_3.2.wav  | -0.2 |  9.3 | -1.86 | 119.52941 |  74.10222 | 148 |       NA |        NA |       NA |        NA | 1/29/2020 | 19 |\n|  6 | Class_4.1.wav  | -0.3 |  6.2 | -1.86 | 118.00000 |  55.33921 |  98 |       NA |        NA |       NA |        NA | 2/3/2020  | 17 |\n|  7 | Class_4.2.wav  | -0.2 | 10.2 | -2.04 | 160.81250 | 119.68916 | 131 | 3.714286 | 0.4517540 |       NA |        NA | 2/5/2020  | 18 |\n|  8 | Class_5.1.wav  |  0.0 |  6.7 |  0.00 | 109.00000 |  83.23140 |  91 | 3.421053 | 0.4937280 | 3.000000 | 0.0000000 | 2/10/2020 | 18 |\n|  9 | Class_5.2.wav  | -0.2 |  5.3 | -1.06 |  92.94118 |  49.99309 | 112 |       NA |        NA | 3.227273 | 0.6695873 | 2/12/2020 | 19 |\n| 10 | Class_6.2.wav  |  0.0 |  6.8 |  0.00 | 146.75000 | 133.24839 | 107 |       NA |        NA |       NA |        NA | 2/19/2020 | 18 |\n| 11 | Class_7.1.wav  | -0.1 |  6.5 | -0.65 | 111.50000 |  44.55558 |  91 |       NA |        NA | 3.722222 | 0.4479032 | 2/24/2020 | 18 |\n| 12 | Class_7.2.wav  | -0.2 |  8.0 | -1.60 | 103.11765 |  49.60706 | 133 | 3.380952 | 0.6529195 |       NA |        NA | 2/26/2020 | 19 |\n| 13 | Class_8.1.wav  |  0.0 |  8.9 |  0.00 | 194.00000 | 133.17157 | 162 |       NA |        NA | 3.333333 | 0.5634362 | 3/2/2020  | 18 |\n| 14 | Class_8.2.wav  | -0.2 |  5.9 | -1.18 | 149.35294 | 103.27145 |  89 | 3.733333 | 0.4422166 |       NA |        NA | 3/4/2020  | 19 |\n| 15 | Class_9.1.wav  |  0.0 |  1.3 |  0.00 | 124.33333 |  73.00554 | 104 | 3.454545 | 0.4979296 |       NA |        NA | 3/9/2020  | 17 |\n| 16 | Class_9.2.wav  | -0.2 |  8.7 | -1.74 | 130.11765 |  76.87724 | 152 |       NA |        NA |       NA |        NA | 3/11/2020 | 19 |\n| 17 | Class_10.1.wav | -0.1 |  4.8 | -0.48 | 252.78571 | 463.88861 | 103 |       NA |        NA |       NA |        NA | 3/16/2020 | 16 |\n| 18 | Class_10.2.wav | -0.1 |  7.5 | -0.75 | 151.71429 |  86.62246 | 141 |       NA |        NA | 3.000000 | 0.0000000 | 3/18/2020 | 16 |\n\n",
            "text/html": [
              "<table>\n",
              "<caption>A data.frame: 19 × 14</caption>\n",
              "<thead>\n",
              "\t<tr><th scope=col>...1</th><th scope=col>Class</th><th scope=col>Score</th><th scope=col>Magnitude</th><th scope=col>Judgement</th><th scope=col>Talk_Means</th><th scope=col>Talk_SDs</th><th scope=col>Emojis_Handraises</th><th scope=col>Video.Mean</th><th scope=col>Video.SD</th><th scope=col>Prep.Mean</th><th scope=col>Prep.SD</th><th scope=col>Class.Date</th><th scope=col>Number.of.Students</th></tr>\n",
              "\t<tr><th scope=col>&lt;int&gt;</th><th scope=col>&lt;chr&gt;</th><th scope=col>&lt;dbl&gt;</th><th scope=col>&lt;dbl&gt;</th><th scope=col>&lt;dbl&gt;</th><th scope=col>&lt;dbl&gt;</th><th scope=col>&lt;dbl&gt;</th><th scope=col>&lt;int&gt;</th><th scope=col>&lt;dbl&gt;</th><th scope=col>&lt;dbl&gt;</th><th scope=col>&lt;dbl&gt;</th><th scope=col>&lt;dbl&gt;</th><th scope=col>&lt;chr&gt;</th><th scope=col>&lt;int&gt;</th></tr>\n",
              "</thead>\n",
              "<tbody>\n",
              "\t<tr><td> 0</td><td>Class_1.1.wav </td><td>-0.1</td><td> 5.5</td><td>-0.55</td><td>147.37500</td><td> 83.12230</td><td> 86</td><td>3.578947</td><td>0.4937280</td><td>      NA</td><td>       NA</td><td>1/13/2020</td><td>18</td></tr>\n",
              "\t<tr><td> 1</td><td>Class_1.2.wav </td><td>-0.2</td><td> 8.4</td><td>-1.68</td><td>133.00000</td><td> 55.38050</td><td>124</td><td>      NA</td><td>       NA</td><td>3.105263</td><td>0.3068922</td><td>1/15/2020</td><td>19</td></tr>\n",
              "\t<tr><td> 2</td><td>Class_2.1.wav </td><td>-0.3</td><td> 9.7</td><td>-2.91</td><td>150.73333</td><td>108.22032</td><td>133</td><td>3.333333</td><td>0.5962848</td><td>      NA</td><td>       NA</td><td>1/20/2020</td><td>17</td></tr>\n",
              "\t<tr><td> 3</td><td>Class_2.2.wav </td><td>-0.3</td><td> 8.8</td><td>-2.64</td><td>132.00000</td><td> 91.15116</td><td>118</td><td>      NA</td><td>       NA</td><td>3.650000</td><td>0.4769696</td><td>1/22/2020</td><td>18</td></tr>\n",
              "\t<tr><td> 4</td><td>Class_3.1.wav </td><td>-0.4</td><td>10.4</td><td>-4.16</td><td>140.05882</td><td> 63.18868</td><td>167</td><td>3.578947</td><td>0.4937280</td><td>      NA</td><td>       NA</td><td>1/27/2020</td><td>19</td></tr>\n",
              "\t<tr><td> 5</td><td>Class_3.2.wav </td><td>-0.2</td><td> 9.3</td><td>-1.86</td><td>119.52941</td><td> 74.10222</td><td>148</td><td>      NA</td><td>       NA</td><td>      NA</td><td>       NA</td><td>1/29/2020</td><td>19</td></tr>\n",
              "\t<tr><td> 6</td><td>Class_4.1.wav </td><td>-0.3</td><td> 6.2</td><td>-1.86</td><td>118.00000</td><td> 55.33921</td><td> 98</td><td>      NA</td><td>       NA</td><td>      NA</td><td>       NA</td><td>2/3/2020 </td><td>17</td></tr>\n",
              "\t<tr><td> 7</td><td>Class_4.2.wav </td><td>-0.2</td><td>10.2</td><td>-2.04</td><td>160.81250</td><td>119.68916</td><td>131</td><td>3.714286</td><td>0.4517540</td><td>      NA</td><td>       NA</td><td>2/5/2020 </td><td>18</td></tr>\n",
              "\t<tr><td> 8</td><td>Class_5.1.wav </td><td> 0.0</td><td> 6.7</td><td> 0.00</td><td>109.00000</td><td> 83.23140</td><td> 91</td><td>3.421053</td><td>0.4937280</td><td>3.000000</td><td>0.0000000</td><td>2/10/2020</td><td>18</td></tr>\n",
              "\t<tr><td> 9</td><td>Class_5.2.wav </td><td>-0.2</td><td> 5.3</td><td>-1.06</td><td> 92.94118</td><td> 49.99309</td><td>112</td><td>      NA</td><td>       NA</td><td>3.227273</td><td>0.6695873</td><td>2/12/2020</td><td>19</td></tr>\n",
              "\t<tr><td>10</td><td>Class_6.2.wav </td><td> 0.0</td><td> 6.8</td><td> 0.00</td><td>146.75000</td><td>133.24839</td><td>107</td><td>      NA</td><td>       NA</td><td>      NA</td><td>       NA</td><td>2/19/2020</td><td>18</td></tr>\n",
              "\t<tr><td>11</td><td>Class_7.1.wav </td><td>-0.1</td><td> 6.5</td><td>-0.65</td><td>111.50000</td><td> 44.55558</td><td> 91</td><td>      NA</td><td>       NA</td><td>3.722222</td><td>0.4479032</td><td>2/24/2020</td><td>18</td></tr>\n",
              "\t<tr><td>12</td><td>Class_7.2.wav </td><td>-0.2</td><td> 8.0</td><td>-1.60</td><td>103.11765</td><td> 49.60706</td><td>133</td><td>3.380952</td><td>0.6529195</td><td>      NA</td><td>       NA</td><td>2/26/2020</td><td>19</td></tr>\n",
              "\t<tr><td>13</td><td>Class_8.1.wav </td><td> 0.0</td><td> 8.9</td><td> 0.00</td><td>194.00000</td><td>133.17157</td><td>162</td><td>      NA</td><td>       NA</td><td>3.333333</td><td>0.5634362</td><td>3/2/2020 </td><td>18</td></tr>\n",
              "\t<tr><td>14</td><td>Class_8.2.wav </td><td>-0.2</td><td> 5.9</td><td>-1.18</td><td>149.35294</td><td>103.27145</td><td> 89</td><td>3.733333</td><td>0.4422166</td><td>      NA</td><td>       NA</td><td>3/4/2020 </td><td>19</td></tr>\n",
              "\t<tr><td>15</td><td>Class_9.1.wav </td><td> 0.0</td><td> 1.3</td><td> 0.00</td><td>124.33333</td><td> 73.00554</td><td>104</td><td>3.454545</td><td>0.4979296</td><td>      NA</td><td>       NA</td><td>3/9/2020 </td><td>17</td></tr>\n",
              "\t<tr><td>16</td><td>Class_9.2.wav </td><td>-0.2</td><td> 8.7</td><td>-1.74</td><td>130.11765</td><td> 76.87724</td><td>152</td><td>      NA</td><td>       NA</td><td>      NA</td><td>       NA</td><td>3/11/2020</td><td>19</td></tr>\n",
              "\t<tr><td>17</td><td>Class_10.1.wav</td><td>-0.1</td><td> 4.8</td><td>-0.48</td><td>252.78571</td><td>463.88861</td><td>103</td><td>      NA</td><td>       NA</td><td>      NA</td><td>       NA</td><td>3/16/2020</td><td>16</td></tr>\n",
              "\t<tr><td>18</td><td>Class_10.2.wav</td><td>-0.1</td><td> 7.5</td><td>-0.75</td><td>151.71429</td><td> 86.62246</td><td>141</td><td>      NA</td><td>       NA</td><td>3.000000</td><td>0.0000000</td><td>3/18/2020</td><td>16</td></tr>\n",
              "</tbody>\n",
              "</table>\n"
            ]
          },
          "metadata": {
            "tags": []
          }
        }
      ]
    },
    {
      "cell_type": "code",
      "metadata": {
        "id": "5xAulR84U8Au"
      },
      "source": [
        ""
      ],
      "execution_count": null,
      "outputs": []
    },
    {
      "cell_type": "code",
      "metadata": {
        "id": "qMyo-OAAlB9f",
        "colab": {
          "base_uri": "https://localhost:8080/",
          "height": 1000
        },
        "outputId": "c7416e66-bb9e-4682-c2aa-bc22a2169448"
      },
      "source": [
        "lst <- c(\"Talk_Means\", \"Talk_SDs\", \"Emojis_Handraises\")\n",
        "mc_sens = c()\n",
        "te_sens = c()\n",
        "do_sens = c()\n",
        "fi_sens = c()\n",
        "\n",
        "for (i in lst){\n",
        "  mc = psens(gen_matching(\"mcallister.csv\", i), Gamma=3, GammaInc=0.5)\n",
        "  te = psens(gen_matching(\"terrana.csv\", i), Gamma=3, GammaInc=0.5)\n",
        "  do = psens(gen_matching(\"dosmann.csv\", i), Gamma=3, GammaInc=0.5)\n",
        "  fi = psens(gen_matching(\"fiorelli.csv\", i), Gamma=3, GammaInc=0.5)\n",
        "  mc_sens = append(mc_sens, mc)\n",
        "  te_sens = append(te_sens, te)\n",
        "  do_sens = append(do_sens, do)\n",
        "  fi_sens = append(fi_sens, fi)\n",
        "}\n",
        "\n"
      ],
      "execution_count": null,
      "outputs": [
        {
          "output_type": "stream",
          "text": [
            "[1] 0.3453463\n",
            "\n",
            "Estimate...  8.3082 \n",
            "AI SE......  14.429 \n",
            "T-stat.....  0.57581 \n",
            "p.val......  0.56474 \n",
            "\n",
            "Original number of observations..............  14 \n",
            "Original number of treated obs...............  3 \n",
            "Matched number of observations...............  3 \n",
            "Matched number of observations  (unweighted).  3 \n",
            "\n",
            "[1] 0.6923937\n",
            "\n",
            "Estimate...  0.8553 \n",
            "AI SE......  6.1556 \n",
            "T-stat.....  0.13895 \n",
            "p.val......  0.88949 \n",
            "\n",
            "Original number of observations..............  11 \n",
            "Original number of treated obs...............  2 \n",
            "Matched number of observations...............  2 \n",
            "Matched number of observations  (unweighted).  2 \n",
            "\n",
            "[1] 0.188\n",
            "\n",
            "Estimate...  -3.75 \n",
            "AI SE......  20.683 \n",
            "T-stat.....  -0.18131 \n",
            "p.val......  0.85612 \n",
            "\n",
            "Original number of observations..............  12 \n",
            "Original number of treated obs...............  2 \n",
            "Matched number of observations...............  2 \n",
            "Matched number of observations  (unweighted).  2 \n",
            "\n",
            "[1] 0.5344903\n",
            "\n",
            "Estimate...  8.4368 \n",
            "AI SE......  10.103 \n",
            "T-stat.....  0.83511 \n",
            "p.val......  0.40366 \n",
            "\n",
            "Original number of observations..............  13 \n",
            "Original number of treated obs...............  4 \n",
            "Matched number of observations...............  4 \n",
            "Matched number of observations  (unweighted).  4 \n",
            "\n",
            "[1] 0.3453463\n",
            "\n",
            "Estimate...  15.569 \n",
            "AI SE......  4.7392 \n",
            "T-stat.....  3.2853 \n",
            "p.val......  0.0010189 \n",
            "\n",
            "Original number of observations..............  14 \n",
            "Original number of treated obs...............  3 \n",
            "Matched number of observations...............  3 \n",
            "Matched number of observations  (unweighted).  3 \n",
            "\n",
            "[1] 0.2433233\n",
            "\n",
            "Estimate...  10.005 \n",
            "AI SE......  13.466 \n",
            "T-stat.....  0.74298 \n",
            "p.val......  0.4575 \n",
            "\n",
            "Original number of observations..............  11 \n",
            "Original number of treated obs...............  2 \n",
            "Matched number of observations...............  2 \n",
            "Matched number of observations  (unweighted).  2 \n",
            "\n",
            "[1] 0.186\n",
            "\n",
            "Estimate...  16.561 \n",
            "AI SE......  0.48622 \n",
            "T-stat.....  34.06 \n",
            "p.val......  < 2.22e-16 \n",
            "\n",
            "Original number of observations..............  12 \n",
            "Original number of treated obs...............  2 \n",
            "Matched number of observations...............  2 \n",
            "Matched number of observations  (unweighted).  2 \n",
            "\n",
            "[1] 0.5344903\n",
            "\n",
            "Estimate...  0.57455 \n",
            "AI SE......  10.614 \n",
            "T-stat.....  0.054131 \n",
            "p.val......  0.95683 \n",
            "\n",
            "Original number of observations..............  13 \n",
            "Original number of treated obs...............  4 \n",
            "Matched number of observations...............  4 \n",
            "Matched number of observations  (unweighted).  4 \n",
            "\n",
            "[1] 0.3453463\n",
            "\n",
            "Estimate...  37.667 \n",
            "AI SE......  4.4333 \n",
            "T-stat.....  8.4963 \n",
            "p.val......  < 2.22e-16 \n",
            "\n",
            "Original number of observations..............  14 \n",
            "Original number of treated obs...............  3 \n",
            "Matched number of observations...............  3 \n",
            "Matched number of observations  (unweighted).  3 \n",
            "\n",
            "[1] 0.3285583\n",
            "\n",
            "Estimate...  -4 \n",
            "AI SE......  8.4853 \n",
            "T-stat.....  -0.4714 \n",
            "p.val......  0.63735 \n",
            "\n",
            "Original number of observations..............  11 \n",
            "Original number of treated obs...............  2 \n",
            "Matched number of observations...............  2 \n",
            "Matched number of observations  (unweighted).  2 \n",
            "\n",
            "[1] 0.198\n",
            "\n",
            "Estimate...  16.5 \n",
            "AI SE......  18.738 \n",
            "T-stat.....  0.88055 \n",
            "p.val......  0.37856 \n",
            "\n",
            "Original number of observations..............  12 \n",
            "Original number of treated obs...............  2 \n",
            "Matched number of observations...............  2 \n",
            "Matched number of observations  (unweighted).  2 \n",
            "\n",
            "[1] 0.5344903\n",
            "\n",
            "Estimate...  14.75 \n",
            "AI SE......  24.717 \n",
            "T-stat.....  0.59676 \n",
            "p.val......  0.55067 \n",
            "\n",
            "Original number of observations..............  13 \n",
            "Original number of treated obs...............  4 \n",
            "Matched number of observations...............  4 \n",
            "Matched number of observations  (unweighted).  4 \n",
            "\n"
          ],
          "name": "stdout"
        }
      ]
    },
    {
      "cell_type": "code",
      "metadata": {
        "id": "zYAGGuEVzQmQ",
        "colab": {
          "base_uri": "https://localhost:8080/",
          "height": 1000
        },
        "outputId": "9439d924-42ca-4131-836c-56247d4b7642"
      },
      "source": [
        "fi_sens"
      ],
      "execution_count": null,
      "outputs": [
        {
          "output_type": "display_data",
          "data": {
            "text/plain": [
              "$Gamma\n",
              "[1] 3\n",
              "\n",
              "$GammaInc\n",
              "[1] 0.5\n",
              "\n",
              "$pval\n",
              "[1] 0.2326\n",
              "\n",
              "$msg\n",
              "[1] \"Rosenbaum Sensitivity Test for Wilcoxon Signed Rank P-Value \\n\"\n",
              "\n",
              "$bounds\n",
              "  Gamma Lower bound Upper bound\n",
              "1   1.0      0.2326      0.2326\n",
              "2   1.5      0.1318      0.3547\n",
              "3   2.0      0.0778      0.4486\n",
              "4   2.5      0.0470      0.5230\n",
              "5   3.0      0.0289      0.5835\n",
              "\n",
              "$note\n",
              "[1] \"Note: Gamma is Odds of Differential Assignment To\\n Treatment Due to Unobserved Factors \\n\"\n",
              "\n",
              "$Gamma\n",
              "[1] 3\n",
              "\n",
              "$GammaInc\n",
              "[1] 0.5\n",
              "\n",
              "$pval\n",
              "[1] 0.3575\n",
              "\n",
              "$msg\n",
              "[1] \"Rosenbaum Sensitivity Test for Wilcoxon Signed Rank P-Value \\n\"\n",
              "\n",
              "$bounds\n",
              "  Gamma Lower bound Upper bound\n",
              "1   1.0      0.3575      0.3575\n",
              "2   1.5      0.2280      0.5000\n",
              "3   2.0      0.1508      0.6019\n",
              "4   2.5      0.1020      0.6779\n",
              "5   3.0      0.0700      0.7365\n",
              "\n",
              "$note\n",
              "[1] \"Note: Gamma is Odds of Differential Assignment To\\n Treatment Due to Unobserved Factors \\n\"\n",
              "\n",
              "$Gamma\n",
              "[1] 3\n",
              "\n",
              "$GammaInc\n",
              "[1] 0.5\n",
              "\n",
              "$pval\n",
              "[1] 0.2326\n",
              "\n",
              "$msg\n",
              "[1] \"Rosenbaum Sensitivity Test for Wilcoxon Signed Rank P-Value \\n\"\n",
              "\n",
              "$bounds\n",
              "  Gamma Lower bound Upper bound\n",
              "1   1.0      0.2326      0.2326\n",
              "2   1.5      0.1318      0.3547\n",
              "3   2.0      0.0778      0.4486\n",
              "4   2.5      0.0470      0.5230\n",
              "5   3.0      0.0289      0.5835\n",
              "\n",
              "$note\n",
              "[1] \"Note: Gamma is Odds of Differential Assignment To\\n Treatment Due to Unobserved Factors \\n\"\n"
            ],
            "text/latex": "\\begin{description}\n\\item[\\$Gamma] 3\n\\item[\\$GammaInc] 0.5\n\\item[\\$pval] 0.2326\n\\item[\\$msg] 'Rosenbaum Sensitivity Test for Wilcoxon Signed Rank P-Value \\textbackslash{}n'\n\\item[\\$bounds] A data.frame: 5 × 3\n\\begin{tabular}{lll}\n Gamma & Lower bound & Upper bound\\\\\n <dbl> & <dbl> & <dbl>\\\\\n\\hline\n\t 1.0 & 0.2326 & 0.2326\\\\\n\t 1.5 & 0.1318 & 0.3547\\\\\n\t 2.0 & 0.0778 & 0.4486\\\\\n\t 2.5 & 0.0470 & 0.5230\\\\\n\t 3.0 & 0.0289 & 0.5835\\\\\n\\end{tabular}\n\n\\item[\\$note] 'Note: Gamma is Odds of Differential Assignment To\\textbackslash{}n Treatment Due to Unobserved Factors \\textbackslash{}n'\n\\item[\\$Gamma] 3\n\\item[\\$GammaInc] 0.5\n\\item[\\$pval] 0.3575\n\\item[\\$msg] 'Rosenbaum Sensitivity Test for Wilcoxon Signed Rank P-Value \\textbackslash{}n'\n\\item[\\$bounds] A data.frame: 5 × 3\n\\begin{tabular}{lll}\n Gamma & Lower bound & Upper bound\\\\\n <dbl> & <dbl> & <dbl>\\\\\n\\hline\n\t 1.0 & 0.3575 & 0.3575\\\\\n\t 1.5 & 0.2280 & 0.5000\\\\\n\t 2.0 & 0.1508 & 0.6019\\\\\n\t 2.5 & 0.1020 & 0.6779\\\\\n\t 3.0 & 0.0700 & 0.7365\\\\\n\\end{tabular}\n\n\\item[\\$note] 'Note: Gamma is Odds of Differential Assignment To\\textbackslash{}n Treatment Due to Unobserved Factors \\textbackslash{}n'\n\\item[\\$Gamma] 3\n\\item[\\$GammaInc] 0.5\n\\item[\\$pval] 0.2326\n\\item[\\$msg] 'Rosenbaum Sensitivity Test for Wilcoxon Signed Rank P-Value \\textbackslash{}n'\n\\item[\\$bounds] A data.frame: 5 × 3\n\\begin{tabular}{lll}\n Gamma & Lower bound & Upper bound\\\\\n <dbl> & <dbl> & <dbl>\\\\\n\\hline\n\t 1.0 & 0.2326 & 0.2326\\\\\n\t 1.5 & 0.1318 & 0.3547\\\\\n\t 2.0 & 0.0778 & 0.4486\\\\\n\t 2.5 & 0.0470 & 0.5230\\\\\n\t 3.0 & 0.0289 & 0.5835\\\\\n\\end{tabular}\n\n\\item[\\$note] 'Note: Gamma is Odds of Differential Assignment To\\textbackslash{}n Treatment Due to Unobserved Factors \\textbackslash{}n'\n\\end{description}\n",
            "text/markdown": "$Gamma\n:   3\n$GammaInc\n:   0.5\n$pval\n:   0.2326\n$msg\n:   'Rosenbaum Sensitivity Test for Wilcoxon Signed Rank P-Value \\n'\n$bounds\n:   \nA data.frame: 5 × 3\n\n| Gamma &lt;dbl&gt; | Lower bound &lt;dbl&gt; | Upper bound &lt;dbl&gt; |\n|---|---|---|\n| 1.0 | 0.2326 | 0.2326 |\n| 1.5 | 0.1318 | 0.3547 |\n| 2.0 | 0.0778 | 0.4486 |\n| 2.5 | 0.0470 | 0.5230 |\n| 3.0 | 0.0289 | 0.5835 |\n\n\n$note\n:   'Note: Gamma is Odds of Differential Assignment To\\n Treatment Due to Unobserved Factors \\n'\n$Gamma\n:   3\n$GammaInc\n:   0.5\n$pval\n:   0.3575\n$msg\n:   'Rosenbaum Sensitivity Test for Wilcoxon Signed Rank P-Value \\n'\n$bounds\n:   \nA data.frame: 5 × 3\n\n| Gamma &lt;dbl&gt; | Lower bound &lt;dbl&gt; | Upper bound &lt;dbl&gt; |\n|---|---|---|\n| 1.0 | 0.3575 | 0.3575 |\n| 1.5 | 0.2280 | 0.5000 |\n| 2.0 | 0.1508 | 0.6019 |\n| 2.5 | 0.1020 | 0.6779 |\n| 3.0 | 0.0700 | 0.7365 |\n\n\n$note\n:   'Note: Gamma is Odds of Differential Assignment To\\n Treatment Due to Unobserved Factors \\n'\n$Gamma\n:   3\n$GammaInc\n:   0.5\n$pval\n:   0.2326\n$msg\n:   'Rosenbaum Sensitivity Test for Wilcoxon Signed Rank P-Value \\n'\n$bounds\n:   \nA data.frame: 5 × 3\n\n| Gamma &lt;dbl&gt; | Lower bound &lt;dbl&gt; | Upper bound &lt;dbl&gt; |\n|---|---|---|\n| 1.0 | 0.2326 | 0.2326 |\n| 1.5 | 0.1318 | 0.3547 |\n| 2.0 | 0.0778 | 0.4486 |\n| 2.5 | 0.0470 | 0.5230 |\n| 3.0 | 0.0289 | 0.5835 |\n\n\n$note\n:   'Note: Gamma is Odds of Differential Assignment To\\n Treatment Due to Unobserved Factors \\n'\n\n\n",
            "text/html": [
              "<dl>\n",
              "\t<dt>$Gamma</dt>\n",
              "\t\t<dd>3</dd>\n",
              "\t<dt>$GammaInc</dt>\n",
              "\t\t<dd>0.5</dd>\n",
              "\t<dt>$pval</dt>\n",
              "\t\t<dd>0.2326</dd>\n",
              "\t<dt>$msg</dt>\n",
              "\t\t<dd>'Rosenbaum Sensitivity Test for Wilcoxon Signed Rank P-Value \\n'</dd>\n",
              "\t<dt>$bounds</dt>\n",
              "\t\t<dd><table>\n",
              "<caption>A data.frame: 5 × 3</caption>\n",
              "<thead>\n",
              "\t<tr><th scope=col>Gamma</th><th scope=col>Lower bound</th><th scope=col>Upper bound</th></tr>\n",
              "\t<tr><th scope=col>&lt;dbl&gt;</th><th scope=col>&lt;dbl&gt;</th><th scope=col>&lt;dbl&gt;</th></tr>\n",
              "</thead>\n",
              "<tbody>\n",
              "\t<tr><td>1.0</td><td>0.2326</td><td>0.2326</td></tr>\n",
              "\t<tr><td>1.5</td><td>0.1318</td><td>0.3547</td></tr>\n",
              "\t<tr><td>2.0</td><td>0.0778</td><td>0.4486</td></tr>\n",
              "\t<tr><td>2.5</td><td>0.0470</td><td>0.5230</td></tr>\n",
              "\t<tr><td>3.0</td><td>0.0289</td><td>0.5835</td></tr>\n",
              "</tbody>\n",
              "</table>\n",
              "</dd>\n",
              "\t<dt>$note</dt>\n",
              "\t\t<dd>'Note: Gamma is Odds of Differential Assignment To\\n Treatment Due to Unobserved Factors \\n'</dd>\n",
              "\t<dt>$Gamma</dt>\n",
              "\t\t<dd>3</dd>\n",
              "\t<dt>$GammaInc</dt>\n",
              "\t\t<dd>0.5</dd>\n",
              "\t<dt>$pval</dt>\n",
              "\t\t<dd>0.3575</dd>\n",
              "\t<dt>$msg</dt>\n",
              "\t\t<dd>'Rosenbaum Sensitivity Test for Wilcoxon Signed Rank P-Value \\n'</dd>\n",
              "\t<dt>$bounds</dt>\n",
              "\t\t<dd><table>\n",
              "<caption>A data.frame: 5 × 3</caption>\n",
              "<thead>\n",
              "\t<tr><th scope=col>Gamma</th><th scope=col>Lower bound</th><th scope=col>Upper bound</th></tr>\n",
              "\t<tr><th scope=col>&lt;dbl&gt;</th><th scope=col>&lt;dbl&gt;</th><th scope=col>&lt;dbl&gt;</th></tr>\n",
              "</thead>\n",
              "<tbody>\n",
              "\t<tr><td>1.0</td><td>0.3575</td><td>0.3575</td></tr>\n",
              "\t<tr><td>1.5</td><td>0.2280</td><td>0.5000</td></tr>\n",
              "\t<tr><td>2.0</td><td>0.1508</td><td>0.6019</td></tr>\n",
              "\t<tr><td>2.5</td><td>0.1020</td><td>0.6779</td></tr>\n",
              "\t<tr><td>3.0</td><td>0.0700</td><td>0.7365</td></tr>\n",
              "</tbody>\n",
              "</table>\n",
              "</dd>\n",
              "\t<dt>$note</dt>\n",
              "\t\t<dd>'Note: Gamma is Odds of Differential Assignment To\\n Treatment Due to Unobserved Factors \\n'</dd>\n",
              "\t<dt>$Gamma</dt>\n",
              "\t\t<dd>3</dd>\n",
              "\t<dt>$GammaInc</dt>\n",
              "\t\t<dd>0.5</dd>\n",
              "\t<dt>$pval</dt>\n",
              "\t\t<dd>0.2326</dd>\n",
              "\t<dt>$msg</dt>\n",
              "\t\t<dd>'Rosenbaum Sensitivity Test for Wilcoxon Signed Rank P-Value \\n'</dd>\n",
              "\t<dt>$bounds</dt>\n",
              "\t\t<dd><table>\n",
              "<caption>A data.frame: 5 × 3</caption>\n",
              "<thead>\n",
              "\t<tr><th scope=col>Gamma</th><th scope=col>Lower bound</th><th scope=col>Upper bound</th></tr>\n",
              "\t<tr><th scope=col>&lt;dbl&gt;</th><th scope=col>&lt;dbl&gt;</th><th scope=col>&lt;dbl&gt;</th></tr>\n",
              "</thead>\n",
              "<tbody>\n",
              "\t<tr><td>1.0</td><td>0.2326</td><td>0.2326</td></tr>\n",
              "\t<tr><td>1.5</td><td>0.1318</td><td>0.3547</td></tr>\n",
              "\t<tr><td>2.0</td><td>0.0778</td><td>0.4486</td></tr>\n",
              "\t<tr><td>2.5</td><td>0.0470</td><td>0.5230</td></tr>\n",
              "\t<tr><td>3.0</td><td>0.0289</td><td>0.5835</td></tr>\n",
              "</tbody>\n",
              "</table>\n",
              "</dd>\n",
              "\t<dt>$note</dt>\n",
              "\t\t<dd>'Note: Gamma is Odds of Differential Assignment To\\n Treatment Due to Unobserved Factors \\n'</dd>\n",
              "</dl>\n"
            ]
          },
          "metadata": {
            "tags": []
          }
        }
      ]
    },
    {
      "cell_type": "code",
      "metadata": {
        "id": "gYtx9unLjXqO",
        "colab": {
          "base_uri": "https://localhost:8080/",
          "height": 50
        },
        "outputId": "0bd5ae9d-c124-4e30-e4b7-f6ab8a996b24"
      },
      "source": [
        "dates = as.Date(mcallister$Class.Date, \"%m/%d/%Y\")\n",
        "numerics = as.numeric(dates)\n",
        "numerics"
      ],
      "execution_count": null,
      "outputs": [
        {
          "output_type": "display_data",
          "data": {
            "text/plain": [
              " [1] 18274 18276 18281 18283 18288 18290 18295 18297 18302 18304 18311 18316\n",
              "[13] 18318 18323 18325 18330 18332 18337 18339"
            ],
            "text/latex": "\\begin{enumerate*}\n\\item 18274\n\\item 18276\n\\item 18281\n\\item 18283\n\\item 18288\n\\item 18290\n\\item 18295\n\\item 18297\n\\item 18302\n\\item 18304\n\\item 18311\n\\item 18316\n\\item 18318\n\\item 18323\n\\item 18325\n\\item 18330\n\\item 18332\n\\item 18337\n\\item 18339\n\\end{enumerate*}\n",
            "text/markdown": "1. 18274\n2. 18276\n3. 18281\n4. 18283\n5. 18288\n6. 18290\n7. 18295\n8. 18297\n9. 18302\n10. 18304\n11. 18311\n12. 18316\n13. 18318\n14. 18323\n15. 18325\n16. 18330\n17. 18332\n18. 18337\n19. 18339\n\n\n",
            "text/html": [
              "<style>\n",
              ".list-inline {list-style: none; margin:0; padding: 0}\n",
              ".list-inline>li {display: inline-block}\n",
              ".list-inline>li:not(:last-child)::after {content: \"\\00b7\"; padding: 0 .5ex}\n",
              "</style>\n",
              "<ol class=list-inline><li>18274</li><li>18276</li><li>18281</li><li>18283</li><li>18288</li><li>18290</li><li>18295</li><li>18297</li><li>18302</li><li>18304</li><li>18311</li><li>18316</li><li>18318</li><li>18323</li><li>18325</li><li>18330</li><li>18332</li><li>18337</li><li>18339</li></ol>\n"
            ]
          },
          "metadata": {
            "tags": []
          }
        }
      ]
    },
    {
      "cell_type": "code",
      "metadata": {
        "id": "t4lJQKVglG_n",
        "colab": {
          "base_uri": "https://localhost:8080/",
          "height": 67
        },
        "outputId": "933abae3-81a0-4c67-fa7d-d6d012462016"
      },
      "source": [
        "install.packages(\"rbounds\")"
      ],
      "execution_count": null,
      "outputs": [
        {
          "output_type": "stream",
          "text": [
            "Installing package into ‘/usr/local/lib/R/site-library’\n",
            "(as ‘lib’ is unspecified)\n",
            "\n"
          ],
          "name": "stderr"
        }
      ]
    },
    {
      "cell_type": "code",
      "metadata": {
        "id": "GPbVzzdXlL-W",
        "colab": {
          "base_uri": "https://localhost:8080/",
          "height": 475
        },
        "outputId": "4ff26187-dcbe-43a3-fab3-9b49e6f209a9"
      },
      "source": [
        "mcallister"
      ],
      "execution_count": null,
      "outputs": [
        {
          "output_type": "display_data",
          "data": {
            "text/plain": [
              "   ...1 Class          Score Magnitude Judgement Talk_Means Talk_SDs \n",
              "1   0   Class_1.1.wav  -0.1   5.5      -0.55     147.37500   83.12230\n",
              "2   1   Class_1.2.wav  -0.2   8.4      -1.68     133.00000   55.38050\n",
              "3   2   Class_2.1.wav  -0.3   9.7      -2.91     150.73333  108.22032\n",
              "4   3   Class_2.2.wav  -0.3   8.8      -2.64     132.00000   91.15116\n",
              "5   4   Class_3.1.wav  -0.4  10.4      -4.16     140.05882   63.18868\n",
              "6   5   Class_3.2.wav  -0.2   9.3      -1.86     119.52941   74.10222\n",
              "7   6   Class_4.1.wav  -0.3   6.2      -1.86     118.00000   55.33921\n",
              "8   7   Class_4.2.wav  -0.2  10.2      -2.04     160.81250  119.68916\n",
              "9   8   Class_5.1.wav   0.0   6.7       0.00     109.00000   83.23140\n",
              "10  9   Class_5.2.wav  -0.2   5.3      -1.06      92.94118   49.99309\n",
              "11 10   Class_6.2.wav   0.0   6.8       0.00     146.75000  133.24839\n",
              "12 11   Class_7.1.wav  -0.1   6.5      -0.65     111.50000   44.55558\n",
              "13 12   Class_7.2.wav  -0.2   8.0      -1.60     103.11765   49.60706\n",
              "14 13   Class_8.1.wav   0.0   8.9       0.00     194.00000  133.17157\n",
              "15 14   Class_8.2.wav  -0.2   5.9      -1.18     149.35294  103.27145\n",
              "16 15   Class_9.1.wav   0.0   1.3       0.00     124.33333   73.00554\n",
              "17 16   Class_9.2.wav  -0.2   8.7      -1.74     130.11765   76.87724\n",
              "18 17   Class_10.1.wav -0.1   4.8      -0.48     252.78571  463.88861\n",
              "19 18   Class_10.2.wav -0.1   7.5      -0.75     151.71429   86.62246\n",
              "   Emojis_Handraises Video.Mean Video.SD  Prep.Mean Prep.SD   Class.Date\n",
              "1   86               3.578947   0.4937280       NA         NA 1/13/2020 \n",
              "2  124                     NA          NA 3.105263  0.3068922 1/15/2020 \n",
              "3  133               3.333333   0.5962848       NA         NA 1/20/2020 \n",
              "4  118                     NA          NA 3.650000  0.4769696 1/22/2020 \n",
              "5  167               3.578947   0.4937280       NA         NA 1/27/2020 \n",
              "6  148                     NA          NA       NA         NA 1/29/2020 \n",
              "7   98                     NA          NA       NA         NA 2/3/2020  \n",
              "8  131               3.714286   0.4517540       NA         NA 2/5/2020  \n",
              "9   91               3.421053   0.4937280 3.000000  0.0000000 2/10/2020 \n",
              "10 112                     NA          NA 3.227273  0.6695873 2/12/2020 \n",
              "11 107                     NA          NA       NA         NA 2/19/2020 \n",
              "12  91                     NA          NA 3.722222  0.4479032 2/24/2020 \n",
              "13 133               3.380952   0.6529195       NA         NA 2/26/2020 \n",
              "14 162                     NA          NA 3.333333  0.5634362 3/2/2020  \n",
              "15  89               3.733333   0.4422166       NA         NA 3/4/2020  \n",
              "16 104               3.454545   0.4979296       NA         NA 3/9/2020  \n",
              "17 152                     NA          NA       NA         NA 3/11/2020 \n",
              "18 103                     NA          NA       NA         NA 3/16/2020 \n",
              "19 141                     NA          NA 3.000000  0.0000000 3/18/2020 \n",
              "   Number.of.Students\n",
              "1  18                \n",
              "2  19                \n",
              "3  17                \n",
              "4  18                \n",
              "5  19                \n",
              "6  19                \n",
              "7  17                \n",
              "8  18                \n",
              "9  18                \n",
              "10 19                \n",
              "11 18                \n",
              "12 18                \n",
              "13 19                \n",
              "14 18                \n",
              "15 19                \n",
              "16 17                \n",
              "17 19                \n",
              "18 16                \n",
              "19 16                "
            ],
            "text/latex": "A data.frame: 19 × 14\n\\begin{tabular}{llllllllllllll}\n ...1 & Class & Score & Magnitude & Judgement & Talk\\_Means & Talk\\_SDs & Emojis\\_Handraises & Video.Mean & Video.SD & Prep.Mean & Prep.SD & Class.Date & Number.of.Students\\\\\n <int> & <chr> & <dbl> & <dbl> & <dbl> & <dbl> & <dbl> & <int> & <dbl> & <dbl> & <dbl> & <dbl> & <chr> & <int>\\\\\n\\hline\n\t  0 & Class\\_1.1.wav  & -0.1 &  5.5 & -0.55 & 147.37500 &  83.12230 &  86 & 3.578947 & 0.4937280 &       NA &        NA & 1/13/2020 & 18\\\\\n\t  1 & Class\\_1.2.wav  & -0.2 &  8.4 & -1.68 & 133.00000 &  55.38050 & 124 &       NA &        NA & 3.105263 & 0.3068922 & 1/15/2020 & 19\\\\\n\t  2 & Class\\_2.1.wav  & -0.3 &  9.7 & -2.91 & 150.73333 & 108.22032 & 133 & 3.333333 & 0.5962848 &       NA &        NA & 1/20/2020 & 17\\\\\n\t  3 & Class\\_2.2.wav  & -0.3 &  8.8 & -2.64 & 132.00000 &  91.15116 & 118 &       NA &        NA & 3.650000 & 0.4769696 & 1/22/2020 & 18\\\\\n\t  4 & Class\\_3.1.wav  & -0.4 & 10.4 & -4.16 & 140.05882 &  63.18868 & 167 & 3.578947 & 0.4937280 &       NA &        NA & 1/27/2020 & 19\\\\\n\t  5 & Class\\_3.2.wav  & -0.2 &  9.3 & -1.86 & 119.52941 &  74.10222 & 148 &       NA &        NA &       NA &        NA & 1/29/2020 & 19\\\\\n\t  6 & Class\\_4.1.wav  & -0.3 &  6.2 & -1.86 & 118.00000 &  55.33921 &  98 &       NA &        NA &       NA &        NA & 2/3/2020  & 17\\\\\n\t  7 & Class\\_4.2.wav  & -0.2 & 10.2 & -2.04 & 160.81250 & 119.68916 & 131 & 3.714286 & 0.4517540 &       NA &        NA & 2/5/2020  & 18\\\\\n\t  8 & Class\\_5.1.wav  &  0.0 &  6.7 &  0.00 & 109.00000 &  83.23140 &  91 & 3.421053 & 0.4937280 & 3.000000 & 0.0000000 & 2/10/2020 & 18\\\\\n\t  9 & Class\\_5.2.wav  & -0.2 &  5.3 & -1.06 &  92.94118 &  49.99309 & 112 &       NA &        NA & 3.227273 & 0.6695873 & 2/12/2020 & 19\\\\\n\t 10 & Class\\_6.2.wav  &  0.0 &  6.8 &  0.00 & 146.75000 & 133.24839 & 107 &       NA &        NA &       NA &        NA & 2/19/2020 & 18\\\\\n\t 11 & Class\\_7.1.wav  & -0.1 &  6.5 & -0.65 & 111.50000 &  44.55558 &  91 &       NA &        NA & 3.722222 & 0.4479032 & 2/24/2020 & 18\\\\\n\t 12 & Class\\_7.2.wav  & -0.2 &  8.0 & -1.60 & 103.11765 &  49.60706 & 133 & 3.380952 & 0.6529195 &       NA &        NA & 2/26/2020 & 19\\\\\n\t 13 & Class\\_8.1.wav  &  0.0 &  8.9 &  0.00 & 194.00000 & 133.17157 & 162 &       NA &        NA & 3.333333 & 0.5634362 & 3/2/2020  & 18\\\\\n\t 14 & Class\\_8.2.wav  & -0.2 &  5.9 & -1.18 & 149.35294 & 103.27145 &  89 & 3.733333 & 0.4422166 &       NA &        NA & 3/4/2020  & 19\\\\\n\t 15 & Class\\_9.1.wav  &  0.0 &  1.3 &  0.00 & 124.33333 &  73.00554 & 104 & 3.454545 & 0.4979296 &       NA &        NA & 3/9/2020  & 17\\\\\n\t 16 & Class\\_9.2.wav  & -0.2 &  8.7 & -1.74 & 130.11765 &  76.87724 & 152 &       NA &        NA &       NA &        NA & 3/11/2020 & 19\\\\\n\t 17 & Class\\_10.1.wav & -0.1 &  4.8 & -0.48 & 252.78571 & 463.88861 & 103 &       NA &        NA &       NA &        NA & 3/16/2020 & 16\\\\\n\t 18 & Class\\_10.2.wav & -0.1 &  7.5 & -0.75 & 151.71429 &  86.62246 & 141 &       NA &        NA & 3.000000 & 0.0000000 & 3/18/2020 & 16\\\\\n\\end{tabular}\n",
            "text/markdown": "\nA data.frame: 19 × 14\n\n| ...1 &lt;int&gt; | Class &lt;chr&gt; | Score &lt;dbl&gt; | Magnitude &lt;dbl&gt; | Judgement &lt;dbl&gt; | Talk_Means &lt;dbl&gt; | Talk_SDs &lt;dbl&gt; | Emojis_Handraises &lt;int&gt; | Video.Mean &lt;dbl&gt; | Video.SD &lt;dbl&gt; | Prep.Mean &lt;dbl&gt; | Prep.SD &lt;dbl&gt; | Class.Date &lt;chr&gt; | Number.of.Students &lt;int&gt; |\n|---|---|---|---|---|---|---|---|---|---|---|---|---|---|\n|  0 | Class_1.1.wav  | -0.1 |  5.5 | -0.55 | 147.37500 |  83.12230 |  86 | 3.578947 | 0.4937280 |       NA |        NA | 1/13/2020 | 18 |\n|  1 | Class_1.2.wav  | -0.2 |  8.4 | -1.68 | 133.00000 |  55.38050 | 124 |       NA |        NA | 3.105263 | 0.3068922 | 1/15/2020 | 19 |\n|  2 | Class_2.1.wav  | -0.3 |  9.7 | -2.91 | 150.73333 | 108.22032 | 133 | 3.333333 | 0.5962848 |       NA |        NA | 1/20/2020 | 17 |\n|  3 | Class_2.2.wav  | -0.3 |  8.8 | -2.64 | 132.00000 |  91.15116 | 118 |       NA |        NA | 3.650000 | 0.4769696 | 1/22/2020 | 18 |\n|  4 | Class_3.1.wav  | -0.4 | 10.4 | -4.16 | 140.05882 |  63.18868 | 167 | 3.578947 | 0.4937280 |       NA |        NA | 1/27/2020 | 19 |\n|  5 | Class_3.2.wav  | -0.2 |  9.3 | -1.86 | 119.52941 |  74.10222 | 148 |       NA |        NA |       NA |        NA | 1/29/2020 | 19 |\n|  6 | Class_4.1.wav  | -0.3 |  6.2 | -1.86 | 118.00000 |  55.33921 |  98 |       NA |        NA |       NA |        NA | 2/3/2020  | 17 |\n|  7 | Class_4.2.wav  | -0.2 | 10.2 | -2.04 | 160.81250 | 119.68916 | 131 | 3.714286 | 0.4517540 |       NA |        NA | 2/5/2020  | 18 |\n|  8 | Class_5.1.wav  |  0.0 |  6.7 |  0.00 | 109.00000 |  83.23140 |  91 | 3.421053 | 0.4937280 | 3.000000 | 0.0000000 | 2/10/2020 | 18 |\n|  9 | Class_5.2.wav  | -0.2 |  5.3 | -1.06 |  92.94118 |  49.99309 | 112 |       NA |        NA | 3.227273 | 0.6695873 | 2/12/2020 | 19 |\n| 10 | Class_6.2.wav  |  0.0 |  6.8 |  0.00 | 146.75000 | 133.24839 | 107 |       NA |        NA |       NA |        NA | 2/19/2020 | 18 |\n| 11 | Class_7.1.wav  | -0.1 |  6.5 | -0.65 | 111.50000 |  44.55558 |  91 |       NA |        NA | 3.722222 | 0.4479032 | 2/24/2020 | 18 |\n| 12 | Class_7.2.wav  | -0.2 |  8.0 | -1.60 | 103.11765 |  49.60706 | 133 | 3.380952 | 0.6529195 |       NA |        NA | 2/26/2020 | 19 |\n| 13 | Class_8.1.wav  |  0.0 |  8.9 |  0.00 | 194.00000 | 133.17157 | 162 |       NA |        NA | 3.333333 | 0.5634362 | 3/2/2020  | 18 |\n| 14 | Class_8.2.wav  | -0.2 |  5.9 | -1.18 | 149.35294 | 103.27145 |  89 | 3.733333 | 0.4422166 |       NA |        NA | 3/4/2020  | 19 |\n| 15 | Class_9.1.wav  |  0.0 |  1.3 |  0.00 | 124.33333 |  73.00554 | 104 | 3.454545 | 0.4979296 |       NA |        NA | 3/9/2020  | 17 |\n| 16 | Class_9.2.wav  | -0.2 |  8.7 | -1.74 | 130.11765 |  76.87724 | 152 |       NA |        NA |       NA |        NA | 3/11/2020 | 19 |\n| 17 | Class_10.1.wav | -0.1 |  4.8 | -0.48 | 252.78571 | 463.88861 | 103 |       NA |        NA |       NA |        NA | 3/16/2020 | 16 |\n| 18 | Class_10.2.wav | -0.1 |  7.5 | -0.75 | 151.71429 |  86.62246 | 141 |       NA |        NA | 3.000000 | 0.0000000 | 3/18/2020 | 16 |\n\n",
            "text/html": [
              "<table>\n",
              "<caption>A data.frame: 19 × 14</caption>\n",
              "<thead>\n",
              "\t<tr><th scope=col>...1</th><th scope=col>Class</th><th scope=col>Score</th><th scope=col>Magnitude</th><th scope=col>Judgement</th><th scope=col>Talk_Means</th><th scope=col>Talk_SDs</th><th scope=col>Emojis_Handraises</th><th scope=col>Video.Mean</th><th scope=col>Video.SD</th><th scope=col>Prep.Mean</th><th scope=col>Prep.SD</th><th scope=col>Class.Date</th><th scope=col>Number.of.Students</th></tr>\n",
              "\t<tr><th scope=col>&lt;int&gt;</th><th scope=col>&lt;chr&gt;</th><th scope=col>&lt;dbl&gt;</th><th scope=col>&lt;dbl&gt;</th><th scope=col>&lt;dbl&gt;</th><th scope=col>&lt;dbl&gt;</th><th scope=col>&lt;dbl&gt;</th><th scope=col>&lt;int&gt;</th><th scope=col>&lt;dbl&gt;</th><th scope=col>&lt;dbl&gt;</th><th scope=col>&lt;dbl&gt;</th><th scope=col>&lt;dbl&gt;</th><th scope=col>&lt;chr&gt;</th><th scope=col>&lt;int&gt;</th></tr>\n",
              "</thead>\n",
              "<tbody>\n",
              "\t<tr><td> 0</td><td>Class_1.1.wav </td><td>-0.1</td><td> 5.5</td><td>-0.55</td><td>147.37500</td><td> 83.12230</td><td> 86</td><td>3.578947</td><td>0.4937280</td><td>      NA</td><td>       NA</td><td>1/13/2020</td><td>18</td></tr>\n",
              "\t<tr><td> 1</td><td>Class_1.2.wav </td><td>-0.2</td><td> 8.4</td><td>-1.68</td><td>133.00000</td><td> 55.38050</td><td>124</td><td>      NA</td><td>       NA</td><td>3.105263</td><td>0.3068922</td><td>1/15/2020</td><td>19</td></tr>\n",
              "\t<tr><td> 2</td><td>Class_2.1.wav </td><td>-0.3</td><td> 9.7</td><td>-2.91</td><td>150.73333</td><td>108.22032</td><td>133</td><td>3.333333</td><td>0.5962848</td><td>      NA</td><td>       NA</td><td>1/20/2020</td><td>17</td></tr>\n",
              "\t<tr><td> 3</td><td>Class_2.2.wav </td><td>-0.3</td><td> 8.8</td><td>-2.64</td><td>132.00000</td><td> 91.15116</td><td>118</td><td>      NA</td><td>       NA</td><td>3.650000</td><td>0.4769696</td><td>1/22/2020</td><td>18</td></tr>\n",
              "\t<tr><td> 4</td><td>Class_3.1.wav </td><td>-0.4</td><td>10.4</td><td>-4.16</td><td>140.05882</td><td> 63.18868</td><td>167</td><td>3.578947</td><td>0.4937280</td><td>      NA</td><td>       NA</td><td>1/27/2020</td><td>19</td></tr>\n",
              "\t<tr><td> 5</td><td>Class_3.2.wav </td><td>-0.2</td><td> 9.3</td><td>-1.86</td><td>119.52941</td><td> 74.10222</td><td>148</td><td>      NA</td><td>       NA</td><td>      NA</td><td>       NA</td><td>1/29/2020</td><td>19</td></tr>\n",
              "\t<tr><td> 6</td><td>Class_4.1.wav </td><td>-0.3</td><td> 6.2</td><td>-1.86</td><td>118.00000</td><td> 55.33921</td><td> 98</td><td>      NA</td><td>       NA</td><td>      NA</td><td>       NA</td><td>2/3/2020 </td><td>17</td></tr>\n",
              "\t<tr><td> 7</td><td>Class_4.2.wav </td><td>-0.2</td><td>10.2</td><td>-2.04</td><td>160.81250</td><td>119.68916</td><td>131</td><td>3.714286</td><td>0.4517540</td><td>      NA</td><td>       NA</td><td>2/5/2020 </td><td>18</td></tr>\n",
              "\t<tr><td> 8</td><td>Class_5.1.wav </td><td> 0.0</td><td> 6.7</td><td> 0.00</td><td>109.00000</td><td> 83.23140</td><td> 91</td><td>3.421053</td><td>0.4937280</td><td>3.000000</td><td>0.0000000</td><td>2/10/2020</td><td>18</td></tr>\n",
              "\t<tr><td> 9</td><td>Class_5.2.wav </td><td>-0.2</td><td> 5.3</td><td>-1.06</td><td> 92.94118</td><td> 49.99309</td><td>112</td><td>      NA</td><td>       NA</td><td>3.227273</td><td>0.6695873</td><td>2/12/2020</td><td>19</td></tr>\n",
              "\t<tr><td>10</td><td>Class_6.2.wav </td><td> 0.0</td><td> 6.8</td><td> 0.00</td><td>146.75000</td><td>133.24839</td><td>107</td><td>      NA</td><td>       NA</td><td>      NA</td><td>       NA</td><td>2/19/2020</td><td>18</td></tr>\n",
              "\t<tr><td>11</td><td>Class_7.1.wav </td><td>-0.1</td><td> 6.5</td><td>-0.65</td><td>111.50000</td><td> 44.55558</td><td> 91</td><td>      NA</td><td>       NA</td><td>3.722222</td><td>0.4479032</td><td>2/24/2020</td><td>18</td></tr>\n",
              "\t<tr><td>12</td><td>Class_7.2.wav </td><td>-0.2</td><td> 8.0</td><td>-1.60</td><td>103.11765</td><td> 49.60706</td><td>133</td><td>3.380952</td><td>0.6529195</td><td>      NA</td><td>       NA</td><td>2/26/2020</td><td>19</td></tr>\n",
              "\t<tr><td>13</td><td>Class_8.1.wav </td><td> 0.0</td><td> 8.9</td><td> 0.00</td><td>194.00000</td><td>133.17157</td><td>162</td><td>      NA</td><td>       NA</td><td>3.333333</td><td>0.5634362</td><td>3/2/2020 </td><td>18</td></tr>\n",
              "\t<tr><td>14</td><td>Class_8.2.wav </td><td>-0.2</td><td> 5.9</td><td>-1.18</td><td>149.35294</td><td>103.27145</td><td> 89</td><td>3.733333</td><td>0.4422166</td><td>      NA</td><td>       NA</td><td>3/4/2020 </td><td>19</td></tr>\n",
              "\t<tr><td>15</td><td>Class_9.1.wav </td><td> 0.0</td><td> 1.3</td><td> 0.00</td><td>124.33333</td><td> 73.00554</td><td>104</td><td>3.454545</td><td>0.4979296</td><td>      NA</td><td>       NA</td><td>3/9/2020 </td><td>17</td></tr>\n",
              "\t<tr><td>16</td><td>Class_9.2.wav </td><td>-0.2</td><td> 8.7</td><td>-1.74</td><td>130.11765</td><td> 76.87724</td><td>152</td><td>      NA</td><td>       NA</td><td>      NA</td><td>       NA</td><td>3/11/2020</td><td>19</td></tr>\n",
              "\t<tr><td>17</td><td>Class_10.1.wav</td><td>-0.1</td><td> 4.8</td><td>-0.48</td><td>252.78571</td><td>463.88861</td><td>103</td><td>      NA</td><td>       NA</td><td>      NA</td><td>       NA</td><td>3/16/2020</td><td>16</td></tr>\n",
              "\t<tr><td>18</td><td>Class_10.2.wav</td><td>-0.1</td><td> 7.5</td><td>-0.75</td><td>151.71429</td><td> 86.62246</td><td>141</td><td>      NA</td><td>       NA</td><td>3.000000</td><td>0.0000000</td><td>3/18/2020</td><td>16</td></tr>\n",
              "</tbody>\n",
              "</table>\n"
            ]
          },
          "metadata": {
            "tags": []
          }
        }
      ]
    },
    {
      "cell_type": "code",
      "metadata": {
        "id": "nfDVO0wIxmFq"
      },
      "source": [
        ""
      ],
      "execution_count": null,
      "outputs": []
    }
  ]
}